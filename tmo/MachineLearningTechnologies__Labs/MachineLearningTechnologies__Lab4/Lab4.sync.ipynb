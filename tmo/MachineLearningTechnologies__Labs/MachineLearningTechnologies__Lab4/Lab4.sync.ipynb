{
 "cells": [
  {
   "cell_type": "code",
   "execution_count": null,
   "id": "f4ae5527",
   "metadata": {},
   "outputs": [],
   "source": []
  },
  {
   "cell_type": "markdown",
   "id": "7331113c",
   "metadata": {},
   "source": [
    "# Лабораторная работа №4\n",
    "# Линейные модели, SVM и деревья решений.\n",
    "\n",
    "Выполнил: **Пакало А. С., РТ5-61Б**"
   ]
  },
  {
   "cell_type": "markdown",
   "id": "4b92f147",
   "metadata": {},
   "source": [
    "## Задание\n",
    "1. Выберите набор данных (датасет) для решения задачи классификации или регрессии.\n",
    "1. В случае необходимости проведите удаление или заполнение пропусков и кодирование категориальных признаков.\n",
    "1. С использованием метода train_test_split разделите выборку на обучающую и тестовую.\n",
    "1. Обучите следующие модели:\n",
    "  - одну из линейных моделей (линейную или полиномиальную регрессию при решении задачи регрессии, логистическую регрессию при решении задачи классификации);\n",
    "  - SVM;\n",
    "  - дерево решений.\n",
    "1. Оцените качество моделей с помощью двух подходящих для задачи метрик. Сравните качество полученных моделей.\n",
    "1. Постройте график, показывающий важность признаков в дереве решений.\n",
    "1. Визуализируйте дерево решений или выведите правила дерева решений в текстовом виде."
   ]
  },
  {
   "cell_type": "markdown",
   "id": "c1cdaa93",
   "metadata": {},
   "source": [
    "## Текстовое описание набора данных\n",
    "Для обучения моделей был выбран набор данных по недельным продажам в сети\n",
    "магазинов Walmart ([Walmart Dataset](https://www.kaggle.com/datasets/yasserh/walmart-dataset)). На основе данного датасета будем решать задачу регресии.\n",
    "\n",
    "В данном наборе данных присутствуют следующие столбцы:\n",
    "\n",
    "* Store — номер магазина;\n",
    "* Date — дата начала недели продаж;\n",
    "* Weekly_Sales — недельные продажи магазина. Является целевым признаком;\n",
    "* Holiday_Flag — бинарный признак отсутствия/наличния (0/1) праздника;\n",
    "* Temperature — температура в день продаж;\n",
    "* Fuel_Price — цена топлива в регионе;\n",
    "* [CPI](https://ru.wikipedia.org/wiki/%D0%98%D0%BD%D0%B4%D0%B5%D0%BA%D1%81_%D0%BF%D0%BE%D1%82%D1%80%D0%B5%D0%B1%D0%B8%D1%82%D0%B5%D0%BB%D1%8C%D1%81%D0%BA%D0%B8%D1%85_%D1%86%D0%B5%D0%BD) — индекс потребительских цен;\n",
    "* Unemployment — показатель безработицы.\n",
    "\n",
    "Так как данных очень много, перед тем как приступить к анализу, проведем обзор данных и, возможно, потребуется их предобработка, чтобы датасет стал более удобным и пригодным к проведению исследования.\n",
    "\n",
    "Таким образом исследование пройдет в 6 этапов:\n",
    "- загрузка данных,\n",
    "- проведение разведочного анализа данных и предобработка данных,\n",
    "- разделение на обучающую и тестовую выборку,\n",
    "- выбор метрики,\n",
    "- обучение моделей,\n",
    "- сравнение значений метрики."
   ]
  },
  {
   "cell_type": "markdown",
   "id": "a120abbf",
   "metadata": {},
   "source": [
    "## Импортирование необходимых библиотек, подготовка окружения"
   ]
  },
  {
   "cell_type": "code",
   "execution_count": 36,
   "id": "8fbca43b",
   "metadata": {},
   "outputs": [],
   "source": [
    "# Основные библиотеки.\n",
    "from IPython.core.display import display_markdown\n",
    "import numpy as np\n",
    "import pandas as pd\n",
    "\n",
    "# Визуализция.\n",
    "import matplotlib.pyplot as plt\n",
    "import seaborn as sns\n",
    "\n",
    "# Для разбития выборки.\n",
    "from sklearn.model_selection import train_test_split\n",
    "from sklearn.preprocessing import MinMaxScaler\n",
    "from sklearn.pipeline import Pipeline\n",
    "from sklearn.compose import ColumnTransformer\n",
    "\n",
    "# Отрисовка статуса выполнения.\n",
    "from tqdm.notebook import tqdm\n",
    "\n",
    "# Типизация.\n",
    "from typing import List\n",
    "\n",
    "# Вывод данных.\n",
    "from IPython.display import display\n",
    "\n",
    "\n",
    "# Конфигурация визуализации.\n",
    "%matplotlib inline\n",
    "sns.set(style='ticks')"
   ]
  },
  {
   "cell_type": "markdown",
   "id": "fe626aef",
   "metadata": {},
   "source": [
    "## Загрузка данных\n",
    "### Считываем данные из .csv\n",
    "Загрузим файлы датасета в помощью библиотеки Pandas.\n",
    "\n",
    "Не смотря на то, что файлы имеют расширение txt они представляют собой данные\n",
    "в формате [CSV](https://ru.wikipedia.org/wiki/CSV). Часто в файлах такого\n",
    "формата в качестве разделителей используются символы \",\", \";\" или табуляция.\n",
    "Поэтому вызывая метод read_csv всегда стоит явно указывать разделитель данных\n",
    "с помощью параметра sep. Чтобы узнать какой разделитель используется в файле\n",
    "его рекомендуется предварительно посмотреть в любом текстовом редакторе."
   ]
  },
  {
   "cell_type": "code",
   "execution_count": 37,
   "id": "d5bb45d6",
   "metadata": {},
   "outputs": [],
   "source": [
    "walmart = pd.read_csv('data/Walmart.csv')"
   ]
  },
  {
   "cell_type": "markdown",
   "id": "7c12c8f1",
   "metadata": {},
   "source": [
    "## Проведение разведочного анализа данных. Построение графиков, необходимых для понимания структуры данных. Анализ и предобработка данных."
   ]
  },
  {
   "cell_type": "markdown",
   "id": "b0f13f50",
   "metadata": {},
   "source": [
    "Размеры датасета: (строки, колонки)."
   ]
  },
  {
   "cell_type": "code",
   "execution_count": 38,
   "id": "9ba361d7",
   "metadata": {},
   "outputs": [
    {
     "data": {
      "text/plain": [
       "(6435, 8)"
      ]
     },
     "execution_count": 38,
     "metadata": {},
     "output_type": "execute_result"
    }
   ],
   "source": [
    "walmart.shape"
   ]
  },
  {
   "cell_type": "markdown",
   "id": "d5922e8f",
   "metadata": {},
   "source": [
    "Общий вид данных таблицы:"
   ]
  },
  {
   "cell_type": "code",
   "execution_count": 39,
   "id": "42c0399c",
   "metadata": {},
   "outputs": [
    {
     "data": {
      "text/html": [
       "<div>\n",
       "<style scoped>\n",
       "    .dataframe tbody tr th:only-of-type {\n",
       "        vertical-align: middle;\n",
       "    }\n",
       "\n",
       "    .dataframe tbody tr th {\n",
       "        vertical-align: top;\n",
       "    }\n",
       "\n",
       "    .dataframe thead th {\n",
       "        text-align: right;\n",
       "    }\n",
       "</style>\n",
       "<table border=\"1\" class=\"dataframe\">\n",
       "  <thead>\n",
       "    <tr style=\"text-align: right;\">\n",
       "      <th></th>\n",
       "      <th>Store</th>\n",
       "      <th>Date</th>\n",
       "      <th>Weekly_Sales</th>\n",
       "      <th>Holiday_Flag</th>\n",
       "      <th>Temperature</th>\n",
       "      <th>Fuel_Price</th>\n",
       "      <th>CPI</th>\n",
       "      <th>Unemployment</th>\n",
       "    </tr>\n",
       "  </thead>\n",
       "  <tbody>\n",
       "    <tr>\n",
       "      <th>0</th>\n",
       "      <td>1</td>\n",
       "      <td>05-02-2010</td>\n",
       "      <td>1643690.90</td>\n",
       "      <td>0</td>\n",
       "      <td>42.31</td>\n",
       "      <td>2.572</td>\n",
       "      <td>211.096358</td>\n",
       "      <td>8.106</td>\n",
       "    </tr>\n",
       "    <tr>\n",
       "      <th>1</th>\n",
       "      <td>1</td>\n",
       "      <td>12-02-2010</td>\n",
       "      <td>1641957.44</td>\n",
       "      <td>1</td>\n",
       "      <td>38.51</td>\n",
       "      <td>2.548</td>\n",
       "      <td>211.242170</td>\n",
       "      <td>8.106</td>\n",
       "    </tr>\n",
       "    <tr>\n",
       "      <th>2</th>\n",
       "      <td>1</td>\n",
       "      <td>19-02-2010</td>\n",
       "      <td>1611968.17</td>\n",
       "      <td>0</td>\n",
       "      <td>39.93</td>\n",
       "      <td>2.514</td>\n",
       "      <td>211.289143</td>\n",
       "      <td>8.106</td>\n",
       "    </tr>\n",
       "    <tr>\n",
       "      <th>3</th>\n",
       "      <td>1</td>\n",
       "      <td>26-02-2010</td>\n",
       "      <td>1409727.59</td>\n",
       "      <td>0</td>\n",
       "      <td>46.63</td>\n",
       "      <td>2.561</td>\n",
       "      <td>211.319643</td>\n",
       "      <td>8.106</td>\n",
       "    </tr>\n",
       "    <tr>\n",
       "      <th>4</th>\n",
       "      <td>1</td>\n",
       "      <td>05-03-2010</td>\n",
       "      <td>1554806.68</td>\n",
       "      <td>0</td>\n",
       "      <td>46.50</td>\n",
       "      <td>2.625</td>\n",
       "      <td>211.350143</td>\n",
       "      <td>8.106</td>\n",
       "    </tr>\n",
       "  </tbody>\n",
       "</table>\n",
       "</div>"
      ],
      "text/plain": [
       "   Store        Date  Weekly_Sales  Holiday_Flag  Temperature  Fuel_Price  \\\n",
       "0      1  05-02-2010    1643690.90             0        42.31       2.572   \n",
       "1      1  12-02-2010    1641957.44             1        38.51       2.548   \n",
       "2      1  19-02-2010    1611968.17             0        39.93       2.514   \n",
       "3      1  26-02-2010    1409727.59             0        46.63       2.561   \n",
       "4      1  05-03-2010    1554806.68             0        46.50       2.625   \n",
       "\n",
       "          CPI  Unemployment  \n",
       "0  211.096358         8.106  \n",
       "1  211.242170         8.106  \n",
       "2  211.289143         8.106  \n",
       "3  211.319643         8.106  \n",
       "4  211.350143         8.106  "
      ]
     },
     "execution_count": 39,
     "metadata": {},
     "output_type": "execute_result"
    }
   ],
   "source": [
    "walmart.head()"
   ]
  },
  {
   "cell_type": "markdown",
   "id": "20be2bbb",
   "metadata": {},
   "source": [
    "Список колонок:"
   ]
  },
  {
   "cell_type": "code",
   "execution_count": 40,
   "id": "e22579d1",
   "metadata": {},
   "outputs": [
    {
     "data": {
      "text/plain": [
       "Index(['Store', 'Date', 'Weekly_Sales', 'Holiday_Flag', 'Temperature',\n",
       "       'Fuel_Price', 'CPI', 'Unemployment'],\n",
       "      dtype='object')"
      ]
     },
     "execution_count": 40,
     "metadata": {},
     "output_type": "execute_result"
    }
   ],
   "source": [
    "walmart.columns"
   ]
  },
  {
   "cell_type": "markdown",
   "id": "3d0918bd",
   "metadata": {},
   "source": [
    "Список колонок с типами данных:"
   ]
  },
  {
   "cell_type": "code",
   "execution_count": 41,
   "id": "97fc17c7",
   "metadata": {},
   "outputs": [
    {
     "data": {
      "text/plain": [
       "Store             int64\n",
       "Date             object\n",
       "Weekly_Sales    float64\n",
       "Holiday_Flag      int64\n",
       "Temperature     float64\n",
       "Fuel_Price      float64\n",
       "CPI             float64\n",
       "Unemployment    float64\n",
       "dtype: object"
      ]
     },
     "execution_count": 41,
     "metadata": {},
     "output_type": "execute_result"
    }
   ],
   "source": [
    "walmart.dtypes"
   ]
  },
  {
   "cell_type": "markdown",
   "id": "f22a2d01",
   "metadata": {},
   "source": [
    "Как видно, все данные приведены к адекватному типу данных."
   ]
  },
  {
   "cell_type": "markdown",
   "id": "68da0254",
   "metadata": {},
   "source": [
    "Пустые значения:"
   ]
  },
  {
   "cell_type": "code",
   "execution_count": 42,
   "id": "7dc97118",
   "metadata": {},
   "outputs": [
    {
     "data": {
      "text/plain": [
       "Store           0\n",
       "Date            0\n",
       "Weekly_Sales    0\n",
       "Holiday_Flag    0\n",
       "Temperature     0\n",
       "Fuel_Price      0\n",
       "CPI             0\n",
       "Unemployment    0\n",
       "dtype: int64"
      ]
     },
     "execution_count": 42,
     "metadata": {},
     "output_type": "execute_result"
    }
   ],
   "source": [
    "walmart.isnull().sum()"
   ]
  },
  {
   "cell_type": "markdown",
   "id": "5d80ad27",
   "metadata": {},
   "source": [
    "Пустых значений нет."
   ]
  },
  {
   "cell_type": "markdown",
   "id": "87c12d94",
   "metadata": {},
   "source": [
    "Проверим на дублирующиеся значения:"
   ]
  },
  {
   "cell_type": "code",
   "execution_count": 43,
   "id": "82fa5579",
   "metadata": {},
   "outputs": [
    {
     "data": {
      "text/plain": [
       "0"
      ]
     },
     "execution_count": 43,
     "metadata": {},
     "output_type": "execute_result"
    }
   ],
   "source": [
    "walmart.duplicated().sum()"
   ]
  },
  {
   "cell_type": "markdown",
   "id": "2d73fdee",
   "metadata": {},
   "source": [
    "Дублирующихся значений нет."
   ]
  },
  {
   "cell_type": "markdown",
   "id": "5a04787e",
   "metadata": {},
   "source": [
    "## Предобработка данных\n",
    "С признаком, хранящий дату, будет легче работать, если разбить его на три\n",
    "отдельные признака: неделя, месяц и год. Можем позволить оставить наименьшей\n",
    "единицей неделю, так как нам даны лишь *недельные* продажи магазина."
   ]
  },
  {
   "cell_type": "code",
   "execution_count": 44,
   "id": "4cf7cb12",
   "metadata": {},
   "outputs": [
    {
     "data": {
      "text/html": [
       "<div>\n",
       "<style scoped>\n",
       "    .dataframe tbody tr th:only-of-type {\n",
       "        vertical-align: middle;\n",
       "    }\n",
       "\n",
       "    .dataframe tbody tr th {\n",
       "        vertical-align: top;\n",
       "    }\n",
       "\n",
       "    .dataframe thead th {\n",
       "        text-align: right;\n",
       "    }\n",
       "</style>\n",
       "<table border=\"1\" class=\"dataframe\">\n",
       "  <thead>\n",
       "    <tr style=\"text-align: right;\">\n",
       "      <th></th>\n",
       "      <th>Store</th>\n",
       "      <th>Week</th>\n",
       "      <th>Month</th>\n",
       "      <th>Year</th>\n",
       "      <th>Holiday_Flag</th>\n",
       "      <th>Temperature</th>\n",
       "      <th>Fuel_Price</th>\n",
       "      <th>CPI</th>\n",
       "      <th>Unemployment</th>\n",
       "      <th>Weekly_Sales</th>\n",
       "    </tr>\n",
       "  </thead>\n",
       "  <tbody>\n",
       "    <tr>\n",
       "      <th>0</th>\n",
       "      <td>1</td>\n",
       "      <td>5</td>\n",
       "      <td>2</td>\n",
       "      <td>2010</td>\n",
       "      <td>0</td>\n",
       "      <td>42.31</td>\n",
       "      <td>2.572</td>\n",
       "      <td>211.096358</td>\n",
       "      <td>8.106</td>\n",
       "      <td>1643690.90</td>\n",
       "    </tr>\n",
       "    <tr>\n",
       "      <th>1</th>\n",
       "      <td>1</td>\n",
       "      <td>6</td>\n",
       "      <td>2</td>\n",
       "      <td>2010</td>\n",
       "      <td>1</td>\n",
       "      <td>38.51</td>\n",
       "      <td>2.548</td>\n",
       "      <td>211.242170</td>\n",
       "      <td>8.106</td>\n",
       "      <td>1641957.44</td>\n",
       "    </tr>\n",
       "    <tr>\n",
       "      <th>2</th>\n",
       "      <td>1</td>\n",
       "      <td>7</td>\n",
       "      <td>2</td>\n",
       "      <td>2010</td>\n",
       "      <td>0</td>\n",
       "      <td>39.93</td>\n",
       "      <td>2.514</td>\n",
       "      <td>211.289143</td>\n",
       "      <td>8.106</td>\n",
       "      <td>1611968.17</td>\n",
       "    </tr>\n",
       "    <tr>\n",
       "      <th>3</th>\n",
       "      <td>1</td>\n",
       "      <td>8</td>\n",
       "      <td>2</td>\n",
       "      <td>2010</td>\n",
       "      <td>0</td>\n",
       "      <td>46.63</td>\n",
       "      <td>2.561</td>\n",
       "      <td>211.319643</td>\n",
       "      <td>8.106</td>\n",
       "      <td>1409727.59</td>\n",
       "    </tr>\n",
       "    <tr>\n",
       "      <th>4</th>\n",
       "      <td>1</td>\n",
       "      <td>9</td>\n",
       "      <td>3</td>\n",
       "      <td>2010</td>\n",
       "      <td>0</td>\n",
       "      <td>46.50</td>\n",
       "      <td>2.625</td>\n",
       "      <td>211.350143</td>\n",
       "      <td>8.106</td>\n",
       "      <td>1554806.68</td>\n",
       "    </tr>\n",
       "  </tbody>\n",
       "</table>\n",
       "</div>"
      ],
      "text/plain": [
       "   Store  Week  Month  Year  Holiday_Flag  Temperature  Fuel_Price  \\\n",
       "0      1     5      2  2010             0        42.31       2.572   \n",
       "1      1     6      2  2010             1        38.51       2.548   \n",
       "2      1     7      2  2010             0        39.93       2.514   \n",
       "3      1     8      2  2010             0        46.63       2.561   \n",
       "4      1     9      3  2010             0        46.50       2.625   \n",
       "\n",
       "          CPI  Unemployment  Weekly_Sales  \n",
       "0  211.096358         8.106    1643690.90  \n",
       "1  211.242170         8.106    1641957.44  \n",
       "2  211.289143         8.106    1611968.17  \n",
       "3  211.319643         8.106    1409727.59  \n",
       "4  211.350143         8.106    1554806.68  "
      ]
     },
     "metadata": {},
     "output_type": "display_data"
    },
    {
     "data": {
      "text/plain": [
       "Store             int64\n",
       "Week              int64\n",
       "Month             int64\n",
       "Year              int64\n",
       "Holiday_Flag      int64\n",
       "Temperature     float64\n",
       "Fuel_Price      float64\n",
       "CPI             float64\n",
       "Unemployment    float64\n",
       "Weekly_Sales    float64\n",
       "dtype: object"
      ]
     },
     "metadata": {},
     "output_type": "display_data"
    }
   ],
   "source": [
    "# Разделение поля Date\n",
    "walmart['Date'] = pd.to_datetime(walmart['Date'], dayfirst=True)\n",
    "walmart['Week'] = walmart['Date'].dt.isocalendar().week.astype('int64')\n",
    "walmart['Month'] = walmart['Date'].dt.month\n",
    "walmart['Year'] = walmart['Date'].dt.year\n",
    "\n",
    "# Удаление столбца Date\n",
    "walmart = walmart.drop(columns=['Date'])\n",
    "\n",
    "# Перестановка столбцов\n",
    "walmart = walmart[['Store', 'Week', 'Month', 'Year', 'Holiday_Flag', 'Temperature', 'Fuel_Price', 'CPI', 'Unemployment', 'Weekly_Sales']]\n",
    "display(walmart.head(), walmart.dtypes)\n",
    "\n"
   ]
  },
  {
   "cell_type": "markdown",
   "id": "cc520232",
   "metadata": {},
   "source": [
    "## Корреляционный анализ\n",
    "Построим корреляционную матрицу, чтобы проанализировать зависимости\n",
    "параметров.\n",
    "Тепловая карта корреляционной матрицы."
   ]
  },
  {
   "cell_type": "code",
   "execution_count": 45,
   "id": "d941d4cb",
   "metadata": {},
   "outputs": [
    {
     "data": {
      "image/png": "[encoded data removed]",
      "text/plain": [
       "<Figure size 720x576 with 2 Axes>"
      ]
     },
     "metadata": {},
     "output_type": "display_data"
    }
   ],
   "source": [
    "plt.figure(figsize=(10,8))\n",
    "sns.heatmap(data=walmart.corr(), vmin=-1, vmax=1, annot=True, fmt='.3f',\n",
    "            cmap='PuBu')\n",
    "plt.show()"
   ]
  },
  {
   "cell_type": "markdown",
   "id": "15a54232",
   "metadata": {},
   "source": [
    "Из данной корреляционной матрицы можем сделать следующие выводы:\n",
    "\n",
    "- Все нецелевые признаки имеют слабую связь с целевым (Weekly_Sales). Сильнее\n",
    "всего коррилиует признак Store;\n",
    "- Признаки Week и Month практически линейно зависимы друг от друга. Оставим\n",
    "только признак Week;\n",
    "- Признаки Year и Fuel_Price тоже сильно коррелируют друг с другом. Оставим\n",
    "признак Fuel_Price."
   ]
  },
  {
   "cell_type": "code",
   "execution_count": 46,
   "id": "e5372342",
   "metadata": {},
   "outputs": [
    {
     "data": {
      "text/html": [
       "<div>\n",
       "<style scoped>\n",
       "    .dataframe tbody tr th:only-of-type {\n",
       "        vertical-align: middle;\n",
       "    }\n",
       "\n",
       "    .dataframe tbody tr th {\n",
       "        vertical-align: top;\n",
       "    }\n",
       "\n",
       "    .dataframe thead th {\n",
       "        text-align: right;\n",
       "    }\n",
       "</style>\n",
       "<table border=\"1\" class=\"dataframe\">\n",
       "  <thead>\n",
       "    <tr style=\"text-align: right;\">\n",
       "      <th></th>\n",
       "      <th>Store</th>\n",
       "      <th>Week</th>\n",
       "      <th>Holiday_Flag</th>\n",
       "      <th>Temperature</th>\n",
       "      <th>Fuel_Price</th>\n",
       "      <th>CPI</th>\n",
       "      <th>Unemployment</th>\n",
       "      <th>Weekly_Sales</th>\n",
       "    </tr>\n",
       "  </thead>\n",
       "  <tbody>\n",
       "    <tr>\n",
       "      <th>0</th>\n",
       "      <td>1</td>\n",
       "      <td>5</td>\n",
       "      <td>0</td>\n",
       "      <td>42.31</td>\n",
       "      <td>2.572</td>\n",
       "      <td>211.096358</td>\n",
       "      <td>8.106</td>\n",
       "      <td>1643690.90</td>\n",
       "    </tr>\n",
       "    <tr>\n",
       "      <th>1</th>\n",
       "      <td>1</td>\n",
       "      <td>6</td>\n",
       "      <td>1</td>\n",
       "      <td>38.51</td>\n",
       "      <td>2.548</td>\n",
       "      <td>211.242170</td>\n",
       "      <td>8.106</td>\n",
       "      <td>1641957.44</td>\n",
       "    </tr>\n",
       "    <tr>\n",
       "      <th>2</th>\n",
       "      <td>1</td>\n",
       "      <td>7</td>\n",
       "      <td>0</td>\n",
       "      <td>39.93</td>\n",
       "      <td>2.514</td>\n",
       "      <td>211.289143</td>\n",
       "      <td>8.106</td>\n",
       "      <td>1611968.17</td>\n",
       "    </tr>\n",
       "    <tr>\n",
       "      <th>3</th>\n",
       "      <td>1</td>\n",
       "      <td>8</td>\n",
       "      <td>0</td>\n",
       "      <td>46.63</td>\n",
       "      <td>2.561</td>\n",
       "      <td>211.319643</td>\n",
       "      <td>8.106</td>\n",
       "      <td>1409727.59</td>\n",
       "    </tr>\n",
       "    <tr>\n",
       "      <th>4</th>\n",
       "      <td>1</td>\n",
       "      <td>9</td>\n",
       "      <td>0</td>\n",
       "      <td>46.50</td>\n",
       "      <td>2.625</td>\n",
       "      <td>211.350143</td>\n",
       "      <td>8.106</td>\n",
       "      <td>1554806.68</td>\n",
       "    </tr>\n",
       "  </tbody>\n",
       "</table>\n",
       "</div>"
      ],
      "text/plain": [
       "   Store  Week  Holiday_Flag  Temperature  Fuel_Price         CPI  \\\n",
       "0      1     5             0        42.31       2.572  211.096358   \n",
       "1      1     6             1        38.51       2.548  211.242170   \n",
       "2      1     7             0        39.93       2.514  211.289143   \n",
       "3      1     8             0        46.63       2.561  211.319643   \n",
       "4      1     9             0        46.50       2.625  211.350143   \n",
       "\n",
       "   Unemployment  Weekly_Sales  \n",
       "0         8.106    1643690.90  \n",
       "1         8.106    1641957.44  \n",
       "2         8.106    1611968.17  \n",
       "3         8.106    1409727.59  \n",
       "4         8.106    1554806.68  "
      ]
     },
     "execution_count": 46,
     "metadata": {},
     "output_type": "execute_result"
    }
   ],
   "source": [
    "# Удаление лишних колонок.\n",
    "walmart_without_linear_correlates = walmart.drop(columns=['Month', 'Year'])\n",
    "walmart_without_linear_correlates.head()"
   ]
  },
  {
   "cell_type": "code",
   "execution_count": 47,
   "id": "69d5dcc1",
   "metadata": {},
   "outputs": [],
   "source": [
    "# Так как SVM модель чувствительна к выбросам построим графики ящиков с усами."
   ]
  },
  {
   "cell_type": "code",
   "execution_count": 48,
   "id": "e61c84d0",
   "metadata": {},
   "outputs": [
    {
     "data": {
      "image/png": "[encoded data removed]",
      "text/plain": [
       "<Figure size 432x288 with 1 Axes>"
      ]
     },
     "metadata": {},
     "output_type": "display_data"
    },
    {
     "data": {
      "image/png": "[encoded data removed]",
      "text/plain": [
       "<Figure size 432x288 with 1 Axes>"
      ]
     },
     "metadata": {},
     "output_type": "display_data"
    },
    {
     "data": {
      "image/png": "[encoded data removed]",
      "text/plain": [
       "<Figure size 432x288 with 1 Axes>"
      ]
     },
     "metadata": {},
     "output_type": "display_data"
    },
    {
     "data": {
      "image/png": "[encoded data removed]",
      "text/plain": [
       "<Figure size 432x288 with 1 Axes>"
      ]
     },
     "metadata": {},
     "output_type": "display_data"
    },
    {
     "data": {
      "image/png": "[encoded data removed]",
      "text/plain": [
       "<Figure size 432x288 with 1 Axes>"
      ]
     },
     "metadata": {},
     "output_type": "display_data"
    }
   ],
   "source": [
    "# Ящик с усами для столбца Temperature.\n",
    "\n",
    "# Не заносим бинарные признаки и даты.\n",
    "PURELY_NUMERICAL_COL_NAMES = (\n",
    "    'Temperature',\n",
    "    'Fuel_Price',\n",
    "    'CPI',\n",
    "    'Unemployment',\n",
    "    'Weekly_Sales',\n",
    ")\n",
    "\n",
    "for col_name in PURELY_NUMERICAL_COL_NAMES:\n",
    "    sns.boxplot(x=walmart_without_linear_correlates[col_name])\n",
    "    plt.show()"
   ]
  },
  {
   "cell_type": "markdown",
   "id": "22ac47af",
   "metadata": {},
   "source": [
    "Наблюдаем большое количество выбросов в колонках с признаками 'Temperature',\n",
    "'Unemployment' и 'Weekly_Sales'."
   ]
  },
  {
   "cell_type": "markdown",
   "id": "9d89366c",
   "metadata": {},
   "source": [
    "## Очистка выбросов."
   ]
  },
  {
   "cell_type": "code",
   "execution_count": 49,
   "id": "370e71ab",
   "metadata": {},
   "outputs": [
    {
     "data": {
      "text/plain": [
       "(6432, 8)"
      ]
     },
     "execution_count": 49,
     "metadata": {},
     "output_type": "execute_result"
    }
   ],
   "source": [
    "# Очистка столбца Temperature.\n",
    "Q1, Q3 = walmart['Temperature'].quantile([0.25, 0.75])\n",
    "IQR = Q3 - Q1\n",
    "min_limit = Q1 - 1.5*IQR\n",
    "max_limit = Q3 + 1.5*IQR\n",
    "\n",
    "walmart_without_outliers = walmart_without_linear_correlates[\n",
    "    (walmart_without_linear_correlates['Temperature']\n",
    "    > min_limit) & (walmart_without_linear_correlates['Temperature'] < max_limit)\n",
    "]\n",
    "walmart_without_outliers.shape"
   ]
  },
  {
   "cell_type": "code",
   "execution_count": 50,
   "id": "0fca34ee",
   "metadata": {},
   "outputs": [
    {
     "data": {
      "text/plain": [
       "(5832, 8)"
      ]
     },
     "execution_count": 50,
     "metadata": {},
     "output_type": "execute_result"
    }
   ],
   "source": [
    "# Очистка столбца Unemployment.\n",
    "Q1, Q3 = walmart['Unemployment'].quantile([0.25, 0.75])\n",
    "IQR = Q3 - Q1\n",
    "min_limit = Q1 - 1.3*IQR\n",
    "max_limit = Q3 + 1.3*IQR\n",
    "\n",
    "walmart_without_outliers = walmart_without_outliers[(walmart_without_outliers['Unemployment'] > min_limit)\n",
    "                                              & (walmart_without_outliers['Unemployment'] < max_limit)]\n",
    "walmart_without_outliers.shape"
   ]
  },
  {
   "cell_type": "code",
   "execution_count": 51,
   "id": "ca119856",
   "metadata": {},
   "outputs": [
    {
     "data": {
      "text/plain": [
       "(5798, 8)"
      ]
     },
     "execution_count": 51,
     "metadata": {},
     "output_type": "execute_result"
    }
   ],
   "source": [
    "# Очистка столбца Weekly_Sales.\n",
    "Q1, Q3 = walmart['Weekly_Sales'].quantile([0.25, 0.75])\n",
    "IQR = Q3 - Q1\n",
    "min_limit = Q1 - 1.5*IQR\n",
    "max_limit = Q3 + 1.5*IQR\n",
    "\n",
    "walmart_without_outliers = walmart_without_outliers[(walmart_without_outliers['Weekly_Sales'] > min_limit)\n",
    "                                              & (walmart_without_outliers['Weekly_Sales'] < max_limit)]\n",
    "walmart_without_outliers.shape"
   ]
  },
  {
   "cell_type": "markdown",
   "id": "3bf5f4a0",
   "metadata": {},
   "source": [
    "Посмотрим на результат очистки:"
   ]
  },
  {
   "cell_type": "code",
   "execution_count": 52,
   "id": "db9657aa",
   "metadata": {},
   "outputs": [
    {
     "data": {
      "image/png": "[encoded data removed]",
      "text/plain": [
       "<Figure size 432x288 with 1 Axes>"
      ]
     },
     "metadata": {},
     "output_type": "display_data"
    },
    {
     "data": {
      "image/png": "[encoded data removed]",
      "text/plain": [
       "<Figure size 432x288 with 1 Axes>"
      ]
     },
     "metadata": {},
     "output_type": "display_data"
    },
    {
     "data": {
      "image/png": "[encoded data removed]",
      "text/plain": [
       "<Figure size 432x288 with 1 Axes>"
      ]
     },
     "metadata": {},
     "output_type": "display_data"
    }
   ],
   "source": [
    "# Ящик с усами для столбца Temperature.\n",
    "sns.boxplot(x=walmart_without_outliers['Temperature'])\n",
    "plt.show()\n",
    "# Ящик с усами для столбца Unemployment.\n",
    "sns.boxplot(x=walmart_without_outliers['Unemployment'])\n",
    "plt.show()\n",
    "# Ящик с усами для столбца Weekly_Sales.\n",
    "sns.boxplot(x=walmart_without_outliers['Weekly_Sales'])\n",
    "plt.show()"
   ]
  },
  {
   "cell_type": "markdown",
   "id": "ac5f2885",
   "metadata": {},
   "source": [
    "## Масштабирование\n",
    "Нам также потребуется масштабировать данные для адекватной работы моделей (и\n",
    "линейные , и SVM работают лучше, если  признаки представлены в одном\n",
    "масштабе)."
   ]
  },
  {
   "cell_type": "code",
   "execution_count": 53,
   "id": "0026d52a",
   "metadata": {},
   "outputs": [
    {
     "data": {
      "text/html": [
       "<div>\n",
       "<style scoped>\n",
       "    .dataframe tbody tr th:only-of-type {\n",
       "        vertical-align: middle;\n",
       "    }\n",
       "\n",
       "    .dataframe tbody tr th {\n",
       "        vertical-align: top;\n",
       "    }\n",
       "\n",
       "    .dataframe thead th {\n",
       "        text-align: right;\n",
       "    }\n",
       "</style>\n",
       "<table border=\"1\" class=\"dataframe\">\n",
       "  <thead>\n",
       "    <tr style=\"text-align: right;\">\n",
       "      <th></th>\n",
       "      <th>Store</th>\n",
       "      <th>Week</th>\n",
       "      <th>Holiday_Flag</th>\n",
       "      <th>Temperature</th>\n",
       "      <th>Fuel_Price</th>\n",
       "      <th>CPI</th>\n",
       "      <th>Unemployment</th>\n",
       "      <th>Weekly_Sales</th>\n",
       "    </tr>\n",
       "  </thead>\n",
       "  <tbody>\n",
       "    <tr>\n",
       "      <th>0</th>\n",
       "      <td>0.0</td>\n",
       "      <td>0.078431</td>\n",
       "      <td>0.0</td>\n",
       "      <td>0.376025</td>\n",
       "      <td>0.050100</td>\n",
       "      <td>0.840500</td>\n",
       "      <td>0.567406</td>\n",
       "      <td>0.579189</td>\n",
       "    </tr>\n",
       "    <tr>\n",
       "      <th>1</th>\n",
       "      <td>0.0</td>\n",
       "      <td>0.098039</td>\n",
       "      <td>1.0</td>\n",
       "      <td>0.335024</td>\n",
       "      <td>0.038076</td>\n",
       "      <td>0.841941</td>\n",
       "      <td>0.567406</td>\n",
       "      <td>0.578489</td>\n",
       "    </tr>\n",
       "    <tr>\n",
       "      <th>2</th>\n",
       "      <td>0.0</td>\n",
       "      <td>0.117647</td>\n",
       "      <td>0.0</td>\n",
       "      <td>0.350345</td>\n",
       "      <td>0.021042</td>\n",
       "      <td>0.842405</td>\n",
       "      <td>0.567406</td>\n",
       "      <td>0.566374</td>\n",
       "    </tr>\n",
       "    <tr>\n",
       "      <th>3</th>\n",
       "      <td>0.0</td>\n",
       "      <td>0.137255</td>\n",
       "      <td>0.0</td>\n",
       "      <td>0.422637</td>\n",
       "      <td>0.044589</td>\n",
       "      <td>0.842707</td>\n",
       "      <td>0.567406</td>\n",
       "      <td>0.484672</td>\n",
       "    </tr>\n",
       "    <tr>\n",
       "      <th>4</th>\n",
       "      <td>0.0</td>\n",
       "      <td>0.156863</td>\n",
       "      <td>0.0</td>\n",
       "      <td>0.421234</td>\n",
       "      <td>0.076653</td>\n",
       "      <td>0.843008</td>\n",
       "      <td>0.567406</td>\n",
       "      <td>0.543282</td>\n",
       "    </tr>\n",
       "    <tr>\n",
       "      <th>...</th>\n",
       "      <td>...</td>\n",
       "      <td>...</td>\n",
       "      <td>...</td>\n",
       "      <td>...</td>\n",
       "      <td>...</td>\n",
       "      <td>...</td>\n",
       "      <td>...</td>\n",
       "      <td>...</td>\n",
       "    </tr>\n",
       "    <tr>\n",
       "      <th>5793</th>\n",
       "      <td>1.0</td>\n",
       "      <td>0.745098</td>\n",
       "      <td>0.0</td>\n",
       "      <td>0.619551</td>\n",
       "      <td>0.764028</td>\n",
       "      <td>0.651876</td>\n",
       "      <td>0.666041</td>\n",
       "      <td>0.203278</td>\n",
       "    </tr>\n",
       "    <tr>\n",
       "      <th>5794</th>\n",
       "      <td>1.0</td>\n",
       "      <td>0.764706</td>\n",
       "      <td>0.0</td>\n",
       "      <td>0.619659</td>\n",
       "      <td>0.758016</td>\n",
       "      <td>0.653427</td>\n",
       "      <td>0.663140</td>\n",
       "      <td>0.211471</td>\n",
       "    </tr>\n",
       "    <tr>\n",
       "      <th>5795</th>\n",
       "      <td>1.0</td>\n",
       "      <td>0.784314</td>\n",
       "      <td>0.0</td>\n",
       "      <td>0.507229</td>\n",
       "      <td>0.765531</td>\n",
       "      <td>0.654977</td>\n",
       "      <td>0.663140</td>\n",
       "      <td>0.211879</td>\n",
       "    </tr>\n",
       "    <tr>\n",
       "      <th>5796</th>\n",
       "      <td>1.0</td>\n",
       "      <td>0.803922</td>\n",
       "      <td>0.0</td>\n",
       "      <td>0.528809</td>\n",
       "      <td>0.750000</td>\n",
       "      <td>0.655013</td>\n",
       "      <td>0.663140</td>\n",
       "      <td>0.205278</td>\n",
       "    </tr>\n",
       "    <tr>\n",
       "      <th>5797</th>\n",
       "      <td>1.0</td>\n",
       "      <td>0.823529</td>\n",
       "      <td>0.0</td>\n",
       "      <td>0.554489</td>\n",
       "      <td>0.706413</td>\n",
       "      <td>0.654796</td>\n",
       "      <td>0.663140</td>\n",
       "      <td>0.222309</td>\n",
       "    </tr>\n",
       "  </tbody>\n",
       "</table>\n",
       "<p>5798 rows × 8 columns</p>\n",
       "</div>"
      ],
      "text/plain": [
       "      Store      Week  Holiday_Flag  Temperature  Fuel_Price       CPI  \\\n",
       "0       0.0  0.078431           0.0     0.376025    0.050100  0.840500   \n",
       "1       0.0  0.098039           1.0     0.335024    0.038076  0.841941   \n",
       "2       0.0  0.117647           0.0     0.350345    0.021042  0.842405   \n",
       "3       0.0  0.137255           0.0     0.422637    0.044589  0.842707   \n",
       "4       0.0  0.156863           0.0     0.421234    0.076653  0.843008   \n",
       "...     ...       ...           ...          ...         ...       ...   \n",
       "5793    1.0  0.745098           0.0     0.619551    0.764028  0.651876   \n",
       "5794    1.0  0.764706           0.0     0.619659    0.758016  0.653427   \n",
       "5795    1.0  0.784314           0.0     0.507229    0.765531  0.654977   \n",
       "5796    1.0  0.803922           0.0     0.528809    0.750000  0.655013   \n",
       "5797    1.0  0.823529           0.0     0.554489    0.706413  0.654796   \n",
       "\n",
       "      Unemployment  Weekly_Sales  \n",
       "0         0.567406      0.579189  \n",
       "1         0.567406      0.578489  \n",
       "2         0.567406      0.566374  \n",
       "3         0.567406      0.484672  \n",
       "4         0.567406      0.543282  \n",
       "...            ...           ...  \n",
       "5793      0.666041      0.203278  \n",
       "5794      0.663140      0.211471  \n",
       "5795      0.663140      0.211879  \n",
       "5796      0.663140      0.205278  \n",
       "5797      0.663140      0.222309  \n",
       "\n",
       "[5798 rows x 8 columns]"
      ]
     },
     "execution_count": 53,
     "metadata": {},
     "output_type": "execute_result"
    }
   ],
   "source": [
    "preprocessor = Pipeline([\n",
    "    ( 'scaler', MinMaxScaler(feature_range=(0, 1)) )\n",
    "])\n",
    "\n",
    "\n",
    "walmart_transformed = preprocessor.fit_transform(walmart_without_outliers)\n",
    "# Массив переводим обратно в датафрейм.\n",
    "walmart_transformed = pd.DataFrame(walmart_transformed,\n",
    "                                            columns=walmart_without_outliers.columns)\n",
    "walmart_transformed"
   ]
  },
  {
   "cell_type": "code",
   "execution_count": 54,
   "id": "fdebf501",
   "metadata": {},
   "outputs": [
    {
     "data": {
      "text/html": [
       "<div>\n",
       "<style scoped>\n",
       "    .dataframe tbody tr th:only-of-type {\n",
       "        vertical-align: middle;\n",
       "    }\n",
       "\n",
       "    .dataframe tbody tr th {\n",
       "        vertical-align: top;\n",
       "    }\n",
       "\n",
       "    .dataframe thead th {\n",
       "        text-align: right;\n",
       "    }\n",
       "</style>\n",
       "<table border=\"1\" class=\"dataframe\">\n",
       "  <thead>\n",
       "    <tr style=\"text-align: right;\">\n",
       "      <th></th>\n",
       "      <th>Store</th>\n",
       "      <th>Week</th>\n",
       "      <th>Holiday_Flag</th>\n",
       "      <th>Temperature</th>\n",
       "      <th>Fuel_Price</th>\n",
       "      <th>CPI</th>\n",
       "      <th>Unemployment</th>\n",
       "    </tr>\n",
       "  </thead>\n",
       "  <tbody>\n",
       "    <tr>\n",
       "      <th>0</th>\n",
       "      <td>0.0</td>\n",
       "      <td>0.078431</td>\n",
       "      <td>0.0</td>\n",
       "      <td>0.376025</td>\n",
       "      <td>0.050100</td>\n",
       "      <td>0.840500</td>\n",
       "      <td>0.567406</td>\n",
       "    </tr>\n",
       "    <tr>\n",
       "      <th>1</th>\n",
       "      <td>0.0</td>\n",
       "      <td>0.098039</td>\n",
       "      <td>1.0</td>\n",
       "      <td>0.335024</td>\n",
       "      <td>0.038076</td>\n",
       "      <td>0.841941</td>\n",
       "      <td>0.567406</td>\n",
       "    </tr>\n",
       "    <tr>\n",
       "      <th>2</th>\n",
       "      <td>0.0</td>\n",
       "      <td>0.117647</td>\n",
       "      <td>0.0</td>\n",
       "      <td>0.350345</td>\n",
       "      <td>0.021042</td>\n",
       "      <td>0.842405</td>\n",
       "      <td>0.567406</td>\n",
       "    </tr>\n",
       "    <tr>\n",
       "      <th>3</th>\n",
       "      <td>0.0</td>\n",
       "      <td>0.137255</td>\n",
       "      <td>0.0</td>\n",
       "      <td>0.422637</td>\n",
       "      <td>0.044589</td>\n",
       "      <td>0.842707</td>\n",
       "      <td>0.567406</td>\n",
       "    </tr>\n",
       "    <tr>\n",
       "      <th>4</th>\n",
       "      <td>0.0</td>\n",
       "      <td>0.156863</td>\n",
       "      <td>0.0</td>\n",
       "      <td>0.421234</td>\n",
       "      <td>0.076653</td>\n",
       "      <td>0.843008</td>\n",
       "      <td>0.567406</td>\n",
       "    </tr>\n",
       "    <tr>\n",
       "      <th>...</th>\n",
       "      <td>...</td>\n",
       "      <td>...</td>\n",
       "      <td>...</td>\n",
       "      <td>...</td>\n",
       "      <td>...</td>\n",
       "      <td>...</td>\n",
       "      <td>...</td>\n",
       "    </tr>\n",
       "    <tr>\n",
       "      <th>5793</th>\n",
       "      <td>1.0</td>\n",
       "      <td>0.745098</td>\n",
       "      <td>0.0</td>\n",
       "      <td>0.619551</td>\n",
       "      <td>0.764028</td>\n",
       "      <td>0.651876</td>\n",
       "      <td>0.666041</td>\n",
       "    </tr>\n",
       "    <tr>\n",
       "      <th>5794</th>\n",
       "      <td>1.0</td>\n",
       "      <td>0.764706</td>\n",
       "      <td>0.0</td>\n",
       "      <td>0.619659</td>\n",
       "      <td>0.758016</td>\n",
       "      <td>0.653427</td>\n",
       "      <td>0.663140</td>\n",
       "    </tr>\n",
       "    <tr>\n",
       "      <th>5795</th>\n",
       "      <td>1.0</td>\n",
       "      <td>0.784314</td>\n",
       "      <td>0.0</td>\n",
       "      <td>0.507229</td>\n",
       "      <td>0.765531</td>\n",
       "      <td>0.654977</td>\n",
       "      <td>0.663140</td>\n",
       "    </tr>\n",
       "    <tr>\n",
       "      <th>5796</th>\n",
       "      <td>1.0</td>\n",
       "      <td>0.803922</td>\n",
       "      <td>0.0</td>\n",
       "      <td>0.528809</td>\n",
       "      <td>0.750000</td>\n",
       "      <td>0.655013</td>\n",
       "      <td>0.663140</td>\n",
       "    </tr>\n",
       "    <tr>\n",
       "      <th>5797</th>\n",
       "      <td>1.0</td>\n",
       "      <td>0.823529</td>\n",
       "      <td>0.0</td>\n",
       "      <td>0.554489</td>\n",
       "      <td>0.706413</td>\n",
       "      <td>0.654796</td>\n",
       "      <td>0.663140</td>\n",
       "    </tr>\n",
       "  </tbody>\n",
       "</table>\n",
       "<p>5798 rows × 7 columns</p>\n",
       "</div>"
      ],
      "text/plain": [
       "      Store      Week  Holiday_Flag  Temperature  Fuel_Price       CPI  \\\n",
       "0       0.0  0.078431           0.0     0.376025    0.050100  0.840500   \n",
       "1       0.0  0.098039           1.0     0.335024    0.038076  0.841941   \n",
       "2       0.0  0.117647           0.0     0.350345    0.021042  0.842405   \n",
       "3       0.0  0.137255           0.0     0.422637    0.044589  0.842707   \n",
       "4       0.0  0.156863           0.0     0.421234    0.076653  0.843008   \n",
       "...     ...       ...           ...          ...         ...       ...   \n",
       "5793    1.0  0.745098           0.0     0.619551    0.764028  0.651876   \n",
       "5794    1.0  0.764706           0.0     0.619659    0.758016  0.653427   \n",
       "5795    1.0  0.784314           0.0     0.507229    0.765531  0.654977   \n",
       "5796    1.0  0.803922           0.0     0.528809    0.750000  0.655013   \n",
       "5797    1.0  0.823529           0.0     0.554489    0.706413  0.654796   \n",
       "\n",
       "      Unemployment  \n",
       "0         0.567406  \n",
       "1         0.567406  \n",
       "2         0.567406  \n",
       "3         0.567406  \n",
       "4         0.567406  \n",
       "...            ...  \n",
       "5793      0.666041  \n",
       "5794      0.663140  \n",
       "5795      0.663140  \n",
       "5796      0.663140  \n",
       "5797      0.663140  \n",
       "\n",
       "[5798 rows x 7 columns]"
      ]
     },
     "metadata": {},
     "output_type": "display_data"
    },
    {
     "data": {
      "text/html": [
       "<div>\n",
       "<style scoped>\n",
       "    .dataframe tbody tr th:only-of-type {\n",
       "        vertical-align: middle;\n",
       "    }\n",
       "\n",
       "    .dataframe tbody tr th {\n",
       "        vertical-align: top;\n",
       "    }\n",
       "\n",
       "    .dataframe thead th {\n",
       "        text-align: right;\n",
       "    }\n",
       "</style>\n",
       "<table border=\"1\" class=\"dataframe\">\n",
       "  <thead>\n",
       "    <tr style=\"text-align: right;\">\n",
       "      <th></th>\n",
       "      <th>Weekly_Sales</th>\n",
       "    </tr>\n",
       "  </thead>\n",
       "  <tbody>\n",
       "    <tr>\n",
       "      <th>0</th>\n",
       "      <td>0.579189</td>\n",
       "    </tr>\n",
       "    <tr>\n",
       "      <th>1</th>\n",
       "      <td>0.578489</td>\n",
       "    </tr>\n",
       "    <tr>\n",
       "      <th>2</th>\n",
       "      <td>0.566374</td>\n",
       "    </tr>\n",
       "    <tr>\n",
       "      <th>3</th>\n",
       "      <td>0.484672</td>\n",
       "    </tr>\n",
       "    <tr>\n",
       "      <th>4</th>\n",
       "      <td>0.543282</td>\n",
       "    </tr>\n",
       "    <tr>\n",
       "      <th>...</th>\n",
       "      <td>...</td>\n",
       "    </tr>\n",
       "    <tr>\n",
       "      <th>5793</th>\n",
       "      <td>0.203278</td>\n",
       "    </tr>\n",
       "    <tr>\n",
       "      <th>5794</th>\n",
       "      <td>0.211471</td>\n",
       "    </tr>\n",
       "    <tr>\n",
       "      <th>5795</th>\n",
       "      <td>0.211879</td>\n",
       "    </tr>\n",
       "    <tr>\n",
       "      <th>5796</th>\n",
       "      <td>0.205278</td>\n",
       "    </tr>\n",
       "    <tr>\n",
       "      <th>5797</th>\n",
       "      <td>0.222309</td>\n",
       "    </tr>\n",
       "  </tbody>\n",
       "</table>\n",
       "<p>5798 rows × 1 columns</p>\n",
       "</div>"
      ],
      "text/plain": [
       "      Weekly_Sales\n",
       "0         0.579189\n",
       "1         0.578489\n",
       "2         0.566374\n",
       "3         0.484672\n",
       "4         0.543282\n",
       "...            ...\n",
       "5793      0.203278\n",
       "5794      0.211471\n",
       "5795      0.211879\n",
       "5796      0.205278\n",
       "5797      0.222309\n",
       "\n",
       "[5798 rows x 1 columns]"
      ]
     },
     "metadata": {},
     "output_type": "display_data"
    }
   ],
   "source": [
    "# Извлекаем целевой признак.\n",
    "TARGET_COL_NAMES = ['Weekly_Sales']\n",
    "walmart_weekly_sales = walmart_transformed[TARGET_COL_NAMES]\n",
    "\n",
    "walmart_features = walmart_transformed.drop(columns=TARGET_COL_NAMES)\n",
    "display(walmart_features, walmart_weekly_sales)"
   ]
  },
  {
   "cell_type": "markdown",
   "id": "8545a14f",
   "metadata": {},
   "source": [
    "## С использованием метода train_test_split разделите выборку на обучающую и тестовую."
   ]
  },
  {
   "cell_type": "code",
   "execution_count": 55,
   "id": "8f545910",
   "metadata": {},
   "outputs": [],
   "source": [
    "\n",
    "walmart_features_train: pd.DataFrame\n",
    "walmart_features_test: pd.DataFrame\n",
    "walmart_weekly_sales_train: pd.Series\n",
    "walmart_weekly_sales_test: pd.Series\n",
    "\n",
    "# Параметр random_state позволяет задавать базовое значение для генератора\n",
    "# случайных чисел. Это делает разбиение неслучайным. Если задается параметр\n",
    "# random_state то результаты разбиения будут одинаковыми при различных\n",
    "# запусках. На практике этот параметр удобно использовать для создания\n",
    "# \"устойчивых\" учебных примеров, которые выдают одинаковый результат при\n",
    "# различных запусках.\n",
    "RANDOM_STATE_SEED = 1\n",
    "\n",
    "walmart_features_train, walmart_features_test, walmart_weekly_sales_train, walmart_weekly_sales_test = train_test_split(\n",
    "    walmart_features, walmart_weekly_sales, random_state=RANDOM_STATE_SEED)"
   ]
  },
  {
   "cell_type": "markdown",
   "id": "c36ecd26",
   "metadata": {},
   "source": [
    "Общий вид обучающей выборки:"
   ]
  },
  {
   "cell_type": "code",
   "execution_count": 56,
   "id": "04130851",
   "metadata": {},
   "outputs": [
    {
     "data": {
      "text/html": [
       "<div>\n",
       "<style scoped>\n",
       "    .dataframe tbody tr th:only-of-type {\n",
       "        vertical-align: middle;\n",
       "    }\n",
       "\n",
       "    .dataframe tbody tr th {\n",
       "        vertical-align: top;\n",
       "    }\n",
       "\n",
       "    .dataframe thead th {\n",
       "        text-align: right;\n",
       "    }\n",
       "</style>\n",
       "<table border=\"1\" class=\"dataframe\">\n",
       "  <thead>\n",
       "    <tr style=\"text-align: right;\">\n",
       "      <th></th>\n",
       "      <th>Store</th>\n",
       "      <th>Week</th>\n",
       "      <th>Holiday_Flag</th>\n",
       "      <th>Temperature</th>\n",
       "      <th>Fuel_Price</th>\n",
       "      <th>CPI</th>\n",
       "      <th>Unemployment</th>\n",
       "    </tr>\n",
       "  </thead>\n",
       "  <tbody>\n",
       "    <tr>\n",
       "      <th>3057</th>\n",
       "      <td>0.522727</td>\n",
       "      <td>0.117647</td>\n",
       "      <td>0.0</td>\n",
       "      <td>0.286793</td>\n",
       "      <td>0.47495</td>\n",
       "      <td>0.072217</td>\n",
       "      <td>0.592321</td>\n",
       "    </tr>\n",
       "  </tbody>\n",
       "</table>\n",
       "</div>"
      ],
      "text/plain": [
       "         Store      Week  Holiday_Flag  Temperature  Fuel_Price       CPI  \\\n",
       "3057  0.522727  0.117647           0.0     0.286793     0.47495  0.072217   \n",
       "\n",
       "      Unemployment  \n",
       "3057      0.592321  "
      ]
     },
     "metadata": {},
     "output_type": "display_data"
    },
    {
     "data": {
      "text/markdown": [
       "- Кол-во рядов: 4348\n",
       "- Кол-во колонок: 7"
      ]
     },
     "metadata": {},
     "output_type": "display_data"
    },
    {
     "data": {
      "text/html": [
       "<div>\n",
       "<style scoped>\n",
       "    .dataframe tbody tr th:only-of-type {\n",
       "        vertical-align: middle;\n",
       "    }\n",
       "\n",
       "    .dataframe tbody tr th {\n",
       "        vertical-align: top;\n",
       "    }\n",
       "\n",
       "    .dataframe thead th {\n",
       "        text-align: right;\n",
       "    }\n",
       "</style>\n",
       "<table border=\"1\" class=\"dataframe\">\n",
       "  <thead>\n",
       "    <tr style=\"text-align: right;\">\n",
       "      <th></th>\n",
       "      <th>Weekly_Sales</th>\n",
       "    </tr>\n",
       "  </thead>\n",
       "  <tbody>\n",
       "    <tr>\n",
       "      <th>3057</th>\n",
       "      <td>0.464644</td>\n",
       "    </tr>\n",
       "  </tbody>\n",
       "</table>\n",
       "</div>"
      ],
      "text/plain": [
       "      Weekly_Sales\n",
       "3057      0.464644"
      ]
     },
     "metadata": {},
     "output_type": "display_data"
    },
    {
     "data": {
      "text/markdown": [
       "- Кол-во рядов: 4348\n",
       "- Кол-во колонок: 1"
      ]
     },
     "metadata": {},
     "output_type": "display_data"
    }
   ],
   "source": [
    "from typing import Union\n",
    "def display_df_shape(df: Union[pd.DataFrame, pd.Series]):\n",
    "    display_markdown(\n",
    "        f'- Кол-во рядов: {df.shape[0]}\\n- Кол-во колонок: {df.shape[1]}',\n",
    "        raw=True)\n",
    "\n",
    "\n",
    "def display_split_result(split: Union[pd.DataFrame, pd.Series]):\n",
    "    \"\"\"Display result of the train_test_split.\n",
    "\n",
    "    :param split: one of the splits to display.\n",
    "    :type split: pd.DataFrame, pd.Series\n",
    "    \"\"\"\n",
    "\n",
    "    display(split.head(1))\n",
    "    display_df_shape(split)\n",
    "    \n",
    "    \n",
    "display_split_result(walmart_features_train)\n",
    "display_split_result(walmart_weekly_sales_train)"
   ]
  },
  {
   "cell_type": "markdown",
   "id": "00addd30",
   "metadata": {},
   "source": [
    "Общий вид тестовой выборки:"
   ]
  },
  {
   "cell_type": "code",
   "execution_count": 57,
   "id": "ad516442",
   "metadata": {},
   "outputs": [
    {
     "data": {
      "text/html": [
       "<div>\n",
       "<style scoped>\n",
       "    .dataframe tbody tr th:only-of-type {\n",
       "        vertical-align: middle;\n",
       "    }\n",
       "\n",
       "    .dataframe tbody tr th {\n",
       "        vertical-align: top;\n",
       "    }\n",
       "\n",
       "    .dataframe thead th {\n",
       "        text-align: right;\n",
       "    }\n",
       "</style>\n",
       "<table border=\"1\" class=\"dataframe\">\n",
       "  <thead>\n",
       "    <tr style=\"text-align: right;\">\n",
       "      <th></th>\n",
       "      <th>Store</th>\n",
       "      <th>Week</th>\n",
       "      <th>Holiday_Flag</th>\n",
       "      <th>Temperature</th>\n",
       "      <th>Fuel_Price</th>\n",
       "      <th>CPI</th>\n",
       "      <th>Unemployment</th>\n",
       "    </tr>\n",
       "  </thead>\n",
       "  <tbody>\n",
       "    <tr>\n",
       "      <th>1822</th>\n",
       "      <td>0.318182</td>\n",
       "      <td>0.607843</td>\n",
       "      <td>0.0</td>\n",
       "      <td>0.698209</td>\n",
       "      <td>0.225952</td>\n",
       "      <td>0.064901</td>\n",
       "      <td>0.566212</td>\n",
       "    </tr>\n",
       "  </tbody>\n",
       "</table>\n",
       "</div>"
      ],
      "text/plain": [
       "         Store      Week  Holiday_Flag  Temperature  Fuel_Price       CPI  \\\n",
       "1822  0.318182  0.607843           0.0     0.698209    0.225952  0.064901   \n",
       "\n",
       "      Unemployment  \n",
       "1822      0.566212  "
      ]
     },
     "metadata": {},
     "output_type": "display_data"
    },
    {
     "data": {
      "text/markdown": [
       "- Кол-во рядов: 1450\n",
       "- Кол-во колонок: 7"
      ]
     },
     "metadata": {},
     "output_type": "display_data"
    },
    {
     "data": {
      "text/html": [
       "<div>\n",
       "<style scoped>\n",
       "    .dataframe tbody tr th:only-of-type {\n",
       "        vertical-align: middle;\n",
       "    }\n",
       "\n",
       "    .dataframe tbody tr th {\n",
       "        vertical-align: top;\n",
       "    }\n",
       "\n",
       "    .dataframe thead th {\n",
       "        text-align: right;\n",
       "    }\n",
       "</style>\n",
       "<table border=\"1\" class=\"dataframe\">\n",
       "  <thead>\n",
       "    <tr style=\"text-align: right;\">\n",
       "      <th></th>\n",
       "      <th>Weekly_Sales</th>\n",
       "    </tr>\n",
       "  </thead>\n",
       "  <tbody>\n",
       "    <tr>\n",
       "      <th>1822</th>\n",
       "      <td>0.166622</td>\n",
       "    </tr>\n",
       "  </tbody>\n",
       "</table>\n",
       "</div>"
      ],
      "text/plain": [
       "      Weekly_Sales\n",
       "1822      0.166622"
      ]
     },
     "metadata": {},
     "output_type": "display_data"
    },
    {
     "data": {
      "text/markdown": [
       "- Кол-во рядов: 1450\n",
       "- Кол-во колонок: 1"
      ]
     },
     "metadata": {},
     "output_type": "display_data"
    }
   ],
   "source": [
    "display_split_result(walmart_features_test)\n",
    "display_split_result(walmart_weekly_sales_test)"
   ]
  },
  {
   "cell_type": "markdown",
   "id": "2c4905ca",
   "metadata": {},
   "source": [
    "## Выбор метрики\n",
    "Для измерения качества моделей, решающих задачу линейной регрессии, будем\n",
    "использовать следующие метрики:\n",
    "- Средняя абсолютная ошибка (MAE),\n",
    "- Средняя квадратичная ошибка (MSE),\n",
    "- Коэффициент детерминации (R2)."
   ]
  },
  {
   "cell_type": "code",
   "execution_count": 58,
   "id": "4cfd1afd",
   "metadata": {},
   "outputs": [],
   "source": [
    "from sklearn.metrics import mean_absolute_error, mean_squared_error, r2_score\n",
    "\n",
    "scoring = (\n",
    "    'neg_mean_absolute_error',\n",
    "    'neg_mean_squared_error',\n",
    "    'r2',\n",
    ")\n",
    "\n",
    "def score(data_predicted, data_test):\n",
    "    mae = mean_absolute_error(data_predicted, data_test)\n",
    "    mse = mean_squared_error(data_predicted, data_test)\n",
    "    r2 = r2_score(data_predicted, data_test)\n",
    "\n",
    "    return {\n",
    "        'mae': mae,\n",
    "        'mse': mse,\n",
    "        'r2': r2\n",
    "    }\n",
    "\n",
    "\n",
    "def display_score(scores):\n",
    "    mae = scores.get('mae') or '---'\n",
    "    mse = scores.get('mse') or '---'\n",
    "    r2 = scores.get('r2') or '---'\n",
    "\n",
    "    display_markdown(f'''\n",
    "- Средняя абсолютная ошибка: {mae};\n",
    "- Средняя квадратичная ошибка: {mse};\n",
    "- Коэффициент детерминации: {r2}.\n",
    "    ''', raw=True)"
   ]
  },
  {
   "cell_type": "code",
   "execution_count": 59,
   "id": "0cc4a72c",
   "metadata": {},
   "outputs": [],
   "source": [
    "# Метрики будем складывать в этот словарь для дальнейшего сравнительного\n",
    "#   анализа.\n",
    "metrics_data = {}\n",
    "\n",
    "def add_metrics_data(model_name, model_metric_data):\n",
    "    metrics_data[model_name] = {}\n",
    "\n",
    "    for metric_name, score in model_metric_data.items():\n",
    "        metrics_data[model_name][metric_name] = score"
   ]
  },
  {
   "cell_type": "markdown",
   "id": "628f6224",
   "metadata": {},
   "source": [
    "# Обучение на основе моделей\n",
    "## 1.1 Линейная регрессия"
   ]
  },
  {
   "cell_type": "code",
   "execution_count": 60,
   "id": "955770fd",
   "metadata": {},
   "outputs": [
    {
     "data": {
      "text/markdown": [
       "\n",
       "- Средняя абсолютная ошибка: 0.17111329821089571;\n",
       "- Средняя квадратичная ошибка: 0.04211770011419011;\n",
       "- Коэффициент детерминации: -6.220291257818771.\n",
       "    "
      ]
     },
     "metadata": {},
     "output_type": "display_data"
    },
    {
     "name": "stdout",
     "output_type": "stream",
     "text": [
      "CPU times: user 13.9 ms, sys: 7.15 ms, total: 21 ms\n",
      "Wall time: 8.96 ms\n"
     ]
    }
   ],
   "source": [
    "%%time\n",
    "from sklearn.linear_model import LinearRegression\n",
    "from sklearn.compose import ColumnTransformer\n",
    "\n",
    "linear_regression = LinearRegression()\n",
    "\n",
    "linear_regression_pipeline = Pipeline([\n",
    "    ( 'preprocess', preprocessor ),\n",
    "    ( 'model', linear_regression ),\n",
    "])\n",
    "\n",
    "walmart_weekly_sales_predicted = linear_regression_pipeline.fit(walmart_features_train,\n",
    "                   walmart_weekly_sales_train).predict(walmart_features_test)\n",
    "linear_regression_score = score(walmart_weekly_sales_predicted, walmart_weekly_sales_test)\n",
    "add_metrics_data('LinearRegression', linear_regression_score)\n",
    "display_score(linear_regression_score)"
   ]
  },
  {
   "cell_type": "markdown",
   "id": "06b56e94",
   "metadata": {},
   "source": [
    "## 1.2 Полиномиальная регрессия\n",
    "У нелинейной регрессии есть гиперпараметр degree, обозначающий степень\n",
    "полинома. Его подберём с помощью RandomizedSearchCV."
   ]
  },
  {
   "cell_type": "code",
   "execution_count": 61,
   "id": "faf86d9d",
   "metadata": {},
   "outputs": [],
   "source": [
    "import re\n",
    "def add_metrics_data_from_search_results(results, model='LinearRegression'):\n",
    "    metrics_data[model] = {}\n",
    "\n",
    "    # Negative errors are used for scoring, we have to handle them manually.\n",
    "    metrics_data[model]['mae'] = max([abs(v) for v in\n",
    "                                         results['mean_test_neg_mean_absolute_error']])\n",
    "    metrics_data[model]['mse'] = max([abs(v) for v in\n",
    "                                         results['mean_test_neg_mean_squared_error']])\n",
    "\n",
    "    # Everything else is parseble (in our case only 'r2').\n",
    "    for result, value in results.items():\n",
    "        if result in ('mean_test_neg_mean_absolute_error',\n",
    "                      'mean_test_neg_mean_squared_error'):\n",
    "            continue\n",
    "\n",
    "        metric_match = re.match(r'mean_test_(.+)', result)\n",
    "        if metric_match:\n",
    "            metric_name = metric_match.group(1)\n",
    "            metrics_data[model][metric_name] = max(value)"
   ]
  },
  {
   "cell_type": "code",
   "execution_count": 62,
   "id": "6f564d67",
   "metadata": {},
   "outputs": [
    {
     "data": {
      "text/plain": [
       "0.520211730678377"
      ]
     },
     "metadata": {},
     "output_type": "display_data"
    },
    {
     "data": {
      "text/plain": [
       "{'poly_features__degree': 4}"
      ]
     },
     "metadata": {},
     "output_type": "display_data"
    },
    {
     "name": "stdout",
     "output_type": "stream",
     "text": [
      "CPU times: user 11.6 s, sys: 7.77 s, total: 19.4 s\n",
      "Wall time: 5.19 s\n"
     ]
    }
   ],
   "source": [
    "%%time\n",
    "from sklearn.linear_model import LinearRegression\n",
    "from sklearn.preprocessing import PolynomialFeatures\n",
    "from sklearn.model_selection import RandomizedSearchCV\n",
    "from sklearn.model_selection import KFold\n",
    "\n",
    "linear_regression = LinearRegression()\n",
    "polynomial_features = PolynomialFeatures()\n",
    "\n",
    "polynomial_regression_estimator = Pipeline([\n",
    "    ( 'preprocess', preprocessor ),\n",
    "    ( 'poly_features', polynomial_features ),\n",
    "    ( 'model', linear_regression ),\n",
    "])\n",
    "\n",
    "parameters_to_tune = { 'poly_features__degree': np.arange(1, 6, 1) }\n",
    "\n",
    "polynomial_regression_pipeline = RandomizedSearchCV(polynomial_regression_estimator,\n",
    "                                                    parameters_to_tune,\n",
    "                                                    n_iter=5,\n",
    "                                                    scoring=scoring,\n",
    "                                                    cv=KFold(n_splits=3),\n",
    "                                                    refit=scoring[2]\n",
    "                                                    )\n",
    "\n",
    "polynomial_regression_pipeline.fit(walmart_features_train,\n",
    "                   walmart_weekly_sales_train)\n",
    "\n",
    "add_metrics_data_from_search_results(polynomial_regression_pipeline.cv_results_,\n",
    "                                     model='PolynomialRegression')\n",
    "\n",
    "display(polynomial_regression_pipeline.best_score_,\n",
    "        polynomial_regression_pipeline.best_params_)"
   ]
  },
  {
   "cell_type": "markdown",
   "id": "6e02d66a",
   "metadata": {},
   "source": [
    "## 2 Метод опорных векторов (SVM)\n",
    "У линейной регресси на опорных векторах есть гиперпараметр C,\n",
    "обозначающий силу регуляризации. Его подберём также с помощью\n",
    "RandomizedSearchCV."
   ]
  },
  {
   "cell_type": "code",
   "execution_count": 63,
   "id": "c880664c",
   "metadata": {},
   "outputs": [
    {
     "name": "stderr",
     "output_type": "stream",
     "text": [
      "/home/dubuntus/.local/lib/python3.8/site-packages/sklearn/svm/_base.py:1206: ConvergenceWarning: Liblinear failed to converge, increase the number of iterations.\n",
      "  warnings.warn(\n",
      "/home/dubuntus/.local/lib/python3.8/site-packages/sklearn/svm/_base.py:1206: ConvergenceWarning: Liblinear failed to converge, increase the number of iterations.\n",
      "  warnings.warn(\n",
      "/home/dubuntus/.local/lib/python3.8/site-packages/sklearn/svm/_base.py:1206: ConvergenceWarning: Liblinear failed to converge, increase the number of iterations.\n",
      "  warnings.warn(\n",
      "/home/dubuntus/.local/lib/python3.8/site-packages/sklearn/svm/_base.py:1206: ConvergenceWarning: Liblinear failed to converge, increase the number of iterations.\n",
      "  warnings.warn(\n",
      "/home/dubuntus/.local/lib/python3.8/site-packages/sklearn/svm/_base.py:1206: ConvergenceWarning: Liblinear failed to converge, increase the number of iterations.\n",
      "  warnings.warn(\n"
     ]
    },
    {
     "data": {
      "text/plain": [
       "0.07454239226587685"
      ]
     },
     "metadata": {},
     "output_type": "display_data"
    },
    {
     "data": {
      "text/plain": [
       "{'model__C': 5.994873178012294}"
      ]
     },
     "metadata": {},
     "output_type": "display_data"
    },
    {
     "name": "stdout",
     "output_type": "stream",
     "text": [
      "CPU times: user 3.15 s, sys: 90.7 ms, total: 3.24 s\n",
      "Wall time: 3.1 s\n"
     ]
    }
   ],
   "source": [
    "%%time\n",
    "from sklearn.svm import LinearSVR\n",
    "\n",
    "# Параметр регуляризации должен быть строго положителен.\n",
    "parameters_to_tune = { 'model__C': np.logspace(1e-5, 1, num=10) }\n",
    "\n",
    "linear_svr = LinearSVR(max_iter=10_000)\n",
    "\n",
    "linear_svr_estimator = Pipeline([\n",
    "    ( 'preprocess', preprocessor ),\n",
    "    ( 'model', linear_svr ),\n",
    "])\n",
    "\n",
    "linear_svr_pipeline = RandomizedSearchCV(linear_svr_estimator,\n",
    "                                         parameters_to_tune,\n",
    "                                         scoring=scoring,\n",
    "                                         refit=scoring[2]\n",
    "                                        )\n",
    "linear_svr_pipeline.fit(walmart_features_train,\n",
    "               walmart_weekly_sales_train.values.ravel()).predict(walmart_features_test)\n",
    "add_metrics_data_from_search_results(linear_svr_pipeline.cv_results_,\n",
    "                                     model='LinearSVR')\n",
    "display(linear_svr_pipeline.best_score_,\n",
    "        linear_svr_pipeline.best_params_)"
   ]
  },
  {
   "cell_type": "markdown",
   "id": "2794f110",
   "metadata": {},
   "source": [
    "## 3 Дерево решений"
   ]
  },
  {
   "cell_type": "markdown",
   "id": "c0e5b2e8",
   "metadata": {},
   "source": [
    "Деревья нечувствительны к математическому ожиданию признаков, поэтому\n",
    "попробуем провести исследование на неотмасштабированных данных.\n",
    "Разделим неотмасштабированные данные на обучающую и тестовую выборки:"
   ]
  },
  {
   "cell_type": "code",
   "execution_count": 64,
   "id": "0980f913",
   "metadata": {},
   "outputs": [],
   "source": [
    "walmart_weekly_sales = walmart_without_outliers[TARGET_COL_NAMES]\n",
    "\n",
    "walmart_features = walmart_without_outliers.drop(columns=TARGET_COL_NAMES)\n",
    "\n",
    "walmart_features_train: pd.DataFrame\n",
    "walmart_features_test: pd.DataFrame\n",
    "walmart_weekly_sales_train: pd.Series\n",
    "walmart_weekly_sales_test: pd.Series\n",
    "\n",
    "# Параметр random_state позволяет задавать базовое значение для генератора\n",
    "# случайных чисел. Это делает разбиение неслучайным. Если задается параметр\n",
    "# random_state то результаты разбиения будут одинаковыми при различных\n",
    "# запусках. На практике этот параметр удобно использовать для создания\n",
    "# \"устойчивых\" учебных примеров, которые выдают одинаковый результат при\n",
    "# различных запусках.\n",
    "RANDOM_STATE_SEED = 1\n",
    "\n",
    "walmart_features_train, walmart_features_test, walmart_weekly_sales_train, walmart_weekly_sales_test = train_test_split(\n",
    "    walmart_features, walmart_weekly_sales, random_state=RANDOM_STATE_SEED)"
   ]
  },
  {
   "cell_type": "code",
   "execution_count": 65,
   "id": "27111544",
   "metadata": {},
   "outputs": [],
   "source": [
    "# Гиперпараметры для оптимизации\n",
    "parameters_to_tune = {'model__max_depth' : [3, 4, 5, 6, 7, 8],\n",
    "                      'model__min_samples_leaf' : np.linspace(0.01, 0.1, 10),\n",
    "                      'model__max_features' : [0.2 , 0.4, 0.6, 0.8, 'auto', 'sqrt', 'log2']}"
   ]
  },
  {
   "cell_type": "code",
   "execution_count": 66,
   "id": "f93c6ac0",
   "metadata": {},
   "outputs": [
    {
     "data": {
      "text/plain": [
       "338436.8251839305"
      ]
     },
     "metadata": {},
     "output_type": "display_data"
    },
    {
     "data": {
      "text/plain": [
       "{'model__min_samples_leaf': 0.05000000000000001,\n",
       " 'model__max_features': 0.8,\n",
       " 'model__max_depth': 5}"
      ]
     },
     "metadata": {},
     "output_type": "display_data"
    },
    {
     "name": "stdout",
     "output_type": "stream",
     "text": [
      "CPU times: user 8.25 s, sys: 0 ns, total: 8.25 s\n",
      "Wall time: 8.25 s\n"
     ]
    }
   ],
   "source": [
    "%%time\n",
    "from sklearn.tree import DecisionTreeRegressor\n",
    "\n",
    "decision_tree_regressor = DecisionTreeRegressor(criterion='absolute_error',\n",
    "                                                random_state=RANDOM_STATE_SEED)\n",
    "\n",
    "decision_tree_regressor_estimator = Pipeline([\n",
    "    ( 'preprocess', preprocessor ),\n",
    "    ( 'model', decision_tree_regressor ),\n",
    "])\n",
    "\n",
    "# Оптимизация гиперпараметров\n",
    "decision_tree_regressor_pipeline = RandomizedSearchCV(\n",
    "                                         decision_tree_regressor_estimator,\n",
    "                                         parameters_to_tune,\n",
    "                                         cv=5,\n",
    "                                         scoring=scoring,\n",
    "                                         refit=scoring[0]\n",
    "                                        )\n",
    "\n",
    "decision_tree_regressor_pipeline.fit(walmart_features_train,\n",
    "               walmart_weekly_sales_train.values.ravel()).predict(walmart_features_test)\n",
    "add_metrics_data_from_search_results(decision_tree_regressor_pipeline.cv_results_,\n",
    "                                     model='DecisionTreeRegressor')\n",
    "display(abs(decision_tree_regressor_pipeline.best_score_),\n",
    "        decision_tree_regressor_pipeline.best_params_)"
   ]
  },
  {
   "cell_type": "markdown",
   "id": "c682a47c",
   "metadata": {},
   "source": [
    "Генерация графа дерева с помощью библиотеки graphviz."
   ]
  },
  {
   "cell_type": "code",
   "execution_count": 67,
   "id": "dcc0e943",
   "metadata": {},
   "outputs": [],
   "source": [
    "from sklearn.tree import export_graphviz\n",
    "import graphviz\n",
    "\n",
    "# Выбираем наше дерево из конвейера.\n",
    "best_decision_tree_estimator = decision_tree_regressor_pipeline.best_estimator_\n",
    "best_decision_tree_regressor = best_decision_tree_estimator.fit(walmart_features_train,\n",
    "                                 walmart_weekly_sales_train\n",
    "                                ).named_steps['model']"
   ]
  },
  {
   "cell_type": "code",
   "execution_count": 78,
   "id": "eb64800d",
   "metadata": {},
   "outputs": [
    {
     "data": {
      "text/plain": [
       "'images/graph.svg'"
      ]
     },
     "execution_count": 78,
     "metadata": {},
     "output_type": "execute_result"
    }
   ],
   "source": [
    "dot_data = export_graphviz(best_decision_tree_regressor,\n",
    "                           feature_names=list(walmart_features_train.columns),\n",
    "                           filled=True, rounded=True, special_characters=True,\n",
    "                           rotate=False)\n",
    "\n",
    "graph = graphviz.Source(dot_data, format='svg', directory='images', filename='graph', engine='dot')\n",
    "graph.render()"
   ]
  },
  {
   "cell_type": "code",
   "execution_count": 82,
   "id": "57dd678a",
   "metadata": {},
   "outputs": [
    {
     "data": {
      "text/html": [
       "<img src=\"images/graph.svg\" width=100%>"
      ],
      "text/plain": [
       "<IPython.core.display.HTML object>"
      ]
     },
     "execution_count": 82,
     "metadata": {},
     "output_type": "execute_result"
    }
   ],
   "source": [
    "# Визуализация дерева с помощью графа\n",
    "from IPython.core.display import HTML\n",
    "HTML('<img src=\"images/graph.svg\" width=100%>')"
   ]
  },
  {
   "cell_type": "markdown",
   "id": "bd093b45",
   "metadata": {},
   "source": [
    "## Сравните метрики качества исходной и оптимальной моделей"
   ]
  },
  {
   "cell_type": "code",
   "execution_count": 76,
   "id": "7dd65cc5",
   "metadata": {},
   "outputs": [],
   "source": [
    "from typing import Dict\n",
    "\n",
    "def grouped_bar_chart(ax, data: Dict[str, List[float]],\n",
    "                      tick_labels, colors=None, total_width=0.8,\n",
    "             single_width=1):\n",
    "    \"\"\"Draws a bar plot with multiple bars per data point.\n",
    "\n",
    "    Parameters\n",
    "    ----------\n",
    "    ax: matplotlib.pyplot.axis\n",
    "        The axis we want to draw our plot on.\n",
    "\n",
    "    data: Dict[str, List[float]]\n",
    "        A dictionary containing the data we want to plot. Keys are the names of the\n",
    "        data, the items is a list of the values.\n",
    "\n",
    "        Example:\n",
    "        data = {\n",
    "            \"x\":[ 1, 2,      3      ],\n",
    "            \"y\":[ 1, np.nan, 3      ],\n",
    "            \"z\":[ 1, 2,      np.nan ],\n",
    "        }\n",
    "\n",
    "    tick_labels: list\n",
    "        Labels which will be displayed under each group.\n",
    "\n",
    "        Example:\n",
    "        tick_labels = ['Accuracy', 'F1', 'Precision']\n",
    "\n",
    "        Note:\n",
    "        Length should be the same as number of groups.\n",
    "        \n",
    "\n",
    "    colors: array-like, optional\n",
    "        A list of colors which are used for the bars. If None, the colors\n",
    "        will be the standard matplotlib color cyle. (default: None)\n",
    "\n",
    "    total_width: float, optional, default: 0.8\n",
    "        The width of a bar group. 0.8 means that 80% of the x-axis is covered\n",
    "        by bars and 20% will be spaces between the bars.\n",
    "\n",
    "    single_width: float, optional, default: 1\n",
    "        The relative width of a single bar within a group. 1 means the bars\n",
    "        will touch eachother within a group, values less than 1 will make\n",
    "        these bars thinner.\n",
    "    \"\"\"\n",
    "\n",
    "    # Check if colors where provided, otherwhise use the default color cycle\n",
    "    if colors is None:\n",
    "        colors = plt.rcParams['axes.prop_cycle'].by_key()['color']\n",
    "\n",
    "\n",
    "    # Number of bars per group.\n",
    "    n_bars = len(data)\n",
    "\n",
    "    # The width of a single bar.\n",
    "    bar_width = total_width / n_bars\n",
    "\n",
    "    tick_locations = np.arange(len(tick_labels))\n",
    "\n",
    "    # Iterate over all data.\n",
    "    for i, (name, values) in enumerate(data.items()):\n",
    "        # The offset in x direction of that bar.\n",
    "        tick_offset = (i - n_bars / 2) * bar_width + bar_width / 2\n",
    "\n",
    "        # One bar plot consists of multiple rectangles.\n",
    "        rects = ax.bar(tick_locations + tick_offset, values, width=bar_width * single_width,\n",
    "                     color=colors[i % len(colors)],\n",
    "                     label=name)\n",
    "        # Add a handle to the last drawn bar, which we'll need for the legend.\n",
    "        # bars.append(bars[0])\n",
    "\n",
    "        ax.bar_label(rects, padding=3)\n",
    "\n",
    "    ax.set_xticks(tick_locations, labels=tick_labels)\n",
    "\n",
    "\n",
    "def show_metrics_grouped_bar_chart(metrics_data: Dict[str, Dict[str, float]]):\n",
    "    \"\"\" Creates grouped bar chart for metrics.\n",
    "    :param metrics_data: a dictionary of metrics and their values for each\n",
    "        model.\n",
    "    :type metrics_data: Dict[str, Dict[str, float]]\n",
    "\n",
    "        Example:\n",
    "\n",
    "        metrics_data = {\n",
    "            'GridSearchCV': { \n",
    "                'Accuracy': 1,\n",
    "                'a': 2,\n",
    "                'b': 3,\n",
    "            },\n",
    "            'RandomSearchCV': {\n",
    "                'Roc': 2,\n",
    "                'a': 3,\n",
    "                'b': 4,\n",
    "            },\n",
    "        }\n",
    "\n",
    "    \"\"\"\n",
    "    # plt.figure(figsize=(7,3))\n",
    "    width = 15\n",
    "    height = 15\n",
    "    plt.rcParams['figure.figsize'] = width, height\n",
    "\n",
    "    fig, ax = plt.subplots()\n",
    "\n",
    "    # Extracting unique metric names from our data.\n",
    "    tick_labels = set()\n",
    "    for model_metrics in metrics_data.values():\n",
    "        tick_labels.update(list(model_metrics.keys()))\n",
    "\n",
    "    \"\"\" Converting our dictionary to a `fully filled` dictionary of lists:\n",
    "    data = {\n",
    "        'GridSearchCV': [ \n",
    "            1, # was 'Accuracy': 1,\n",
    "            2, # was 'a': 2,\n",
    "            3, # was 'b': 3,\n",
    "            None, # didn't have value for 'Roc';\n",
    "        ],\n",
    "        'RandomSearchCV': [\n",
    "            None, # didn't have value for 'Accuracy',\n",
    "            3, # was 'a': 3,\n",
    "            4, # was 'b': 4,\n",
    "            2, # was 'Roc': 2;\n",
    "        ],\n",
    "    }\n",
    "    \"\"\"\n",
    "    filled_metrics_data = {}\n",
    "\n",
    "    for model in metrics_data.keys():\n",
    "        filled_metrics_data[model] = []\n",
    "        for metric in tick_labels:\n",
    "            filled_metrics_data[model].append(metrics_data[model].get(metric)\n",
    "                                              or np.nan)\n",
    "            \n",
    "    \n",
    "    grouped_bar_chart(ax, filled_metrics_data, tick_labels=tick_labels,\n",
    "                      total_width=.8, single_width=.9, colors=['#aadddd',\n",
    "                          '#eebbbb', '#ccbbbb', '#77bb77'])\n",
    "\n",
    "    plt.title('Сравнение метрик качества моделей')\n",
    "    plt.xlabel('Метрика')\n",
    "    plt.ylabel('Значение метрики')\n",
    "\n",
    "    ax.legend(title='Стратегия', bbox_to_anchor=(1.2, 1))\n",
    "\n",
    "    plt.yscale('log')\n",
    "    plt.show()"
   ]
  },
  {
   "cell_type": "code",
   "execution_count": 77,
   "id": "7d2eb639",
   "metadata": {},
   "outputs": [
    {
     "data": {
      "image/png": "[encoded data removed]",
      "text/plain": [
       "<Figure size 1080x1080 with 1 Axes>"
      ]
     },
     "metadata": {},
     "output_type": "display_data"
    }
   ],
   "source": [
    "show_metrics_grouped_bar_chart(metrics_data)"
   ]
  }
 ],
 "metadata": {
  "kernelspec": {
   "display_name": "Python 3 (ipykernel)",
   "language": "python",
   "name": "python3"
  },
  "language_info": {
   "codemirror_mode": {
    "name": "ipython",
    "version": 3
   },
   "file_extension": ".py",
   "mimetype": "text/x-python",
   "name": "python",
   "nbconvert_exporter": "python",
   "pygments_lexer": "ipython3",
   "version": "3.8.10"
  }
 },
 "nbformat": 4,
 "nbformat_minor": 5
}
