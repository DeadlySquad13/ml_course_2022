{
 "cells": [
  {
   "cell_type": "code",
   "execution_count": null,
   "id": "f4ae5527",
   "metadata": {},
   "outputs": [],
   "source": []
  },
  {
   "cell_type": "markdown",
   "id": "7331113c",
   "metadata": {},
   "source": [
    "# Лабораторная работа №4\n",
    "# Линейные модели, SVM и деревья решений.\n",
    "\n",
    "Выполнил: **Пакало А. С., РТ5-61Б**"
   ]
  },
  {
   "cell_type": "markdown",
   "id": "4b92f147",
   "metadata": {},
   "source": [
    "## Задание\n",
    "1. Выберите набор данных (датасет) для решения задачи классификации или регрессии.\n",
    "1. В случае необходимости проведите удаление или заполнение пропусков и кодирование категориальных признаков.\n",
    "1. С использованием метода train_test_split разделите выборку на обучающую и тестовую.\n",
    "1. Обучите следующие модели:\n",
    "  - одну из линейных моделей (линейную или полиномиальную регрессию при решении задачи регрессии, логистическую регрессию при решении задачи классификации);\n",
    "  - SVM;\n",
    "  - дерево решений.\n",
    "1. Оцените качество моделей с помощью двух подходящих для задачи метрик. Сравните качество полученных моделей.\n",
    "1. Постройте график, показывающий важность признаков в дереве решений.\n",
    "1. Визуализируйте дерево решений или выведите правила дерева решений в текстовом виде."
   ]
  },
  {
   "cell_type": "markdown",
   "id": "c1cdaa93",
   "metadata": {},
   "source": [
    "## Текстовое описание набора данных\n",
    "Для обучения моделей был выбран набор данных по недельным продажам в сети\n",
    "магазинов Walmart ([Walmart Dataset](https://www.kaggle.com/datasets/yasserh/walmart-dataset)). На основе данного датасета будем решать задачу регресии.\n",
    "\n",
    "В данном наборе данных присутствуют следующие столбцы:\n",
    "\n",
    "* Store — номер магазина;\n",
    "* Date — дата начала недели продаж;\n",
    "* Weekly_Sales — недельные продажи магазина. Является целевым признаком;\n",
    "* Holiday_Flag — бинарный признак отсутствия/наличния (0/1) праздника;\n",
    "* Temperature — температура в день продаж;\n",
    "* Fuel_Price — цена топлива в регионе;\n",
    "* [CPI](https://ru.wikipedia.org/wiki/%D0%98%D0%BD%D0%B4%D0%B5%D0%BA%D1%81_%D0%BF%D0%BE%D1%82%D1%80%D0%B5%D0%B1%D0%B8%D1%82%D0%B5%D0%BB%D1%8C%D1%81%D0%BA%D0%B8%D1%85_%D1%86%D0%B5%D0%BD) — индекс потребительских цен;\n",
    "* Unemployment — показатель безработицы.\n",
    "\n",
    "Так как данных очень много, перед тем как приступить к анализу, проведем обзор данных и, возможно, потребуется их предобработка, чтобы датасет стал более удобным и пригодным к проведению исследования.\n",
    "\n",
    "Таким образом исследование пройдет в 6 этапов:\n",
    "- загрузка данных,\n",
    "- проведение разведочного анализа данных и предобработка данных,\n",
    "- разделение на обучающую и тестовую выборку,\n",
    "- выбор метрики,\n",
    "- обучение моделей,\n",
    "- сравнение значений метрики."
   ]
  },
  {
   "cell_type": "markdown",
   "id": "a120abbf",
   "metadata": {},
   "source": [
    "## Импортирование необходимых библиотек, подготовка окружения"
   ]
  },
  {
   "cell_type": "code",
   "execution_count": 1,
   "id": "8fbca43b",
   "metadata": {},
   "outputs": [],
   "source": [
    "# Основные библиотеки.\n",
    "from IPython.core.display import display_markdown\n",
    "import numpy as np\n",
    "import pandas as pd\n",
    "\n",
    "# Визуализция.\n",
    "import matplotlib.pyplot as plt\n",
    "import seaborn as sns\n",
    "\n",
    "# Для разбития выборки.\n",
    "from sklearn.model_selection import train_test_split\n",
    "from sklearn.preprocessing import MinMaxScaler\n",
    "from sklearn.pipeline import Pipeline\n",
    "from sklearn.compose import ColumnTransformer\n",
    "\n",
    "# Отрисовка статуса выполнения.\n",
    "from tqdm.notebook import tqdm\n",
    "\n",
    "# Типизация.\n",
    "from typing import List\n",
    "\n",
    "# Вывод данных.\n",
    "from IPython.display import display\n",
    "\n",
    "\n",
    "# Конфигурация визуализации.\n",
    "%matplotlib inline\n",
    "sns.set(style='ticks')"
   ]
  },
  {
   "cell_type": "markdown",
   "id": "fe626aef",
   "metadata": {},
   "source": [
    "## Загрузка данных\n",
    "### Считываем данные из .csv\n",
    "Загрузим файлы датасета в помощью библиотеки Pandas.\n",
    "\n",
    "Не смотря на то, что файлы имеют расширение txt они представляют собой данные\n",
    "в формате [CSV](https://ru.wikipedia.org/wiki/CSV). Часто в файлах такого\n",
    "формата в качестве разделителей используются символы \",\", \";\" или табуляция.\n",
    "Поэтому вызывая метод read_csv всегда стоит явно указывать разделитель данных\n",
    "с помощью параметра sep. Чтобы узнать какой разделитель используется в файле\n",
    "его рекомендуется предварительно посмотреть в любом текстовом редакторе."
   ]
  },
  {
   "cell_type": "code",
   "execution_count": 2,
   "id": "d5bb45d6",
   "metadata": {},
   "outputs": [],
   "source": [
    "walmart = pd.read_csv('data/Walmart.csv')"
   ]
  },
  {
   "cell_type": "markdown",
   "id": "7c12c8f1",
   "metadata": {},
   "source": [
    "## Проведение разведочного анализа данных. Построение графиков, необходимых для понимания структуры данных. Анализ и предобработка данных."
   ]
  },
  {
   "cell_type": "markdown",
   "id": "b0f13f50",
   "metadata": {},
   "source": [
    "Размеры датасета: (строки, колонки)."
   ]
  },
  {
   "cell_type": "code",
   "execution_count": 3,
   "id": "9ba361d7",
   "metadata": {},
   "outputs": [
    {
     "data": {
      "text/plain": [
       "(6435, 8)"
      ]
     },
     "execution_count": 3,
     "metadata": {},
     "output_type": "execute_result"
    }
   ],
   "source": [
    "walmart.shape"
   ]
  },
  {
   "cell_type": "markdown",
   "id": "d5922e8f",
   "metadata": {},
   "source": [
    "Общий вид данных таблицы:"
   ]
  },
  {
   "cell_type": "code",
   "execution_count": 4,
   "id": "42c0399c",
   "metadata": {},
   "outputs": [
    {
     "data": {
      "text/html": [
       "<div>\n",
       "<style scoped>\n",
       "    .dataframe tbody tr th:only-of-type {\n",
       "        vertical-align: middle;\n",
       "    }\n",
       "\n",
       "    .dataframe tbody tr th {\n",
       "        vertical-align: top;\n",
       "    }\n",
       "\n",
       "    .dataframe thead th {\n",
       "        text-align: right;\n",
       "    }\n",
       "</style>\n",
       "<table border=\"1\" class=\"dataframe\">\n",
       "  <thead>\n",
       "    <tr style=\"text-align: right;\">\n",
       "      <th></th>\n",
       "      <th>Store</th>\n",
       "      <th>Date</th>\n",
       "      <th>Weekly_Sales</th>\n",
       "      <th>Holiday_Flag</th>\n",
       "      <th>Temperature</th>\n",
       "      <th>Fuel_Price</th>\n",
       "      <th>CPI</th>\n",
       "      <th>Unemployment</th>\n",
       "    </tr>\n",
       "  </thead>\n",
       "  <tbody>\n",
       "    <tr>\n",
       "      <th>0</th>\n",
       "      <td>1</td>\n",
       "      <td>05-02-2010</td>\n",
       "      <td>1643690.90</td>\n",
       "      <td>0</td>\n",
       "      <td>42.31</td>\n",
       "      <td>2.572</td>\n",
       "      <td>211.096358</td>\n",
       "      <td>8.106</td>\n",
       "    </tr>\n",
       "    <tr>\n",
       "      <th>1</th>\n",
       "      <td>1</td>\n",
       "      <td>12-02-2010</td>\n",
       "      <td>1641957.44</td>\n",
       "      <td>1</td>\n",
       "      <td>38.51</td>\n",
       "      <td>2.548</td>\n",
       "      <td>211.242170</td>\n",
       "      <td>8.106</td>\n",
       "    </tr>\n",
       "    <tr>\n",
       "      <th>2</th>\n",
       "      <td>1</td>\n",
       "      <td>19-02-2010</td>\n",
       "      <td>1611968.17</td>\n",
       "      <td>0</td>\n",
       "      <td>39.93</td>\n",
       "      <td>2.514</td>\n",
       "      <td>211.289143</td>\n",
       "      <td>8.106</td>\n",
       "    </tr>\n",
       "    <tr>\n",
       "      <th>3</th>\n",
       "      <td>1</td>\n",
       "      <td>26-02-2010</td>\n",
       "      <td>1409727.59</td>\n",
       "      <td>0</td>\n",
       "      <td>46.63</td>\n",
       "      <td>2.561</td>\n",
       "      <td>211.319643</td>\n",
       "      <td>8.106</td>\n",
       "    </tr>\n",
       "    <tr>\n",
       "      <th>4</th>\n",
       "      <td>1</td>\n",
       "      <td>05-03-2010</td>\n",
       "      <td>1554806.68</td>\n",
       "      <td>0</td>\n",
       "      <td>46.50</td>\n",
       "      <td>2.625</td>\n",
       "      <td>211.350143</td>\n",
       "      <td>8.106</td>\n",
       "    </tr>\n",
       "  </tbody>\n",
       "</table>\n",
       "</div>"
      ],
      "text/plain": [
       "   Store        Date  Weekly_Sales  Holiday_Flag  Temperature  Fuel_Price  \\\n",
       "0      1  05-02-2010    1643690.90             0        42.31       2.572   \n",
       "1      1  12-02-2010    1641957.44             1        38.51       2.548   \n",
       "2      1  19-02-2010    1611968.17             0        39.93       2.514   \n",
       "3      1  26-02-2010    1409727.59             0        46.63       2.561   \n",
       "4      1  05-03-2010    1554806.68             0        46.50       2.625   \n",
       "\n",
       "          CPI  Unemployment  \n",
       "0  211.096358         8.106  \n",
       "1  211.242170         8.106  \n",
       "2  211.289143         8.106  \n",
       "3  211.319643         8.106  \n",
       "4  211.350143         8.106  "
      ]
     },
     "execution_count": 4,
     "metadata": {},
     "output_type": "execute_result"
    }
   ],
   "source": [
    "walmart.head()"
   ]
  },
  {
   "cell_type": "markdown",
   "id": "20be2bbb",
   "metadata": {},
   "source": [
    "Список колонок:"
   ]
  },
  {
   "cell_type": "code",
   "execution_count": 5,
   "id": "e22579d1",
   "metadata": {},
   "outputs": [
    {
     "data": {
      "text/plain": [
       "Index(['Store', 'Date', 'Weekly_Sales', 'Holiday_Flag', 'Temperature',\n",
       "       'Fuel_Price', 'CPI', 'Unemployment'],\n",
       "      dtype='object')"
      ]
     },
     "execution_count": 5,
     "metadata": {},
     "output_type": "execute_result"
    }
   ],
   "source": [
    "walmart.columns"
   ]
  },
  {
   "cell_type": "markdown",
   "id": "3d0918bd",
   "metadata": {},
   "source": [
    "Список колонок с типами данных:"
   ]
  },
  {
   "cell_type": "code",
   "execution_count": 6,
   "id": "97fc17c7",
   "metadata": {},
   "outputs": [
    {
     "data": {
      "text/plain": [
       "Store             int64\n",
       "Date             object\n",
       "Weekly_Sales    float64\n",
       "Holiday_Flag      int64\n",
       "Temperature     float64\n",
       "Fuel_Price      float64\n",
       "CPI             float64\n",
       "Unemployment    float64\n",
       "dtype: object"
      ]
     },
     "execution_count": 6,
     "metadata": {},
     "output_type": "execute_result"
    }
   ],
   "source": [
    "walmart.dtypes"
   ]
  },
  {
   "cell_type": "markdown",
   "id": "f22a2d01",
   "metadata": {},
   "source": [
    "Как видно, все данные приведены к адекватному типу данных."
   ]
  },
  {
   "cell_type": "markdown",
   "id": "68da0254",
   "metadata": {},
   "source": [
    "Пустые значения:"
   ]
  },
  {
   "cell_type": "code",
   "execution_count": 7,
   "id": "7dc97118",
   "metadata": {},
   "outputs": [
    {
     "data": {
      "text/plain": [
       "Store           0\n",
       "Date            0\n",
       "Weekly_Sales    0\n",
       "Holiday_Flag    0\n",
       "Temperature     0\n",
       "Fuel_Price      0\n",
       "CPI             0\n",
       "Unemployment    0\n",
       "dtype: int64"
      ]
     },
     "execution_count": 7,
     "metadata": {},
     "output_type": "execute_result"
    }
   ],
   "source": [
    "walmart.isnull().sum()"
   ]
  },
  {
   "cell_type": "markdown",
   "id": "5d80ad27",
   "metadata": {},
   "source": [
    "Пустых значений нет."
   ]
  },
  {
   "cell_type": "markdown",
   "id": "87c12d94",
   "metadata": {},
   "source": [
    "Проверим на дублирующиеся значения:"
   ]
  },
  {
   "cell_type": "code",
   "execution_count": 8,
   "id": "82fa5579",
   "metadata": {},
   "outputs": [
    {
     "data": {
      "text/plain": [
       "0"
      ]
     },
     "execution_count": 8,
     "metadata": {},
     "output_type": "execute_result"
    }
   ],
   "source": [
    "walmart.duplicated().sum()"
   ]
  },
  {
   "cell_type": "markdown",
   "id": "2d73fdee",
   "metadata": {},
   "source": [
    "Дублирующихся значений нет."
   ]
  },
  {
   "cell_type": "markdown",
   "id": "5a04787e",
   "metadata": {},
   "source": [
    "## Предобработка данных\n",
    "С признаком, хранящий дату, будет легче работать, если разбить его на три\n",
    "отдельные признака: неделя, месяц и год. Можем позволить оставить наименьшей\n",
    "единицей неделю, так как нам даны лишь *недельные* продажи магазина."
   ]
  },
  {
   "cell_type": "code",
   "execution_count": 9,
   "id": "4cf7cb12",
   "metadata": {},
   "outputs": [
    {
     "data": {
      "text/html": [
       "<div>\n",
       "<style scoped>\n",
       "    .dataframe tbody tr th:only-of-type {\n",
       "        vertical-align: middle;\n",
       "    }\n",
       "\n",
       "    .dataframe tbody tr th {\n",
       "        vertical-align: top;\n",
       "    }\n",
       "\n",
       "    .dataframe thead th {\n",
       "        text-align: right;\n",
       "    }\n",
       "</style>\n",
       "<table border=\"1\" class=\"dataframe\">\n",
       "  <thead>\n",
       "    <tr style=\"text-align: right;\">\n",
       "      <th></th>\n",
       "      <th>Store</th>\n",
       "      <th>Week</th>\n",
       "      <th>Month</th>\n",
       "      <th>Year</th>\n",
       "      <th>Holiday_Flag</th>\n",
       "      <th>Temperature</th>\n",
       "      <th>Fuel_Price</th>\n",
       "      <th>CPI</th>\n",
       "      <th>Unemployment</th>\n",
       "      <th>Weekly_Sales</th>\n",
       "    </tr>\n",
       "  </thead>\n",
       "  <tbody>\n",
       "    <tr>\n",
       "      <th>0</th>\n",
       "      <td>1</td>\n",
       "      <td>5</td>\n",
       "      <td>2</td>\n",
       "      <td>2010</td>\n",
       "      <td>0</td>\n",
       "      <td>42.31</td>\n",
       "      <td>2.572</td>\n",
       "      <td>211.096358</td>\n",
       "      <td>8.106</td>\n",
       "      <td>1643690.90</td>\n",
       "    </tr>\n",
       "    <tr>\n",
       "      <th>1</th>\n",
       "      <td>1</td>\n",
       "      <td>6</td>\n",
       "      <td>2</td>\n",
       "      <td>2010</td>\n",
       "      <td>1</td>\n",
       "      <td>38.51</td>\n",
       "      <td>2.548</td>\n",
       "      <td>211.242170</td>\n",
       "      <td>8.106</td>\n",
       "      <td>1641957.44</td>\n",
       "    </tr>\n",
       "    <tr>\n",
       "      <th>2</th>\n",
       "      <td>1</td>\n",
       "      <td>7</td>\n",
       "      <td>2</td>\n",
       "      <td>2010</td>\n",
       "      <td>0</td>\n",
       "      <td>39.93</td>\n",
       "      <td>2.514</td>\n",
       "      <td>211.289143</td>\n",
       "      <td>8.106</td>\n",
       "      <td>1611968.17</td>\n",
       "    </tr>\n",
       "    <tr>\n",
       "      <th>3</th>\n",
       "      <td>1</td>\n",
       "      <td>8</td>\n",
       "      <td>2</td>\n",
       "      <td>2010</td>\n",
       "      <td>0</td>\n",
       "      <td>46.63</td>\n",
       "      <td>2.561</td>\n",
       "      <td>211.319643</td>\n",
       "      <td>8.106</td>\n",
       "      <td>1409727.59</td>\n",
       "    </tr>\n",
       "    <tr>\n",
       "      <th>4</th>\n",
       "      <td>1</td>\n",
       "      <td>9</td>\n",
       "      <td>3</td>\n",
       "      <td>2010</td>\n",
       "      <td>0</td>\n",
       "      <td>46.50</td>\n",
       "      <td>2.625</td>\n",
       "      <td>211.350143</td>\n",
       "      <td>8.106</td>\n",
       "      <td>1554806.68</td>\n",
       "    </tr>\n",
       "  </tbody>\n",
       "</table>\n",
       "</div>"
      ],
      "text/plain": [
       "   Store  Week  Month  Year  Holiday_Flag  Temperature  Fuel_Price  \\\n",
       "0      1     5      2  2010             0        42.31       2.572   \n",
       "1      1     6      2  2010             1        38.51       2.548   \n",
       "2      1     7      2  2010             0        39.93       2.514   \n",
       "3      1     8      2  2010             0        46.63       2.561   \n",
       "4      1     9      3  2010             0        46.50       2.625   \n",
       "\n",
       "          CPI  Unemployment  Weekly_Sales  \n",
       "0  211.096358         8.106    1643690.90  \n",
       "1  211.242170         8.106    1641957.44  \n",
       "2  211.289143         8.106    1611968.17  \n",
       "3  211.319643         8.106    1409727.59  \n",
       "4  211.350143         8.106    1554806.68  "
      ]
     },
     "metadata": {},
     "output_type": "display_data"
    },
    {
     "data": {
      "text/plain": [
       "Store             int64\n",
       "Week              int64\n",
       "Month             int64\n",
       "Year              int64\n",
       "Holiday_Flag      int64\n",
       "Temperature     float64\n",
       "Fuel_Price      float64\n",
       "CPI             float64\n",
       "Unemployment    float64\n",
       "Weekly_Sales    float64\n",
       "dtype: object"
      ]
     },
     "metadata": {},
     "output_type": "display_data"
    }
   ],
   "source": [
    "# Разделение поля Date\n",
    "walmart['Date'] = pd.to_datetime(walmart['Date'], dayfirst=True)\n",
    "walmart['Week'] = walmart['Date'].dt.isocalendar().week.astype('int64')\n",
    "walmart['Month'] = walmart['Date'].dt.month\n",
    "walmart['Year'] = walmart['Date'].dt.year\n",
    "\n",
    "# Удаление столбца Date\n",
    "walmart = walmart.drop(columns=['Date'])\n",
    "\n",
    "# Перестановка столбцов\n",
    "walmart = walmart[['Store', 'Week', 'Month', 'Year', 'Holiday_Flag', 'Temperature', 'Fuel_Price', 'CPI', 'Unemployment', 'Weekly_Sales']]\n",
    "display(walmart.head(), walmart.dtypes)\n",
    "\n"
   ]
  },
  {
   "cell_type": "markdown",
   "id": "cc520232",
   "metadata": {},
   "source": [
    "## Корреляционный анализ\n",
    "Построим корреляционную матрицу, чтобы проанализировать зависимости\n",
    "параметров.\n",
    "Тепловая карта корреляционной матрицы."
   ]
  },
  {
   "cell_type": "code",
   "execution_count": 10,
   "id": "d941d4cb",
   "metadata": {},
   "outputs": [
    {
     "data": {
      "image/png": "[encoded data removed]",
      "text/plain": [
       "<Figure size 720x576 with 2 Axes>"
      ]
     },
     "metadata": {},
     "output_type": "display_data"
    }
   ],
   "source": [
    "plt.figure(figsize=(10,8))\n",
    "sns.heatmap(data=walmart.corr(), vmin=-1, vmax=1, annot=True, fmt='.3f',\n",
    "            cmap='PuBu')\n",
    "plt.show()"
   ]
  },
  {
   "cell_type": "markdown",
   "id": "15a54232",
   "metadata": {},
   "source": [
    "Из данной корреляционной матрицы можем сделать следующие выводы:\n",
    "\n",
    "- Все нецелевые признаки имеют слабую связь с целевым (Weekly_Sales). Сильнее\n",
    "всего коррилиует признак Store;\n",
    "- Признаки Week и Month практически линейно зависимы друг от друга. Оставим\n",
    "только признак Week;\n",
    "- Признаки Year и Fuel_Price тоже сильно коррелируют друг с другом. Оставим\n",
    "признак Fuel_Price."
   ]
  },
  {
   "cell_type": "code",
   "execution_count": 11,
   "id": "e5372342",
   "metadata": {},
   "outputs": [
    {
     "data": {
      "text/html": [
       "<div>\n",
       "<style scoped>\n",
       "    .dataframe tbody tr th:only-of-type {\n",
       "        vertical-align: middle;\n",
       "    }\n",
       "\n",
       "    .dataframe tbody tr th {\n",
       "        vertical-align: top;\n",
       "    }\n",
       "\n",
       "    .dataframe thead th {\n",
       "        text-align: right;\n",
       "    }\n",
       "</style>\n",
       "<table border=\"1\" class=\"dataframe\">\n",
       "  <thead>\n",
       "    <tr style=\"text-align: right;\">\n",
       "      <th></th>\n",
       "      <th>Store</th>\n",
       "      <th>Week</th>\n",
       "      <th>Holiday_Flag</th>\n",
       "      <th>Temperature</th>\n",
       "      <th>Fuel_Price</th>\n",
       "      <th>CPI</th>\n",
       "      <th>Unemployment</th>\n",
       "      <th>Weekly_Sales</th>\n",
       "    </tr>\n",
       "  </thead>\n",
       "  <tbody>\n",
       "    <tr>\n",
       "      <th>0</th>\n",
       "      <td>1</td>\n",
       "      <td>5</td>\n",
       "      <td>0</td>\n",
       "      <td>42.31</td>\n",
       "      <td>2.572</td>\n",
       "      <td>211.096358</td>\n",
       "      <td>8.106</td>\n",
       "      <td>1643690.90</td>\n",
       "    </tr>\n",
       "    <tr>\n",
       "      <th>1</th>\n",
       "      <td>1</td>\n",
       "      <td>6</td>\n",
       "      <td>1</td>\n",
       "      <td>38.51</td>\n",
       "      <td>2.548</td>\n",
       "      <td>211.242170</td>\n",
       "      <td>8.106</td>\n",
       "      <td>1641957.44</td>\n",
       "    </tr>\n",
       "    <tr>\n",
       "      <th>2</th>\n",
       "      <td>1</td>\n",
       "      <td>7</td>\n",
       "      <td>0</td>\n",
       "      <td>39.93</td>\n",
       "      <td>2.514</td>\n",
       "      <td>211.289143</td>\n",
       "      <td>8.106</td>\n",
       "      <td>1611968.17</td>\n",
       "    </tr>\n",
       "    <tr>\n",
       "      <th>3</th>\n",
       "      <td>1</td>\n",
       "      <td>8</td>\n",
       "      <td>0</td>\n",
       "      <td>46.63</td>\n",
       "      <td>2.561</td>\n",
       "      <td>211.319643</td>\n",
       "      <td>8.106</td>\n",
       "      <td>1409727.59</td>\n",
       "    </tr>\n",
       "    <tr>\n",
       "      <th>4</th>\n",
       "      <td>1</td>\n",
       "      <td>9</td>\n",
       "      <td>0</td>\n",
       "      <td>46.50</td>\n",
       "      <td>2.625</td>\n",
       "      <td>211.350143</td>\n",
       "      <td>8.106</td>\n",
       "      <td>1554806.68</td>\n",
       "    </tr>\n",
       "  </tbody>\n",
       "</table>\n",
       "</div>"
      ],
      "text/plain": [
       "   Store  Week  Holiday_Flag  Temperature  Fuel_Price         CPI  \\\n",
       "0      1     5             0        42.31       2.572  211.096358   \n",
       "1      1     6             1        38.51       2.548  211.242170   \n",
       "2      1     7             0        39.93       2.514  211.289143   \n",
       "3      1     8             0        46.63       2.561  211.319643   \n",
       "4      1     9             0        46.50       2.625  211.350143   \n",
       "\n",
       "   Unemployment  Weekly_Sales  \n",
       "0         8.106    1643690.90  \n",
       "1         8.106    1641957.44  \n",
       "2         8.106    1611968.17  \n",
       "3         8.106    1409727.59  \n",
       "4         8.106    1554806.68  "
      ]
     },
     "execution_count": 11,
     "metadata": {},
     "output_type": "execute_result"
    }
   ],
   "source": [
    "# Удаление лишних колонок\n",
    "walmart_without_linear_correlates = walmart.drop(columns=['Month', 'Year'])\n",
    "walmart_without_linear_correlates.head()\n",
    "\n"
   ]
  },
  {
   "cell_type": "code",
   "execution_count": 12,
   "id": "b244a812",
   "metadata": {},
   "outputs": [
    {
     "data": {
      "text/html": [
       "<div>\n",
       "<style scoped>\n",
       "    .dataframe tbody tr th:only-of-type {\n",
       "        vertical-align: middle;\n",
       "    }\n",
       "\n",
       "    .dataframe tbody tr th {\n",
       "        vertical-align: top;\n",
       "    }\n",
       "\n",
       "    .dataframe thead th {\n",
       "        text-align: right;\n",
       "    }\n",
       "</style>\n",
       "<table border=\"1\" class=\"dataframe\">\n",
       "  <thead>\n",
       "    <tr style=\"text-align: right;\">\n",
       "      <th></th>\n",
       "      <th>Weekly_Sales</th>\n",
       "    </tr>\n",
       "  </thead>\n",
       "  <tbody>\n",
       "    <tr>\n",
       "      <th>0</th>\n",
       "      <td>1643690.90</td>\n",
       "    </tr>\n",
       "    <tr>\n",
       "      <th>1</th>\n",
       "      <td>1641957.44</td>\n",
       "    </tr>\n",
       "    <tr>\n",
       "      <th>2</th>\n",
       "      <td>1611968.17</td>\n",
       "    </tr>\n",
       "    <tr>\n",
       "      <th>3</th>\n",
       "      <td>1409727.59</td>\n",
       "    </tr>\n",
       "    <tr>\n",
       "      <th>4</th>\n",
       "      <td>1554806.68</td>\n",
       "    </tr>\n",
       "    <tr>\n",
       "      <th>...</th>\n",
       "      <td>...</td>\n",
       "    </tr>\n",
       "    <tr>\n",
       "      <th>6430</th>\n",
       "      <td>713173.95</td>\n",
       "    </tr>\n",
       "    <tr>\n",
       "      <th>6431</th>\n",
       "      <td>733455.07</td>\n",
       "    </tr>\n",
       "    <tr>\n",
       "      <th>6432</th>\n",
       "      <td>734464.36</td>\n",
       "    </tr>\n",
       "    <tr>\n",
       "      <th>6433</th>\n",
       "      <td>718125.53</td>\n",
       "    </tr>\n",
       "    <tr>\n",
       "      <th>6434</th>\n",
       "      <td>760281.43</td>\n",
       "    </tr>\n",
       "  </tbody>\n",
       "</table>\n",
       "<p>6435 rows × 1 columns</p>\n",
       "</div>"
      ],
      "text/plain": [
       "      Weekly_Sales\n",
       "0       1643690.90\n",
       "1       1641957.44\n",
       "2       1611968.17\n",
       "3       1409727.59\n",
       "4       1554806.68\n",
       "...            ...\n",
       "6430     713173.95\n",
       "6431     733455.07\n",
       "6432     734464.36\n",
       "6433     718125.53\n",
       "6434     760281.43\n",
       "\n",
       "[6435 rows x 1 columns]"
      ]
     },
     "metadata": {},
     "output_type": "display_data"
    },
    {
     "data": {
      "text/html": [
       "<div>\n",
       "<style scoped>\n",
       "    .dataframe tbody tr th:only-of-type {\n",
       "        vertical-align: middle;\n",
       "    }\n",
       "\n",
       "    .dataframe tbody tr th {\n",
       "        vertical-align: top;\n",
       "    }\n",
       "\n",
       "    .dataframe thead th {\n",
       "        text-align: right;\n",
       "    }\n",
       "</style>\n",
       "<table border=\"1\" class=\"dataframe\">\n",
       "  <thead>\n",
       "    <tr style=\"text-align: right;\">\n",
       "      <th></th>\n",
       "      <th>Store</th>\n",
       "      <th>Week</th>\n",
       "      <th>Month</th>\n",
       "      <th>Year</th>\n",
       "      <th>Holiday_Flag</th>\n",
       "      <th>Temperature</th>\n",
       "      <th>Fuel_Price</th>\n",
       "      <th>CPI</th>\n",
       "      <th>Unemployment</th>\n",
       "    </tr>\n",
       "  </thead>\n",
       "  <tbody>\n",
       "    <tr>\n",
       "      <th>0</th>\n",
       "      <td>1</td>\n",
       "      <td>5</td>\n",
       "      <td>2</td>\n",
       "      <td>2010</td>\n",
       "      <td>0</td>\n",
       "      <td>42.31</td>\n",
       "      <td>2.572</td>\n",
       "      <td>211.096358</td>\n",
       "      <td>8.106</td>\n",
       "    </tr>\n",
       "    <tr>\n",
       "      <th>1</th>\n",
       "      <td>1</td>\n",
       "      <td>6</td>\n",
       "      <td>2</td>\n",
       "      <td>2010</td>\n",
       "      <td>1</td>\n",
       "      <td>38.51</td>\n",
       "      <td>2.548</td>\n",
       "      <td>211.242170</td>\n",
       "      <td>8.106</td>\n",
       "    </tr>\n",
       "    <tr>\n",
       "      <th>2</th>\n",
       "      <td>1</td>\n",
       "      <td>7</td>\n",
       "      <td>2</td>\n",
       "      <td>2010</td>\n",
       "      <td>0</td>\n",
       "      <td>39.93</td>\n",
       "      <td>2.514</td>\n",
       "      <td>211.289143</td>\n",
       "      <td>8.106</td>\n",
       "    </tr>\n",
       "    <tr>\n",
       "      <th>3</th>\n",
       "      <td>1</td>\n",
       "      <td>8</td>\n",
       "      <td>2</td>\n",
       "      <td>2010</td>\n",
       "      <td>0</td>\n",
       "      <td>46.63</td>\n",
       "      <td>2.561</td>\n",
       "      <td>211.319643</td>\n",
       "      <td>8.106</td>\n",
       "    </tr>\n",
       "    <tr>\n",
       "      <th>4</th>\n",
       "      <td>1</td>\n",
       "      <td>9</td>\n",
       "      <td>3</td>\n",
       "      <td>2010</td>\n",
       "      <td>0</td>\n",
       "      <td>46.50</td>\n",
       "      <td>2.625</td>\n",
       "      <td>211.350143</td>\n",
       "      <td>8.106</td>\n",
       "    </tr>\n",
       "    <tr>\n",
       "      <th>...</th>\n",
       "      <td>...</td>\n",
       "      <td>...</td>\n",
       "      <td>...</td>\n",
       "      <td>...</td>\n",
       "      <td>...</td>\n",
       "      <td>...</td>\n",
       "      <td>...</td>\n",
       "      <td>...</td>\n",
       "      <td>...</td>\n",
       "    </tr>\n",
       "    <tr>\n",
       "      <th>6430</th>\n",
       "      <td>45</td>\n",
       "      <td>39</td>\n",
       "      <td>9</td>\n",
       "      <td>2012</td>\n",
       "      <td>0</td>\n",
       "      <td>64.88</td>\n",
       "      <td>3.997</td>\n",
       "      <td>192.013558</td>\n",
       "      <td>8.684</td>\n",
       "    </tr>\n",
       "    <tr>\n",
       "      <th>6431</th>\n",
       "      <td>45</td>\n",
       "      <td>40</td>\n",
       "      <td>10</td>\n",
       "      <td>2012</td>\n",
       "      <td>0</td>\n",
       "      <td>64.89</td>\n",
       "      <td>3.985</td>\n",
       "      <td>192.170412</td>\n",
       "      <td>8.667</td>\n",
       "    </tr>\n",
       "    <tr>\n",
       "      <th>6432</th>\n",
       "      <td>45</td>\n",
       "      <td>41</td>\n",
       "      <td>10</td>\n",
       "      <td>2012</td>\n",
       "      <td>0</td>\n",
       "      <td>54.47</td>\n",
       "      <td>4.000</td>\n",
       "      <td>192.327265</td>\n",
       "      <td>8.667</td>\n",
       "    </tr>\n",
       "    <tr>\n",
       "      <th>6433</th>\n",
       "      <td>45</td>\n",
       "      <td>42</td>\n",
       "      <td>10</td>\n",
       "      <td>2012</td>\n",
       "      <td>0</td>\n",
       "      <td>56.47</td>\n",
       "      <td>3.969</td>\n",
       "      <td>192.330854</td>\n",
       "      <td>8.667</td>\n",
       "    </tr>\n",
       "    <tr>\n",
       "      <th>6434</th>\n",
       "      <td>45</td>\n",
       "      <td>43</td>\n",
       "      <td>10</td>\n",
       "      <td>2012</td>\n",
       "      <td>0</td>\n",
       "      <td>58.85</td>\n",
       "      <td>3.882</td>\n",
       "      <td>192.308899</td>\n",
       "      <td>8.667</td>\n",
       "    </tr>\n",
       "  </tbody>\n",
       "</table>\n",
       "<p>6435 rows × 9 columns</p>\n",
       "</div>"
      ],
      "text/plain": [
       "      Store  Week  Month  Year  Holiday_Flag  Temperature  Fuel_Price  \\\n",
       "0         1     5      2  2010             0        42.31       2.572   \n",
       "1         1     6      2  2010             1        38.51       2.548   \n",
       "2         1     7      2  2010             0        39.93       2.514   \n",
       "3         1     8      2  2010             0        46.63       2.561   \n",
       "4         1     9      3  2010             0        46.50       2.625   \n",
       "...     ...   ...    ...   ...           ...          ...         ...   \n",
       "6430     45    39      9  2012             0        64.88       3.997   \n",
       "6431     45    40     10  2012             0        64.89       3.985   \n",
       "6432     45    41     10  2012             0        54.47       4.000   \n",
       "6433     45    42     10  2012             0        56.47       3.969   \n",
       "6434     45    43     10  2012             0        58.85       3.882   \n",
       "\n",
       "             CPI  Unemployment  \n",
       "0     211.096358         8.106  \n",
       "1     211.242170         8.106  \n",
       "2     211.289143         8.106  \n",
       "3     211.319643         8.106  \n",
       "4     211.350143         8.106  \n",
       "...          ...           ...  \n",
       "6430  192.013558         8.684  \n",
       "6431  192.170412         8.667  \n",
       "6432  192.327265         8.667  \n",
       "6433  192.330854         8.667  \n",
       "6434  192.308899         8.667  \n",
       "\n",
       "[6435 rows x 9 columns]"
      ]
     },
     "metadata": {},
     "output_type": "display_data"
    }
   ],
   "source": [
    "# Извлекаем целевой признак.\n",
    "TARGET_COL_NAMES = ['Weekly_Sales']\n",
    "walmart_weekly_sales = walmart[TARGET_COL_NAMES]\n",
    "\n",
    "walmart_features = walmart.drop(columns=TARGET_COL_NAMES)\n",
    "display(walmart_weekly_sales, walmart_features)"
   ]
  },
  {
   "cell_type": "code",
   "execution_count": 13,
   "id": "69d5dcc1",
   "metadata": {},
   "outputs": [],
   "source": [
    "# Перед использованием модели закодируем категориальные признаки с помощью\n",
    "# one-hot encoding, где каждое уникальное значение признака становится новым\n",
    "# признаком. Это позволяет избежать фиктивного отношения порядка."
   ]
  },
  {
   "cell_type": "code",
   "execution_count": 14,
   "id": "c1e3f42c",
   "metadata": {},
   "outputs": [],
   "source": [
    "# categorical_pipeline = Pipeline([\n",
    "    # ( 'one-hot', DataFrameOneHotEncoder(handle_unknown='ignore') )\n",
    "# ])\n",
    "# CATEGORICAL_COL_NAMES = ['Color', 'Spectral_Class']\n",
    "# # Returns tuple: (2d-array with columns?, shape).\n",
    "# caterogical_star_features = categorical_pipeline.fit_transform(walmart[CATEGORICAL_COL_NAMES]),\n",
    "# caterogical_star_features = pd.DataFrame(caterogical_star_features[0])"
   ]
  },
  {
   "cell_type": "markdown",
   "id": "ac5f2885",
   "metadata": {},
   "source": [
    "Нам также потребуется масштабировать данные для адекватной работы моделей (и\n",
    "линейные , и SVM работают лучше, если  признаки представлены в одном\n",
    "масштабе)."
   ]
  },
  {
   "cell_type": "code",
   "execution_count": 15,
   "id": "0026d52a",
   "metadata": {},
   "outputs": [],
   "source": [
    "preprocessor = Pipeline([\n",
    "    ( 'scaler', MinMaxScaler(feature_range=(0, 1)) )\n",
    "])\n",
    "\n",
    "\n",
    "walmart_features_transformed = preprocessor.fit_transform(walmart_features)\n",
    "# Массив переводим обратно в датафрейм.\n",
    "walmart_features_transformed = pd.DataFrame(walmart_features_transformed,\n",
    "                                            columns=walmart_features.columns)"
   ]
  },
  {
   "cell_type": "markdown",
   "id": "8545a14f",
   "metadata": {},
   "source": [
    "## С использованием метода train_test_split разделите выборку на обучающую и тестовую."
   ]
  },
  {
   "cell_type": "code",
   "execution_count": 16,
   "id": "8f545910",
   "metadata": {},
   "outputs": [],
   "source": [
    "\n",
    "walmart_features_train: pd.DataFrame\n",
    "walmart_features_test: pd.DataFrame\n",
    "walmart_weekly_sales_train: pd.Series\n",
    "walmart_weekly_sales_test: pd.Series\n",
    "\n",
    "# Параметр random_state позволяет задавать базовое значение для генератора\n",
    "# случайных чисел. Это делает разбиение неслучайным. Если задается параметр\n",
    "# random_state то результаты разбиения будут одинаковыми при различных\n",
    "# запусках. На практике этот параметр удобно использовать для создания\n",
    "# \"устойчивых\" учебных примеров, которые выдают одинаковый результат при\n",
    "# различных запусках.\n",
    "RANDOM_STATE_SEED = 1\n",
    "\n",
    "walmart_features_train, walmart_features_test, walmart_weekly_sales_train, walmart_weekly_sales_test = train_test_split(\n",
    "    walmart_features, walmart_weekly_sales, random_state=RANDOM_STATE_SEED)"
   ]
  },
  {
   "cell_type": "markdown",
   "id": "c36ecd26",
   "metadata": {},
   "source": [
    "Общий вид обучающей выборки:"
   ]
  },
  {
   "cell_type": "code",
   "execution_count": 17,
   "id": "04130851",
   "metadata": {},
   "outputs": [
    {
     "data": {
      "text/html": [
       "<div>\n",
       "<style scoped>\n",
       "    .dataframe tbody tr th:only-of-type {\n",
       "        vertical-align: middle;\n",
       "    }\n",
       "\n",
       "    .dataframe tbody tr th {\n",
       "        vertical-align: top;\n",
       "    }\n",
       "\n",
       "    .dataframe thead th {\n",
       "        text-align: right;\n",
       "    }\n",
       "</style>\n",
       "<table border=\"1\" class=\"dataframe\">\n",
       "  <thead>\n",
       "    <tr style=\"text-align: right;\">\n",
       "      <th></th>\n",
       "      <th>Store</th>\n",
       "      <th>Week</th>\n",
       "      <th>Month</th>\n",
       "      <th>Year</th>\n",
       "      <th>Holiday_Flag</th>\n",
       "      <th>Temperature</th>\n",
       "      <th>Fuel_Price</th>\n",
       "      <th>CPI</th>\n",
       "      <th>Unemployment</th>\n",
       "    </tr>\n",
       "  </thead>\n",
       "  <tbody>\n",
       "    <tr>\n",
       "      <th>2821</th>\n",
       "      <td>20</td>\n",
       "      <td>5</td>\n",
       "      <td>2</td>\n",
       "      <td>2012</td>\n",
       "      <td>0</td>\n",
       "      <td>39.93</td>\n",
       "      <td>3.617</td>\n",
       "      <td>213.023622</td>\n",
       "      <td>6.961</td>\n",
       "    </tr>\n",
       "  </tbody>\n",
       "</table>\n",
       "</div>"
      ],
      "text/plain": [
       "      Store  Week  Month  Year  Holiday_Flag  Temperature  Fuel_Price  \\\n",
       "2821     20     5      2  2012             0        39.93       3.617   \n",
       "\n",
       "             CPI  Unemployment  \n",
       "2821  213.023622         6.961  "
      ]
     },
     "metadata": {},
     "output_type": "display_data"
    },
    {
     "data": {
      "text/markdown": [
       "- Кол-во рядов: 4826\n",
       "- Кол-во колонок: 9"
      ]
     },
     "metadata": {},
     "output_type": "display_data"
    },
    {
     "data": {
      "text/html": [
       "<div>\n",
       "<style scoped>\n",
       "    .dataframe tbody tr th:only-of-type {\n",
       "        vertical-align: middle;\n",
       "    }\n",
       "\n",
       "    .dataframe tbody tr th {\n",
       "        vertical-align: top;\n",
       "    }\n",
       "\n",
       "    .dataframe thead th {\n",
       "        text-align: right;\n",
       "    }\n",
       "</style>\n",
       "<table border=\"1\" class=\"dataframe\">\n",
       "  <thead>\n",
       "    <tr style=\"text-align: right;\">\n",
       "      <th></th>\n",
       "      <th>Weekly_Sales</th>\n",
       "    </tr>\n",
       "  </thead>\n",
       "  <tbody>\n",
       "    <tr>\n",
       "      <th>2821</th>\n",
       "      <td>2203523.2</td>\n",
       "    </tr>\n",
       "  </tbody>\n",
       "</table>\n",
       "</div>"
      ],
      "text/plain": [
       "      Weekly_Sales\n",
       "2821     2203523.2"
      ]
     },
     "metadata": {},
     "output_type": "display_data"
    },
    {
     "data": {
      "text/markdown": [
       "- Кол-во рядов: 4826\n",
       "- Кол-во колонок: 1"
      ]
     },
     "metadata": {},
     "output_type": "display_data"
    }
   ],
   "source": [
    "from typing import Union\n",
    "def display_df_shape(df: Union[pd.DataFrame, pd.Series]):\n",
    "    display_markdown(\n",
    "        f'- Кол-во рядов: {df.shape[0]}\\n- Кол-во колонок: {df.shape[1]}',\n",
    "        raw=True)\n",
    "\n",
    "\n",
    "def display_split_result(split: Union[pd.DataFrame, pd.Series]):\n",
    "    \"\"\"Display result of the train_test_split.\n",
    "\n",
    "    :param split: one of the splits to display.\n",
    "    :type split: pd.DataFrame, pd.Series\n",
    "    \"\"\"\n",
    "\n",
    "    display(split.head(1))\n",
    "    display_df_shape(split)\n",
    "    \n",
    "    \n",
    "display_split_result(walmart_features_train)\n",
    "display_split_result(walmart_weekly_sales_train)"
   ]
  },
  {
   "cell_type": "markdown",
   "id": "00addd30",
   "metadata": {},
   "source": [
    "Общий вид тестовой выборки:"
   ]
  },
  {
   "cell_type": "code",
   "execution_count": 18,
   "id": "ad516442",
   "metadata": {},
   "outputs": [
    {
     "data": {
      "text/html": [
       "<div>\n",
       "<style scoped>\n",
       "    .dataframe tbody tr th:only-of-type {\n",
       "        vertical-align: middle;\n",
       "    }\n",
       "\n",
       "    .dataframe tbody tr th {\n",
       "        vertical-align: top;\n",
       "    }\n",
       "\n",
       "    .dataframe thead th {\n",
       "        text-align: right;\n",
       "    }\n",
       "</style>\n",
       "<table border=\"1\" class=\"dataframe\">\n",
       "  <thead>\n",
       "    <tr style=\"text-align: right;\">\n",
       "      <th></th>\n",
       "      <th>Store</th>\n",
       "      <th>Week</th>\n",
       "      <th>Month</th>\n",
       "      <th>Year</th>\n",
       "      <th>Holiday_Flag</th>\n",
       "      <th>Temperature</th>\n",
       "      <th>Fuel_Price</th>\n",
       "      <th>CPI</th>\n",
       "      <th>Unemployment</th>\n",
       "    </tr>\n",
       "  </thead>\n",
       "  <tbody>\n",
       "    <tr>\n",
       "      <th>447</th>\n",
       "      <td>4</td>\n",
       "      <td>23</td>\n",
       "      <td>6</td>\n",
       "      <td>2010</td>\n",
       "      <td>0</td>\n",
       "      <td>78.45</td>\n",
       "      <td>2.668</td>\n",
       "      <td>126.111903</td>\n",
       "      <td>7.896</td>\n",
       "    </tr>\n",
       "  </tbody>\n",
       "</table>\n",
       "</div>"
      ],
      "text/plain": [
       "     Store  Week  Month  Year  Holiday_Flag  Temperature  Fuel_Price  \\\n",
       "447      4    23      6  2010             0        78.45       2.668   \n",
       "\n",
       "            CPI  Unemployment  \n",
       "447  126.111903         7.896  "
      ]
     },
     "metadata": {},
     "output_type": "display_data"
    },
    {
     "data": {
      "text/markdown": [
       "- Кол-во рядов: 1609\n",
       "- Кол-во колонок: 9"
      ]
     },
     "metadata": {},
     "output_type": "display_data"
    },
    {
     "data": {
      "text/html": [
       "<div>\n",
       "<style scoped>\n",
       "    .dataframe tbody tr th:only-of-type {\n",
       "        vertical-align: middle;\n",
       "    }\n",
       "\n",
       "    .dataframe tbody tr th {\n",
       "        vertical-align: top;\n",
       "    }\n",
       "\n",
       "    .dataframe thead th {\n",
       "        text-align: right;\n",
       "    }\n",
       "</style>\n",
       "<table border=\"1\" class=\"dataframe\">\n",
       "  <thead>\n",
       "    <tr style=\"text-align: right;\">\n",
       "      <th></th>\n",
       "      <th>Weekly_Sales</th>\n",
       "    </tr>\n",
       "  </thead>\n",
       "  <tbody>\n",
       "    <tr>\n",
       "      <th>447</th>\n",
       "      <td>1870619.23</td>\n",
       "    </tr>\n",
       "  </tbody>\n",
       "</table>\n",
       "</div>"
      ],
      "text/plain": [
       "     Weekly_Sales\n",
       "447    1870619.23"
      ]
     },
     "metadata": {},
     "output_type": "display_data"
    },
    {
     "data": {
      "text/markdown": [
       "- Кол-во рядов: 1609\n",
       "- Кол-во колонок: 1"
      ]
     },
     "metadata": {},
     "output_type": "display_data"
    }
   ],
   "source": [
    "display_split_result(walmart_features_test)\n",
    "display_split_result(walmart_weekly_sales_test)"
   ]
  },
  {
   "cell_type": "markdown",
   "id": "2c4905ca",
   "metadata": {},
   "source": [
    "## Выбор метрики\n",
    "Для измерения качества моделей, решающих задачу линейной регрессии, будем\n",
    "использовать следующие метрики:\n",
    "- Средняя абсолютная ошибка (MAE),\n",
    "- Средняя квадратичная ошибка (MSE),\n",
    "- Коэффициент детерминации (R2)."
   ]
  },
  {
   "cell_type": "code",
   "execution_count": 19,
   "id": "4cfd1afd",
   "metadata": {},
   "outputs": [],
   "source": [
    "from sklearn.metrics import mean_absolute_error, mean_squared_error, r2_score\n",
    "\n",
    "scoring = (\n",
    "    'neg_mean_absolute_error',\n",
    "    'neg_mean_squared_error',\n",
    "    'r2',\n",
    ")\n",
    "\n",
    "def score(data_predicted, data_test):\n",
    "    mae = mean_absolute_error(data_predicted, data_test)\n",
    "    mse = mean_squared_error(data_predicted, data_test)\n",
    "    r2 = r2_score(data_predicted, data_test)\n",
    "\n",
    "    return {\n",
    "        'mae': mae,\n",
    "        'mse': mse,\n",
    "        'r2': r2\n",
    "    }\n",
    "\n",
    "\n",
    "def display_score(scores):\n",
    "    mae = scores.get('mae') or '---'\n",
    "    mse = scores.get('mse') or '---'\n",
    "    r2 = scores.get('r2') or '---'\n",
    "\n",
    "    display_markdown(f'''\n",
    "- Средняя абсолютная ошибка: {mae};\n",
    "- Средняя квадратичная ошибка: {mse};\n",
    "- Коэффициент детерминации: {r2}.\n",
    "    ''', raw=True)"
   ]
  },
  {
   "cell_type": "code",
   "execution_count": 20,
   "id": "0cc4a72c",
   "metadata": {},
   "outputs": [],
   "source": [
    "# Метрики будем складывать в этот словарь для дальнейшего сравнительного\n",
    "#   анализа.\n",
    "metrics_data = {}\n",
    "\n",
    "def add_metrics_data(model_name, model_metric_data):\n",
    "    metrics_data[model_name] = {}\n",
    "\n",
    "    for metric_name, score in model_metric_data.items():\n",
    "        metrics_data[model_name][metric_name] = score"
   ]
  },
  {
   "cell_type": "markdown",
   "id": "1d7698a3",
   "metadata": {},
   "source": [
    "# Обучение на основе моделей\n",
    "## 1.1 Линейная регрессия"
   ]
  },
  {
   "cell_type": "code",
   "execution_count": 21,
   "id": "09c7449b",
   "metadata": {},
   "outputs": [
    {
     "data": {
      "text/markdown": [
       "\n",
       "- Средняя абсолютная ошибка: 440286.1632543231;\n",
       "- Средняя квадратичная ошибка: 280148807533.08093;\n",
       "- Коэффициент детерминации: -5.032226188224602.\n",
       "    "
      ]
     },
     "metadata": {},
     "output_type": "display_data"
    },
    {
     "name": "stdout",
     "output_type": "stream",
     "text": [
      "CPU times: user 12.9 ms, sys: 29.5 ms, total: 42.4 ms\n",
      "Wall time: 26.8 ms\n"
     ]
    }
   ],
   "source": [
    "%%time\n",
    "from sklearn.linear_model import LinearRegression\n",
    "\n",
    "linear_regression = LinearRegression()\n",
    "\n",
    "linear_regression_pipeline = Pipeline([\n",
    "    ( 'preprocess', preprocessor ),\n",
    "    ( 'model', linear_regression ),\n",
    "])\n",
    "\n",
    "walmart_weekly_sales_predicted = linear_regression_pipeline.fit(walmart_features_train,\n",
    "                   walmart_weekly_sales_train).predict(walmart_features_test)\n",
    "linear_regression_score = score(walmart_weekly_sales_predicted, walmart_weekly_sales_test)\n",
    "add_metrics_data('LinearRegression', linear_regression_score)\n",
    "display_score(linear_regression_score)"
   ]
  },
  {
   "cell_type": "markdown",
   "id": "8a84df1f",
   "metadata": {},
   "source": [
    "## 1.2 Полиномиальная регрессия\n",
    "У нелинейной регрессии есть гиперпараметр degree, обозначающий степень\n",
    "полинома. Его подберём с помощью RandomizedSearchCV."
   ]
  },
  {
   "cell_type": "code",
   "execution_count": 38,
   "id": "4119a8b8",
   "metadata": {},
   "outputs": [],
   "source": [
    "import re\n",
    "def add_metrics_data_from_search_results(results, model='LinearRegression'):\n",
    "    metrics_data[model] = {}\n",
    "\n",
    "    # Negative errors are used for scoring, we have to handle them manually.\n",
    "    metrics_data[model]['mae'] = max([abs(v) for v in\n",
    "                                         results['mean_test_neg_mean_absolute_error']])\n",
    "    metrics_data[model]['mse'] = max([abs(v) for v in\n",
    "                                         results['mean_test_neg_mean_squared_error']])\n",
    "\n",
    "    # Everything else is parseble (in our case only 'r2').\n",
    "    for result, value in results.items():\n",
    "        if result in ('mean_test_neg_mean_absolute_error',\n",
    "                      'mean_test_neg_mean_squared_error'):\n",
    "            continue\n",
    "\n",
    "        metric_match = re.match(r'mean_test_(.+)', result)\n",
    "        if metric_match:\n",
    "            metric_name = metric_match.group(1)\n",
    "            metrics_data[model][metric_name] = max(value)"
   ]
  },
  {
   "cell_type": "code",
   "execution_count": 35,
   "id": "a1ad2dc3",
   "metadata": {},
   "outputs": [
    {
     "data": {
      "text/plain": [
       "{'mean_fit_time': array([ 0.02542845,  0.03451578,  0.15544287,  0.98137363, 15.29864605]),\n",
       " 'std_fit_time': array([0.02372059, 0.01720136, 0.04015121, 0.23301085, 5.07233775]),\n",
       " 'mean_score_time': array([0.01629917, 0.00712649, 0.01297752, 0.02176317, 0.08230019]),\n",
       " 'std_score_time': array([0.01070226, 0.00060263, 0.0059307 , 0.00493316, 0.04948825]),\n",
       " 'param_poly_features__degree': masked_array(data=[1, 2, 3, 4, 5],\n",
       "              mask=[False, False, False, False, False],\n",
       "        fill_value='?',\n",
       "             dtype=object),\n",
       " 'params': [{'poly_features__degree': 1},\n",
       "  {'poly_features__degree': 2},\n",
       "  {'poly_features__degree': 3},\n",
       "  {'poly_features__degree': 4},\n",
       "  {'poly_features__degree': 5}],\n",
       " 'split0_test_neg_mean_absolute_error': array([-4.21675052e+05, -3.87073392e+05, -3.30366140e+05, -2.75147008e+05,\n",
       "        -1.00989934e+13]),\n",
       " 'split1_test_neg_mean_absolute_error': array([-4.25999438e+05, -3.93560362e+05, -3.38217158e+05, -2.74478826e+05,\n",
       "        -1.42983731e+12]),\n",
       " 'split2_test_neg_mean_absolute_error': array([-4.33889970e+05, -3.97736182e+05, -3.46548539e+05, -2.84479870e+05,\n",
       "        -5.72456723e+10]),\n",
       " 'mean_test_neg_mean_absolute_error': array([-4.27188153e+05, -3.92789979e+05, -3.38377279e+05, -2.78035235e+05,\n",
       "        -3.86202545e+12]),\n",
       " 'std_test_neg_mean_absolute_error': array([5.05706360e+03, 4.38701810e+03, 6.60740691e+03, 4.56520220e+03,\n",
       "        4.44565921e+12]),\n",
       " 'rank_test_neg_mean_absolute_error': array([4, 3, 2, 1, 5], dtype=int32),\n",
       " 'split0_test_neg_mean_squared_error': array([-2.55461075e+11, -2.15615276e+11, -1.73733732e+11, -1.47042907e+11,\n",
       "        -3.69459845e+27]),\n",
       " 'split1_test_neg_mean_squared_error': array([-2.75144347e+11, -2.38664916e+11, -1.82549715e+11, -1.29267314e+11,\n",
       "        -1.57943089e+26]),\n",
       " 'split2_test_neg_mean_squared_error': array([-2.80692198e+11, -2.38004251e+11, -1.88202201e+11, -1.62139598e+11,\n",
       "        -1.02587333e+23]),\n",
       " 'mean_test_neg_mean_squared_error': array([-2.70432540e+11, -2.30761481e+11, -1.81495216e+11, -1.46149940e+11,\n",
       "        -1.28421471e+27]),\n",
       " 'std_test_neg_mean_squared_error': array([1.08259946e+10, 1.07133800e+10, 5.95360538e+09, 1.34349002e+10,\n",
       "        1.70561636e+27]),\n",
       " 'rank_test_neg_mean_squared_error': array([4, 3, 2, 1, 5], dtype=int32),\n",
       " 'split0_test_r2': array([ 1.59932174e-01,  2.90962601e-01,  4.28687448e-01,  5.16458562e-01,\n",
       "        -1.21494568e+16]),\n",
       " 'split1_test_r2': array([ 1.46366392e-01,  2.59543599e-01,  4.33640657e-01,  5.98948972e-01,\n",
       "        -4.90017440e+14]),\n",
       " 'split2_test_r2': array([ 1.19635851e-01,  2.53522500e-01,  4.09721852e-01,  4.91464706e-01,\n",
       "        -3.21755329e+11]),\n",
       " 'mean_test_r2': array([ 1.41978139e-01,  2.68009567e-01,  4.24016652e-01,  5.35624080e-01,\n",
       "        -4.21326533e+15]),\n",
       " 'std_test_r2': array([1.67409874e-02, 1.64153334e-02, 1.03082349e-02, 4.59253353e-02,\n",
       "        5.61529468e+15]),\n",
       " 'rank_test_r2': array([4, 3, 2, 1, 5], dtype=int32)}"
      ]
     },
     "metadata": {},
     "output_type": "display_data"
    },
    {
     "data": {
      "text/plain": [
       "0.5356240799952304"
      ]
     },
     "metadata": {},
     "output_type": "display_data"
    },
    {
     "data": {
      "text/plain": [
       "{'poly_features__degree': 4}"
      ]
     },
     "metadata": {},
     "output_type": "display_data"
    },
    {
     "name": "stdout",
     "output_type": "stream",
     "text": [
      "CPU times: user 1min 47s, sys: 53 s, total: 2min 40s\n",
      "Wall time: 50.7 s\n"
     ]
    }
   ],
   "source": [
    "%%time\n",
    "from sklearn.linear_model import LinearRegression\n",
    "from sklearn.preprocessing import PolynomialFeatures\n",
    "from sklearn.model_selection import RandomizedSearchCV\n",
    "from sklearn.model_selection import KFold\n",
    "\n",
    "linear_regression = LinearRegression()\n",
    "polynomial_features = PolynomialFeatures()\n",
    "\n",
    "polynomial_regression_estimator = Pipeline([\n",
    "    ( 'preprocess', preprocessor ),\n",
    "    ( 'poly_features', polynomial_features ),\n",
    "    ( 'model', linear_regression ),\n",
    "])\n",
    "\n",
    "parameters_to_tune = { 'poly_features__degree': np.arange(1, 6, 1) }\n",
    "\n",
    "polynomial_regression_pipeline = RandomizedSearchCV(polynomial_regression_estimator,\n",
    "                                                    parameters_to_tune,\n",
    "                                                    n_iter=5,\n",
    "                                                    scoring=scoring,\n",
    "                                                    cv=KFold(n_splits=3),\n",
    "                                                    refit=scoring[2]\n",
    "                                                    )\n",
    "\n",
    "polynomial_regression_pipeline.fit(walmart_features_train,\n",
    "                   walmart_weekly_sales_train)\n",
    "\n",
    "add_metrics_data_from_search_results(polynomial_regression_pipeline.cv_results_,\n",
    "                                     model='PolynomialRegression')\n",
    "\n",
    "display(polynomial_regression_pipeline.cv_results_)\n",
    "display(polynomial_regression_pipeline.best_score_,\n",
    "        polynomial_regression_pipeline.best_params_)"
   ]
  },
  {
   "cell_type": "markdown",
   "id": "6e02d66a",
   "metadata": {},
   "source": [
    "## 2 Метод опорных векторов (SVM)"
   ]
  },
  {
   "cell_type": "code",
   "execution_count": 24,
   "id": "42f0c4ab",
   "metadata": {},
   "outputs": [
    {
     "data": {
      "text/markdown": [
       "\n",
       "- Средняя абсолютная ошибка: 388656.3582440357;\n",
       "- Средняя квадратичная ошибка: 226786656001.7183;\n",
       "- Коэффициент детерминации: -1.430962760816227.\n",
       "    "
      ]
     },
     "metadata": {},
     "output_type": "display_data"
    },
    {
     "name": "stdout",
     "output_type": "stream",
     "text": [
      "CPU times: user 48.8 ms, sys: 25.5 ms, total: 74.4 ms\n",
      "Wall time: 31.7 ms\n"
     ]
    }
   ],
   "source": [
    "%%time\n",
    "from sklearn.svm import LinearSVR\n",
    "\n",
    "linear_regression = LinearRegression()\n",
    "polynomial_features = PolynomialFeatures()\n",
    "\n",
    "polynomial_regression_pipeline = Pipeline([\n",
    "    ( 'preprocess', preprocessor ),\n",
    "    ( 'poly_features', polynomial_features ),\n",
    "    ( 'model', linear_regression ),\n",
    "])\n",
    "\n",
    "walmart_weekly_sales_predicted = polynomial_regression_pipeline.fit(walmart_features_train,\n",
    "                   walmart_weekly_sales_train).predict(walmart_features_test)\n",
    "polynomial_regression_score = score(walmart_weekly_sales_predicted, walmart_weekly_sales_test)\n",
    "add_metrics_data('PolynomialRegression', polynomial_regression_score)\n",
    "display_score(polynomial_regression_score)"
   ]
  },
  {
   "cell_type": "markdown",
   "id": "2794f110",
   "metadata": {},
   "source": [
    "## С помощью кросс-валидации (`cross_validate`)"
   ]
  },
  {
   "cell_type": "code",
   "execution_count": 25,
   "id": "0cdf8660",
   "metadata": {},
   "outputs": [
    {
     "ename": "NameError",
     "evalue": "name 'star_types' is not defined",
     "output_type": "error",
     "traceback": [
      "\u001b[0;31m---------------------------------------------------------------------------\u001b[0m",
      "\u001b[0;31mNameError\u001b[0m                                 Traceback (most recent call last)",
      "Input \u001b[0;32mIn [25]\u001b[0m, in \u001b[0;36m<cell line: 9>\u001b[0;34m()\u001b[0m\n\u001b[1;32m      4\u001b[0m metrics_data[\u001b[38;5;124m'\u001b[39m\u001b[38;5;124mcross_validate\u001b[39m\u001b[38;5;124m'\u001b[39m] \u001b[38;5;241m=\u001b[39m {}\n\u001b[1;32m      7\u001b[0m \u001b[38;5;66;03m# Для осуществления работы cross_validate с мультиклассами, необходимо\u001b[39;00m\n\u001b[1;32m      8\u001b[0m \u001b[38;5;66;03m# их преобразовать one hot encode`ом.\u001b[39;00m\n\u001b[0;32m----> 9\u001b[0m star_types_train_binarized \u001b[38;5;241m=\u001b[39m label_binarize(star_types, \u001b[38;5;66;03m# Должно быть unravel.\u001b[39;00m\n\u001b[1;32m     10\u001b[0m                                             classes\u001b[38;5;241m=\u001b[39m[\u001b[38;5;241m0\u001b[39m, \u001b[38;5;241m1\u001b[39m, \u001b[38;5;241m2\u001b[39m, \u001b[38;5;241m3\u001b[39m, \u001b[38;5;241m4\u001b[39m, \u001b[38;5;241m5\u001b[39m])\n\u001b[1;32m     12\u001b[0m display(star_types_train_binarized)\n\u001b[1;32m     13\u001b[0m cross_validate_results \u001b[38;5;241m=\u001b[39m cross_validate(knn_pipeline,\n\u001b[1;32m     14\u001b[0m                            star_features, star_types\u001b[38;5;241m.\u001b[39mvalues\u001b[38;5;241m.\u001b[39mravel(),\n\u001b[1;32m     15\u001b[0m                            cv\u001b[38;5;241m=\u001b[39m\u001b[38;5;241m3\u001b[39m, scoring\u001b[38;5;241m=\u001b[39mscoring,\n\u001b[1;32m     16\u001b[0m                            )\n",
      "\u001b[0;31mNameError\u001b[0m: name 'star_types' is not defined"
     ]
    }
   ],
   "source": [
    "from sklearn.model_selection import cross_validate\n",
    "from sklearn.preprocessing import label_binarize\n",
    "\n",
    "metrics_data['cross_validate'] = {}\n",
    "\n",
    "\n",
    "# Для осуществления работы cross_validate с мультиклассами, необходимо\n",
    "# их преобразовать one hot encode`ом.\n",
    "star_types_train_binarized = label_binarize(star_types, # Должно быть unravel.\n",
    "                                            classes=[0, 1, 2, 3, 4, 5])\n",
    "\n",
    "display(star_types_train_binarized)\n",
    "cross_validate_results = cross_validate(knn_pipeline,\n",
    "                           star_features, star_types.values.ravel(),\n",
    "                           cv=3, scoring=scoring,\n",
    "                           )\n",
    "\n",
    "import re\n",
    "def add_metrics_data_from_cross_validate_results(cross_validate_results):\n",
    "    for result, value in cross_validate_results.items():\n",
    "        metric_match = re.match(r'test_(.+)', result)\n",
    "        if metric_match:\n",
    "            metric_name = metric_match.group(1)\n",
    "            metrics_data['cross_validate'][metric_name] = min(value)\n",
    "\n",
    "display(cross_validate_results)\n",
    "add_metrics_data_from_cross_validate_results(cross_validate_results)\n",
    "# metrics_data['cross_validate']['precision_weighted'] = cross_val['test_precision_weighted']\n",
    "# metrics_data['cross_validate']['recall_weighted'] = cross_val['test_recall_weighted']"
   ]
  },
  {
   "cell_type": "markdown",
   "id": "bd093b45",
   "metadata": {},
   "source": [
    "## Сравните метрики качества исходной и оптимальной моделей"
   ]
  },
  {
   "cell_type": "code",
   "execution_count": 36,
   "id": "7dd65cc5",
   "metadata": {},
   "outputs": [],
   "source": [
    "from typing import Dict\n",
    "\n",
    "def grouped_bar_chart(ax, data: Dict[str, List[float]],\n",
    "                      tick_labels, colors=None, total_width=0.8,\n",
    "             single_width=1):\n",
    "    \"\"\"Draws a bar plot with multiple bars per data point.\n",
    "\n",
    "    Parameters\n",
    "    ----------\n",
    "    ax: matplotlib.pyplot.axis\n",
    "        The axis we want to draw our plot on.\n",
    "\n",
    "    data: Dict[str, List[float]]\n",
    "        A dictionary containing the data we want to plot. Keys are the names of the\n",
    "        data, the items is a list of the values.\n",
    "\n",
    "        Example:\n",
    "        data = {\n",
    "            \"x\":[ 1, 2,      3      ],\n",
    "            \"y\":[ 1, np.nan, 3      ],\n",
    "            \"z\":[ 1, 2,      np.nan ],\n",
    "        }\n",
    "\n",
    "    tick_labels: list\n",
    "        Labels which will be displayed under each group.\n",
    "\n",
    "        Example:\n",
    "        tick_labels = ['Accuracy', 'F1', 'Precision']\n",
    "\n",
    "        Note:\n",
    "        Length should be the same as number of groups.\n",
    "        \n",
    "\n",
    "    colors: array-like, optional\n",
    "        A list of colors which are used for the bars. If None, the colors\n",
    "        will be the standard matplotlib color cyle. (default: None)\n",
    "\n",
    "    total_width: float, optional, default: 0.8\n",
    "        The width of a bar group. 0.8 means that 80% of the x-axis is covered\n",
    "        by bars and 20% will be spaces between the bars.\n",
    "\n",
    "    single_width: float, optional, default: 1\n",
    "        The relative width of a single bar within a group. 1 means the bars\n",
    "        will touch eachother within a group, values less than 1 will make\n",
    "        these bars thinner.\n",
    "    \"\"\"\n",
    "\n",
    "    # Check if colors where provided, otherwhise use the default color cycle\n",
    "    if colors is None:\n",
    "        colors = plt.rcParams['axes.prop_cycle'].by_key()['color']\n",
    "\n",
    "\n",
    "    # Number of bars per group.\n",
    "    n_bars = len(data)\n",
    "\n",
    "    # The width of a single bar.\n",
    "    bar_width = total_width / n_bars\n",
    "\n",
    "    tick_locations = np.arange(len(tick_labels))\n",
    "\n",
    "    # Iterate over all data.\n",
    "    for i, (name, values) in enumerate(data.items()):\n",
    "        # The offset in x direction of that bar.\n",
    "        tick_offset = (i - n_bars / 2) * bar_width + bar_width / 2\n",
    "\n",
    "        # One bar plot consists of multiple rectangles.\n",
    "        rects = ax.bar(tick_locations + tick_offset, values, width=bar_width * single_width,\n",
    "                     color=colors[i % len(colors)],\n",
    "                     label=name)\n",
    "        # Add a handle to the last drawn bar, which we'll need for the legend.\n",
    "        # bars.append(bars[0])\n",
    "\n",
    "        ax.bar_label(rects, padding=3)\n",
    "\n",
    "    ax.set_xticks(tick_locations, labels=tick_labels)\n",
    "\n",
    "\n",
    "def show_metrics_grouped_bar_chart(metrics_data: Dict[str, Dict[str, float]]):\n",
    "    \"\"\" Creates grouped bar chart for metrics.\n",
    "    :param metrics_data: a dictionary of metrics and their values for each\n",
    "        model.\n",
    "    :type metrics_data: Dict[str, Dict[str, float]]\n",
    "\n",
    "        Example:\n",
    "\n",
    "        metrics_data = {\n",
    "            'GridSearchCV': { \n",
    "                'Accuracy': 1,\n",
    "                'a': 2,\n",
    "                'b': 3,\n",
    "            },\n",
    "            'RandomSearchCV': {\n",
    "                'Roc': 2,\n",
    "                'a': 3,\n",
    "                'b': 4,\n",
    "            },\n",
    "        }\n",
    "\n",
    "    \"\"\"\n",
    "    # plt.figure(figsize=(7,3))\n",
    "    width = 15\n",
    "    height = 15\n",
    "    plt.rcParams['figure.figsize'] = width, height\n",
    "\n",
    "    fig, ax = plt.subplots()\n",
    "\n",
    "    # Extracting unique metric names from our data.\n",
    "    tick_labels = set()\n",
    "    for model_metrics in metrics_data.values():\n",
    "        tick_labels.update(list(model_metrics.keys()))\n",
    "\n",
    "    \"\"\" Converting our dictionary to a `fully filled` dictionary of lists:\n",
    "    data = {\n",
    "        'GridSearchCV': [ \n",
    "            1, # was 'Accuracy': 1,\n",
    "            2, # was 'a': 2,\n",
    "            3, # was 'b': 3,\n",
    "            None, # didn't have value for 'Roc';\n",
    "        ],\n",
    "        'RandomSearchCV': [\n",
    "            None, # didn't have value for 'Accuracy',\n",
    "            3, # was 'a': 3,\n",
    "            4, # was 'b': 4,\n",
    "            2, # was 'Roc': 2;\n",
    "        ],\n",
    "    }\n",
    "    \"\"\"\n",
    "    filled_metrics_data = {}\n",
    "\n",
    "    for model in metrics_data.keys():\n",
    "        filled_metrics_data[model] = []\n",
    "        for metric in tick_labels:\n",
    "            filled_metrics_data[model].append(metrics_data[model].get(metric)\n",
    "                                              or np.nan)\n",
    "            \n",
    "    \n",
    "    grouped_bar_chart(ax, filled_metrics_data, tick_labels=tick_labels,\n",
    "                      total_width=.8, single_width=.9, colors=['#aadddd',\n",
    "                          '#eebbbb', '#ccbbbb', '#77bb77'])\n",
    "\n",
    "    plt.title('Сравнение метрик качества моделей')\n",
    "    plt.xlabel('Метрика')\n",
    "    plt.ylabel('Значение метрики')\n",
    "\n",
    "    ax.legend(title='Стратегия', bbox_to_anchor=(1.2, 1))\n",
    "\n",
    "    plt.yscale('log')\n",
    "    plt.show()"
   ]
  },
  {
   "cell_type": "code",
   "execution_count": 37,
   "id": "7d2eb639",
   "metadata": {},
   "outputs": [
    {
     "data": {
      "image/png": "[encoded data removed]",
      "text/plain": [
       "<Figure size 1080x1080 with 1 Axes>"
      ]
     },
     "metadata": {},
     "output_type": "display_data"
    }
   ],
   "source": [
    "show_metrics_grouped_bar_chart(metrics_data)"
   ]
  }
 ],
 "metadata": {
  "kernelspec": {
   "display_name": "Python 3 (ipykernel)",
   "language": "python",
   "name": "python3"
  },
  "language_info": {
   "codemirror_mode": {
    "name": "ipython",
    "version": 3
   },
   "file_extension": ".py",
   "mimetype": "text/x-python",
   "name": "python",
   "nbconvert_exporter": "python",
   "pygments_lexer": "ipython3",
   "version": "3.8.10"
  }
 },
 "nbformat": 4,
 "nbformat_minor": 5
}
