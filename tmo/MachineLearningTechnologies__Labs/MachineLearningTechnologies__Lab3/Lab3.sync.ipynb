{
 "cells": [
  {
   "cell_type": "code",
   "execution_count": null,
   "id": "7aa8c564",
   "metadata": {},
   "outputs": [],
   "source": []
  },
  {
   "cell_type": "markdown",
   "id": "18c3934c",
   "metadata": {},
   "source": [
    "# Лабораторная работа №3\n",
    "# Подготовка обучающей и тестовой выборки, кросс-валидация и подбор гиперпараметров на примере метода ближайших соседей\n",
    "\n",
    "Выполнил: **Пакало А. С., РТ5-61Б**"
   ]
  },
  {
   "cell_type": "markdown",
   "id": "2844efea",
   "metadata": {},
   "source": [
    "## Задание\n",
    "Выберите набор данных (датасет) для решения задачи классификации или\n",
    "регрессии.\n",
    "- С использованием метода train_test_split разделите выборку на обучающую и\n",
    "  тестовую.\n",
    "- Обучите модель ближайших соседей для произвольно заданного гиперпараметра\n",
    "K.\n",
    "  Оцените качество модели с помощью подходящих для задачи метрик.\n",
    "- Произведите подбор гиперпараметра K с использованием GridSearchCV и/или\n",
    "  RandomizedSearchCV и кросс-валидации, оцените качество оптимальной модели.\n",
    "  Желательно использование нескольких стратегий кросс-валидации.\n",
    "- Сравните метрики качества исходной и оптимальной моделей."
   ]
  },
  {
   "cell_type": "markdown",
   "id": "2dd54251",
   "metadata": {},
   "source": [
    "## Текстовое описание набора данных\n",
    "Для обучения по методу K ближайших соседей (KNN) был выбран датасет с\n",
    "классификацией типа звёзд c ресурса kaggle (Star Type Classification / NASA).\n",
    " \n",
    "В данном наборе данных присутствуют следующие столбцы:\n",
    "* Temperature — температура звезды в Кельвинах;\n",
    "* L (Luminosity) — светимость звезды в солнечных светимостях;\n",
    "* R (Radius) — радиус звезды в радиусах солнца;\n",
    "* A_M (Absolute Magnitude) — абсолютная звёздная величина;\n",
    "* Color — цвет света звезды;\n",
    "* Spectral_Class — спектральный класс звезды;\n",
    "* Type — тип звезды. Является целевым признаком и уже закодирован:\n",
    "  - Красный карлик — 0;\n",
    "  - Коричневый карлик — 1;\n",
    "  - Белый карлик — 2;\n",
    "  - Звезда из главной последовательности — 3;\n",
    "  - Супергигант — 4;\n",
    "  - Гипергигант — 5.\n",
    "\n",
    "Так как данных очень много, перед тем как приступить к анализу, проведем обзор данных и, возможно, потребуется их предобработка, чтобы датасет стал более удобным и пригодным к проведению исследования.\n",
    "\n",
    "Таким образом исследование пройдет в 7 этапов:\n",
    "- загрузка данных,\n",
    "- проведение разведочного анализа данных и предобработка данных,\n",
    "- разделение на обучающую и тестовую выборку,\n",
    "- выбор метрики,\n",
    "- обучение модели,\n",
    "- подбор гиперпараметра,\n",
    "- сравнение значений метрики."
   ]
  },
  {
   "cell_type": "markdown",
   "id": "8b45903a",
   "metadata": {},
   "source": [
    "## Импортирование необходимых библиотек, подготовка окружения"
   ]
  },
  {
   "cell_type": "code",
   "execution_count": 208,
   "id": "dc46d2e6",
   "metadata": {},
   "outputs": [],
   "source": [
    "# Основные библиотеки.\n",
    "from IPython.core.display import display_markdown\n",
    "import numpy as np\n",
    "import pandas as pd\n",
    "\n",
    "# Визуализция.\n",
    "import matplotlib.pyplot as plt\n",
    "import seaborn as sns\n",
    "\n",
    "# Для матрицы взаимодействий.\n",
    "from scipy import sparse\n",
    "# Для разбития выборки.\n",
    "from sklearn.model_selection import train_test_split\n",
    "from sklearn.neighbors import KNeighborsClassifier\n",
    "from sklearn.preprocessing import StandardScaler\n",
    "from DataFrameOneHotEncoder import DataFrameOneHotEncoder\n",
    "from sklearn.pipeline import Pipeline\n",
    "from sklearn.compose import ColumnTransformer\n",
    "\n",
    "# Отрисовка статуса выполнения.\n",
    "from tqdm.notebook import tqdm\n",
    "\n",
    "# Типизация.\n",
    "from typing import List\n",
    "\n",
    "# Вывод данных.\n",
    "from IPython.display import display\n",
    "\n",
    "\n",
    "# Конфигурация визуализации.\n",
    "%matplotlib inline\n",
    "sns.set(style='ticks')"
   ]
  },
  {
   "cell_type": "markdown",
   "id": "affa78e3",
   "metadata": {},
   "source": [
    "## Загрузка данных\n",
    "### Считываем данные из .csv\n",
    "Загрузим файлы датасета в помощью библиотеки Pandas.\n",
    "\n",
    "Не смотря на то, что файлы имеют расширение txt они представляют собой данные\n",
    "в формате [CSV](https://ru.wikipedia.org/wiki/CSV). Часто в файлах такого\n",
    "формата в качестве разделителей используются символы \",\", \";\" или табуляция.\n",
    "Поэтому вызывая метод read_csv всегда стоит явно указывать разделитель данных\n",
    "с помощью параметра sep. Чтобы узнать какой разделитель используется в файле\n",
    "его рекомендуется предварительно посмотреть в любом текстовом редакторе."
   ]
  },
  {
   "cell_type": "code",
   "execution_count": 209,
   "id": "4d4d6fda",
   "metadata": {},
   "outputs": [],
   "source": [
    "stars = pd.read_csv('data/Stars.csv')"
   ]
  },
  {
   "cell_type": "markdown",
   "id": "03037aec",
   "metadata": {},
   "source": [
    "## Проведение разведочного анализа данных. Построение графиков, необходимых для понимания структуры данных. Анализ и предобработка данных."
   ]
  },
  {
   "cell_type": "markdown",
   "id": "8ed1d435",
   "metadata": {},
   "source": [
    "Размеры датасета: (строки, колонки)."
   ]
  },
  {
   "cell_type": "code",
   "execution_count": 210,
   "id": "7a94b198",
   "metadata": {},
   "outputs": [
    {
     "data": {
      "text/plain": [
       "(240, 7)"
      ]
     },
     "execution_count": 210,
     "metadata": {},
     "output_type": "execute_result"
    }
   ],
   "source": [
    "stars.shape"
   ]
  },
  {
   "cell_type": "markdown",
   "id": "4fd7ed23",
   "metadata": {},
   "source": [
    "Общий вид данных таблицы:"
   ]
  },
  {
   "cell_type": "code",
   "execution_count": 211,
   "id": "35987c34",
   "metadata": {},
   "outputs": [
    {
     "data": {
      "text/html": [
       "<div>\n",
       "<style scoped>\n",
       "    .dataframe tbody tr th:only-of-type {\n",
       "        vertical-align: middle;\n",
       "    }\n",
       "\n",
       "    .dataframe tbody tr th {\n",
       "        vertical-align: top;\n",
       "    }\n",
       "\n",
       "    .dataframe thead th {\n",
       "        text-align: right;\n",
       "    }\n",
       "</style>\n",
       "<table border=\"1\" class=\"dataframe\">\n",
       "  <thead>\n",
       "    <tr style=\"text-align: right;\">\n",
       "      <th></th>\n",
       "      <th>Temperature</th>\n",
       "      <th>L</th>\n",
       "      <th>R</th>\n",
       "      <th>A_M</th>\n",
       "      <th>Color</th>\n",
       "      <th>Spectral_Class</th>\n",
       "      <th>Type</th>\n",
       "    </tr>\n",
       "  </thead>\n",
       "  <tbody>\n",
       "    <tr>\n",
       "      <th>0</th>\n",
       "      <td>3068</td>\n",
       "      <td>0.002400</td>\n",
       "      <td>0.1700</td>\n",
       "      <td>16.12</td>\n",
       "      <td>Red</td>\n",
       "      <td>M</td>\n",
       "      <td>0</td>\n",
       "    </tr>\n",
       "    <tr>\n",
       "      <th>1</th>\n",
       "      <td>3042</td>\n",
       "      <td>0.000500</td>\n",
       "      <td>0.1542</td>\n",
       "      <td>16.60</td>\n",
       "      <td>Red</td>\n",
       "      <td>M</td>\n",
       "      <td>0</td>\n",
       "    </tr>\n",
       "    <tr>\n",
       "      <th>2</th>\n",
       "      <td>2600</td>\n",
       "      <td>0.000300</td>\n",
       "      <td>0.1020</td>\n",
       "      <td>18.70</td>\n",
       "      <td>Red</td>\n",
       "      <td>M</td>\n",
       "      <td>0</td>\n",
       "    </tr>\n",
       "    <tr>\n",
       "      <th>3</th>\n",
       "      <td>2800</td>\n",
       "      <td>0.000200</td>\n",
       "      <td>0.1600</td>\n",
       "      <td>16.65</td>\n",
       "      <td>Red</td>\n",
       "      <td>M</td>\n",
       "      <td>0</td>\n",
       "    </tr>\n",
       "    <tr>\n",
       "      <th>4</th>\n",
       "      <td>1939</td>\n",
       "      <td>0.000138</td>\n",
       "      <td>0.1030</td>\n",
       "      <td>20.06</td>\n",
       "      <td>Red</td>\n",
       "      <td>M</td>\n",
       "      <td>0</td>\n",
       "    </tr>\n",
       "  </tbody>\n",
       "</table>\n",
       "</div>"
      ],
      "text/plain": [
       "   Temperature         L       R    A_M Color Spectral_Class  Type\n",
       "0         3068  0.002400  0.1700  16.12   Red              M     0\n",
       "1         3042  0.000500  0.1542  16.60   Red              M     0\n",
       "2         2600  0.000300  0.1020  18.70   Red              M     0\n",
       "3         2800  0.000200  0.1600  16.65   Red              M     0\n",
       "4         1939  0.000138  0.1030  20.06   Red              M     0"
      ]
     },
     "execution_count": 211,
     "metadata": {},
     "output_type": "execute_result"
    }
   ],
   "source": [
    "stars.head()"
   ]
  },
  {
   "cell_type": "markdown",
   "id": "feab36bc",
   "metadata": {},
   "source": [
    "Список колонок:"
   ]
  },
  {
   "cell_type": "code",
   "execution_count": 212,
   "id": "87d58815",
   "metadata": {},
   "outputs": [
    {
     "data": {
      "text/plain": [
       "Index(['Temperature', 'L', 'R', 'A_M', 'Color', 'Spectral_Class', 'Type'], dtype='object')"
      ]
     },
     "execution_count": 212,
     "metadata": {},
     "output_type": "execute_result"
    }
   ],
   "source": [
    "stars.columns"
   ]
  },
  {
   "cell_type": "markdown",
   "id": "786a15ce",
   "metadata": {},
   "source": [
    "Список колонок с типами данных:"
   ]
  },
  {
   "cell_type": "code",
   "execution_count": 213,
   "id": "08ea7f18",
   "metadata": {},
   "outputs": [
    {
     "data": {
      "text/plain": [
       "Temperature         int64\n",
       "L                 float64\n",
       "R                 float64\n",
       "A_M               float64\n",
       "Color              object\n",
       "Spectral_Class     object\n",
       "Type                int64\n",
       "dtype: object"
      ]
     },
     "execution_count": 213,
     "metadata": {},
     "output_type": "execute_result"
    }
   ],
   "source": [
    "stars.dtypes"
   ]
  },
  {
   "cell_type": "markdown",
   "id": "c8a75d6b",
   "metadata": {},
   "source": [
    "Как видно, все данные приведены к адекватному типу данных."
   ]
  },
  {
   "cell_type": "markdown",
   "id": "31d6e42f",
   "metadata": {},
   "source": [
    "## Предобработка данных"
   ]
  },
  {
   "cell_type": "code",
   "execution_count": 214,
   "id": "7433a44e",
   "metadata": {},
   "outputs": [
    {
     "data": {
      "text/html": [
       "<div>\n",
       "<style scoped>\n",
       "    .dataframe tbody tr th:only-of-type {\n",
       "        vertical-align: middle;\n",
       "    }\n",
       "\n",
       "    .dataframe tbody tr th {\n",
       "        vertical-align: top;\n",
       "    }\n",
       "\n",
       "    .dataframe thead th {\n",
       "        text-align: right;\n",
       "    }\n",
       "</style>\n",
       "<table border=\"1\" class=\"dataframe\">\n",
       "  <thead>\n",
       "    <tr style=\"text-align: right;\">\n",
       "      <th></th>\n",
       "      <th>Type</th>\n",
       "    </tr>\n",
       "  </thead>\n",
       "  <tbody>\n",
       "    <tr>\n",
       "      <th>0</th>\n",
       "      <td>0</td>\n",
       "    </tr>\n",
       "    <tr>\n",
       "      <th>1</th>\n",
       "      <td>0</td>\n",
       "    </tr>\n",
       "    <tr>\n",
       "      <th>2</th>\n",
       "      <td>0</td>\n",
       "    </tr>\n",
       "    <tr>\n",
       "      <th>3</th>\n",
       "      <td>0</td>\n",
       "    </tr>\n",
       "    <tr>\n",
       "      <th>4</th>\n",
       "      <td>0</td>\n",
       "    </tr>\n",
       "    <tr>\n",
       "      <th>...</th>\n",
       "      <td>...</td>\n",
       "    </tr>\n",
       "    <tr>\n",
       "      <th>235</th>\n",
       "      <td>5</td>\n",
       "    </tr>\n",
       "    <tr>\n",
       "      <th>236</th>\n",
       "      <td>5</td>\n",
       "    </tr>\n",
       "    <tr>\n",
       "      <th>237</th>\n",
       "      <td>5</td>\n",
       "    </tr>\n",
       "    <tr>\n",
       "      <th>238</th>\n",
       "      <td>5</td>\n",
       "    </tr>\n",
       "    <tr>\n",
       "      <th>239</th>\n",
       "      <td>5</td>\n",
       "    </tr>\n",
       "  </tbody>\n",
       "</table>\n",
       "<p>240 rows × 1 columns</p>\n",
       "</div>"
      ],
      "text/plain": [
       "     Type\n",
       "0       0\n",
       "1       0\n",
       "2       0\n",
       "3       0\n",
       "4       0\n",
       "..    ...\n",
       "235     5\n",
       "236     5\n",
       "237     5\n",
       "238     5\n",
       "239     5\n",
       "\n",
       "[240 rows x 1 columns]"
      ]
     },
     "metadata": {},
     "output_type": "display_data"
    },
    {
     "data": {
      "text/html": [
       "<div>\n",
       "<style scoped>\n",
       "    .dataframe tbody tr th:only-of-type {\n",
       "        vertical-align: middle;\n",
       "    }\n",
       "\n",
       "    .dataframe tbody tr th {\n",
       "        vertical-align: top;\n",
       "    }\n",
       "\n",
       "    .dataframe thead th {\n",
       "        text-align: right;\n",
       "    }\n",
       "</style>\n",
       "<table border=\"1\" class=\"dataframe\">\n",
       "  <thead>\n",
       "    <tr style=\"text-align: right;\">\n",
       "      <th></th>\n",
       "      <th>Temperature</th>\n",
       "      <th>L</th>\n",
       "      <th>R</th>\n",
       "      <th>A_M</th>\n",
       "      <th>Color</th>\n",
       "      <th>Spectral_Class</th>\n",
       "    </tr>\n",
       "  </thead>\n",
       "  <tbody>\n",
       "    <tr>\n",
       "      <th>0</th>\n",
       "      <td>3068</td>\n",
       "      <td>0.002400</td>\n",
       "      <td>0.1700</td>\n",
       "      <td>16.12</td>\n",
       "      <td>Red</td>\n",
       "      <td>M</td>\n",
       "    </tr>\n",
       "    <tr>\n",
       "      <th>1</th>\n",
       "      <td>3042</td>\n",
       "      <td>0.000500</td>\n",
       "      <td>0.1542</td>\n",
       "      <td>16.60</td>\n",
       "      <td>Red</td>\n",
       "      <td>M</td>\n",
       "    </tr>\n",
       "    <tr>\n",
       "      <th>2</th>\n",
       "      <td>2600</td>\n",
       "      <td>0.000300</td>\n",
       "      <td>0.1020</td>\n",
       "      <td>18.70</td>\n",
       "      <td>Red</td>\n",
       "      <td>M</td>\n",
       "    </tr>\n",
       "    <tr>\n",
       "      <th>3</th>\n",
       "      <td>2800</td>\n",
       "      <td>0.000200</td>\n",
       "      <td>0.1600</td>\n",
       "      <td>16.65</td>\n",
       "      <td>Red</td>\n",
       "      <td>M</td>\n",
       "    </tr>\n",
       "    <tr>\n",
       "      <th>4</th>\n",
       "      <td>1939</td>\n",
       "      <td>0.000138</td>\n",
       "      <td>0.1030</td>\n",
       "      <td>20.06</td>\n",
       "      <td>Red</td>\n",
       "      <td>M</td>\n",
       "    </tr>\n",
       "    <tr>\n",
       "      <th>...</th>\n",
       "      <td>...</td>\n",
       "      <td>...</td>\n",
       "      <td>...</td>\n",
       "      <td>...</td>\n",
       "      <td>...</td>\n",
       "      <td>...</td>\n",
       "    </tr>\n",
       "    <tr>\n",
       "      <th>235</th>\n",
       "      <td>38940</td>\n",
       "      <td>374830.000000</td>\n",
       "      <td>1356.0000</td>\n",
       "      <td>-9.93</td>\n",
       "      <td>Blue</td>\n",
       "      <td>O</td>\n",
       "    </tr>\n",
       "    <tr>\n",
       "      <th>236</th>\n",
       "      <td>30839</td>\n",
       "      <td>834042.000000</td>\n",
       "      <td>1194.0000</td>\n",
       "      <td>-10.63</td>\n",
       "      <td>Blue</td>\n",
       "      <td>O</td>\n",
       "    </tr>\n",
       "    <tr>\n",
       "      <th>237</th>\n",
       "      <td>8829</td>\n",
       "      <td>537493.000000</td>\n",
       "      <td>1423.0000</td>\n",
       "      <td>-10.73</td>\n",
       "      <td>White</td>\n",
       "      <td>A</td>\n",
       "    </tr>\n",
       "    <tr>\n",
       "      <th>238</th>\n",
       "      <td>9235</td>\n",
       "      <td>404940.000000</td>\n",
       "      <td>1112.0000</td>\n",
       "      <td>-11.23</td>\n",
       "      <td>White</td>\n",
       "      <td>A</td>\n",
       "    </tr>\n",
       "    <tr>\n",
       "      <th>239</th>\n",
       "      <td>37882</td>\n",
       "      <td>294903.000000</td>\n",
       "      <td>1783.0000</td>\n",
       "      <td>-7.80</td>\n",
       "      <td>Blue</td>\n",
       "      <td>O</td>\n",
       "    </tr>\n",
       "  </tbody>\n",
       "</table>\n",
       "<p>240 rows × 6 columns</p>\n",
       "</div>"
      ],
      "text/plain": [
       "     Temperature              L          R    A_M  Color Spectral_Class\n",
       "0           3068       0.002400     0.1700  16.12    Red              M\n",
       "1           3042       0.000500     0.1542  16.60    Red              M\n",
       "2           2600       0.000300     0.1020  18.70    Red              M\n",
       "3           2800       0.000200     0.1600  16.65    Red              M\n",
       "4           1939       0.000138     0.1030  20.06    Red              M\n",
       "..           ...            ...        ...    ...    ...            ...\n",
       "235        38940  374830.000000  1356.0000  -9.93   Blue              O\n",
       "236        30839  834042.000000  1194.0000 -10.63   Blue              O\n",
       "237         8829  537493.000000  1423.0000 -10.73  White              A\n",
       "238         9235  404940.000000  1112.0000 -11.23  White              A\n",
       "239        37882  294903.000000  1783.0000  -7.80   Blue              O\n",
       "\n",
       "[240 rows x 6 columns]"
      ]
     },
     "metadata": {},
     "output_type": "display_data"
    }
   ],
   "source": [
    "# Извлекаем целевой признак.\n",
    "TARGET_COL_NAMES = ['Type']\n",
    "star_types = stars[TARGET_COL_NAMES]\n",
    "\n",
    "star_features = stars.drop(columns=TARGET_COL_NAMES)\n",
    "display(star_types, star_features)"
   ]
  },
  {
   "cell_type": "code",
   "execution_count": 215,
   "id": "b2fec54d",
   "metadata": {},
   "outputs": [],
   "source": [
    "# Перед использованием модели закодируем категориальные признаки с помощью\n",
    "# one-hot encoding, где каждое уникальное значение признака становится новым\n",
    "# признаком. Это позволяет избежать фиктивного отношения порядка."
   ]
  },
  {
   "cell_type": "code",
   "execution_count": 216,
   "id": "fa9c30d7",
   "metadata": {},
   "outputs": [],
   "source": [
    "categorical_pipeline = Pipeline([\n",
    "    ( 'one-hot', DataFrameOneHotEncoder(handle_unknown='ignore') )\n",
    "])\n",
    "CATEGORICAL_COL_NAMES = ['Color', 'Spectral_Class']\n",
    "# Returns tuple: (2d-array with columns?, shape).\n",
    "caterogical_star_features = categorical_pipeline.fit_transform(stars[CATEGORICAL_COL_NAMES]),\n",
    "caterogical_star_features = pd.DataFrame(caterogical_star_features[0])"
   ]
  },
  {
   "cell_type": "markdown",
   "id": "3291ca47",
   "metadata": {},
   "source": [
    "Нам также потребуется масштабировать данные для адекватной работы модели."
   ]
  },
  {
   "cell_type": "code",
   "execution_count": 217,
   "id": "9b228eaa",
   "metadata": {},
   "outputs": [
    {
     "data": {
      "text/html": [
       "<div>\n",
       "<style scoped>\n",
       "    .dataframe tbody tr th:only-of-type {\n",
       "        vertical-align: middle;\n",
       "    }\n",
       "\n",
       "    .dataframe tbody tr th {\n",
       "        vertical-align: top;\n",
       "    }\n",
       "\n",
       "    .dataframe thead th {\n",
       "        text-align: right;\n",
       "    }\n",
       "</style>\n",
       "<table border=\"1\" class=\"dataframe\">\n",
       "  <thead>\n",
       "    <tr style=\"text-align: right;\">\n",
       "      <th></th>\n",
       "      <th>Temperature</th>\n",
       "      <th>L</th>\n",
       "      <th>R</th>\n",
       "      <th>A_M</th>\n",
       "    </tr>\n",
       "  </thead>\n",
       "  <tbody>\n",
       "    <tr>\n",
       "      <th>0</th>\n",
       "      <td>3068</td>\n",
       "      <td>0.002400</td>\n",
       "      <td>0.1700</td>\n",
       "      <td>16.12</td>\n",
       "    </tr>\n",
       "    <tr>\n",
       "      <th>1</th>\n",
       "      <td>3042</td>\n",
       "      <td>0.000500</td>\n",
       "      <td>0.1542</td>\n",
       "      <td>16.60</td>\n",
       "    </tr>\n",
       "    <tr>\n",
       "      <th>2</th>\n",
       "      <td>2600</td>\n",
       "      <td>0.000300</td>\n",
       "      <td>0.1020</td>\n",
       "      <td>18.70</td>\n",
       "    </tr>\n",
       "    <tr>\n",
       "      <th>3</th>\n",
       "      <td>2800</td>\n",
       "      <td>0.000200</td>\n",
       "      <td>0.1600</td>\n",
       "      <td>16.65</td>\n",
       "    </tr>\n",
       "    <tr>\n",
       "      <th>4</th>\n",
       "      <td>1939</td>\n",
       "      <td>0.000138</td>\n",
       "      <td>0.1030</td>\n",
       "      <td>20.06</td>\n",
       "    </tr>\n",
       "    <tr>\n",
       "      <th>...</th>\n",
       "      <td>...</td>\n",
       "      <td>...</td>\n",
       "      <td>...</td>\n",
       "      <td>...</td>\n",
       "    </tr>\n",
       "    <tr>\n",
       "      <th>235</th>\n",
       "      <td>38940</td>\n",
       "      <td>374830.000000</td>\n",
       "      <td>1356.0000</td>\n",
       "      <td>-9.93</td>\n",
       "    </tr>\n",
       "    <tr>\n",
       "      <th>236</th>\n",
       "      <td>30839</td>\n",
       "      <td>834042.000000</td>\n",
       "      <td>1194.0000</td>\n",
       "      <td>-10.63</td>\n",
       "    </tr>\n",
       "    <tr>\n",
       "      <th>237</th>\n",
       "      <td>8829</td>\n",
       "      <td>537493.000000</td>\n",
       "      <td>1423.0000</td>\n",
       "      <td>-10.73</td>\n",
       "    </tr>\n",
       "    <tr>\n",
       "      <th>238</th>\n",
       "      <td>9235</td>\n",
       "      <td>404940.000000</td>\n",
       "      <td>1112.0000</td>\n",
       "      <td>-11.23</td>\n",
       "    </tr>\n",
       "    <tr>\n",
       "      <th>239</th>\n",
       "      <td>37882</td>\n",
       "      <td>294903.000000</td>\n",
       "      <td>1783.0000</td>\n",
       "      <td>-7.80</td>\n",
       "    </tr>\n",
       "  </tbody>\n",
       "</table>\n",
       "<p>240 rows × 4 columns</p>\n",
       "</div>"
      ],
      "text/plain": [
       "     Temperature              L          R    A_M\n",
       "0           3068       0.002400     0.1700  16.12\n",
       "1           3042       0.000500     0.1542  16.60\n",
       "2           2600       0.000300     0.1020  18.70\n",
       "3           2800       0.000200     0.1600  16.65\n",
       "4           1939       0.000138     0.1030  20.06\n",
       "..           ...            ...        ...    ...\n",
       "235        38940  374830.000000  1356.0000  -9.93\n",
       "236        30839  834042.000000  1194.0000 -10.63\n",
       "237         8829  537493.000000  1423.0000 -10.73\n",
       "238         9235  404940.000000  1112.0000 -11.23\n",
       "239        37882  294903.000000  1783.0000  -7.80\n",
       "\n",
       "[240 rows x 4 columns]"
      ]
     },
     "execution_count": 217,
     "metadata": {},
     "output_type": "execute_result"
    }
   ],
   "source": [
    "numerical_pipeline = Pipeline([\n",
    "    ( 'scaler', StandardScaler() )\n",
    "])\n",
    "\n",
    "\n",
    "numerical_star_features = star_features.drop(columns=CATEGORICAL_COL_NAMES)\n",
    "numerical_star_features_transformed = numerical_pipeline.fit_transform(numerical_star_features)\n",
    "# Массив переводим обратно в датафрейм.\n",
    "numerical_star_features_transformed = pd.DataFrame(numerical_star_features,\n",
    "                                                   columns=numerical_star_features.columns)\n",
    "numerical_star_features_transformed"
   ]
  },
  {
   "cell_type": "code",
   "execution_count": 218,
   "id": "b96cb892",
   "metadata": {},
   "outputs": [],
   "source": [
    "NUMERICAL_COL_NAMES = list(filter(lambda feature:\n",
    "        feature not in\n",
    "        CATEGORICAL_COL_NAMES,\n",
    "    star_features.columns))\n",
    "\n",
    "preprocessor = ColumnTransformer([\n",
    "    ( 'numerical', numerical_pipeline, NUMERICAL_COL_NAMES ),\n",
    "    ( 'categorical', categorical_pipeline, CATEGORICAL_COL_NAMES)\n",
    "])\n",
    "\n",
    "star_features_preprocessed = preprocessor.fit_transform(star_features)"
   ]
  },
  {
   "cell_type": "markdown",
   "id": "9497bba5",
   "metadata": {},
   "source": [
    "## С использованием метода train_test_split разделите выборку на обучающую и тестовую."
   ]
  },
  {
   "cell_type": "code",
   "execution_count": 219,
   "id": "fb3e7c44",
   "metadata": {},
   "outputs": [],
   "source": [
    "\n",
    "star_features_train: pd.DataFrame\n",
    "star_features_test: pd.DataFrame\n",
    "star_types_train: pd.Series\n",
    "star_types_test: pd.Series\n",
    "\n",
    "# Параметр random_state позволяет задавать базовое значение для генератора\n",
    "# случайных чисел. Это делает разбиение неслучайным. Если задается параметр\n",
    "# random_state то результаты разбиения будут одинаковыми при различных\n",
    "# запусках. На практике этот параметр удобно использовать для создания\n",
    "# \"устойчивых\" учебных примеров, которые выдают одинаковый результат при\n",
    "# различных запусках.\n",
    "RANDOM_STATE_SEED = 1\n",
    "\n",
    "star_features_train, star_features_test, star_types_train, star_types_test = train_test_split(\n",
    "    star_features, star_types, random_state=RANDOM_STATE_SEED)"
   ]
  },
  {
   "cell_type": "markdown",
   "id": "964104e1",
   "metadata": {},
   "source": [
    "Общий вид обучающей выборки:"
   ]
  },
  {
   "cell_type": "code",
   "execution_count": 220,
   "id": "010bd6b8",
   "metadata": {},
   "outputs": [
    {
     "data": {
      "text/html": [
       "<div>\n",
       "<style scoped>\n",
       "    .dataframe tbody tr th:only-of-type {\n",
       "        vertical-align: middle;\n",
       "    }\n",
       "\n",
       "    .dataframe tbody tr th {\n",
       "        vertical-align: top;\n",
       "    }\n",
       "\n",
       "    .dataframe thead th {\n",
       "        text-align: right;\n",
       "    }\n",
       "</style>\n",
       "<table border=\"1\" class=\"dataframe\">\n",
       "  <thead>\n",
       "    <tr style=\"text-align: right;\">\n",
       "      <th></th>\n",
       "      <th>Temperature</th>\n",
       "      <th>L</th>\n",
       "      <th>R</th>\n",
       "      <th>A_M</th>\n",
       "      <th>Color</th>\n",
       "      <th>Spectral_Class</th>\n",
       "    </tr>\n",
       "  </thead>\n",
       "  <tbody>\n",
       "    <tr>\n",
       "      <th>116</th>\n",
       "      <td>4015</td>\n",
       "      <td>282000.0</td>\n",
       "      <td>1534.0</td>\n",
       "      <td>-11.39</td>\n",
       "      <td>Red</td>\n",
       "      <td>K</td>\n",
       "    </tr>\n",
       "  </tbody>\n",
       "</table>\n",
       "</div>"
      ],
      "text/plain": [
       "     Temperature         L       R    A_M Color Spectral_Class\n",
       "116         4015  282000.0  1534.0 -11.39   Red              K"
      ]
     },
     "metadata": {},
     "output_type": "display_data"
    },
    {
     "data": {
      "text/markdown": [
       "- Кол-во рядов: 180\n",
       "- Кол-во колонок: 6"
      ]
     },
     "metadata": {},
     "output_type": "display_data"
    },
    {
     "data": {
      "text/html": [
       "<div>\n",
       "<style scoped>\n",
       "    .dataframe tbody tr th:only-of-type {\n",
       "        vertical-align: middle;\n",
       "    }\n",
       "\n",
       "    .dataframe tbody tr th {\n",
       "        vertical-align: top;\n",
       "    }\n",
       "\n",
       "    .dataframe thead th {\n",
       "        text-align: right;\n",
       "    }\n",
       "</style>\n",
       "<table border=\"1\" class=\"dataframe\">\n",
       "  <thead>\n",
       "    <tr style=\"text-align: right;\">\n",
       "      <th></th>\n",
       "      <th>Type</th>\n",
       "    </tr>\n",
       "  </thead>\n",
       "  <tbody>\n",
       "    <tr>\n",
       "      <th>116</th>\n",
       "      <td>5</td>\n",
       "    </tr>\n",
       "  </tbody>\n",
       "</table>\n",
       "</div>"
      ],
      "text/plain": [
       "     Type\n",
       "116     5"
      ]
     },
     "metadata": {},
     "output_type": "display_data"
    },
    {
     "data": {
      "text/markdown": [
       "- Кол-во рядов: 180\n",
       "- Кол-во колонок: 1"
      ]
     },
     "metadata": {},
     "output_type": "display_data"
    }
   ],
   "source": [
    "from typing import Union\n",
    "def display_df_shape(df: Union[pd.DataFrame, pd.Series]):\n",
    "    display_markdown(\n",
    "        f'- Кол-во рядов: {df.shape[0]}\\n- Кол-во колонок: {df.shape[1]}',\n",
    "        raw=True)\n",
    "\n",
    "\n",
    "def display_split_result(split: Union[pd.DataFrame, pd.Series]):\n",
    "    \"\"\"Display result of the train_test_split.\n",
    "\n",
    "    :param split: one of the splits to display.\n",
    "    :type split: pd.DataFrame, pd.Series\n",
    "    \"\"\"\n",
    "\n",
    "    display(split.head(1))\n",
    "    display_df_shape(split)\n",
    "    \n",
    "    \n",
    "display_split_result(star_features_train)\n",
    "display_split_result(star_types_train)"
   ]
  },
  {
   "cell_type": "markdown",
   "id": "bcb691ba",
   "metadata": {},
   "source": [
    "Общий вид тестовой выборки:"
   ]
  },
  {
   "cell_type": "code",
   "execution_count": 221,
   "id": "91314bcb",
   "metadata": {},
   "outputs": [
    {
     "data": {
      "text/html": [
       "<div>\n",
       "<style scoped>\n",
       "    .dataframe tbody tr th:only-of-type {\n",
       "        vertical-align: middle;\n",
       "    }\n",
       "\n",
       "    .dataframe tbody tr th {\n",
       "        vertical-align: top;\n",
       "    }\n",
       "\n",
       "    .dataframe thead th {\n",
       "        text-align: right;\n",
       "    }\n",
       "</style>\n",
       "<table border=\"1\" class=\"dataframe\">\n",
       "  <thead>\n",
       "    <tr style=\"text-align: right;\">\n",
       "      <th></th>\n",
       "      <th>Temperature</th>\n",
       "      <th>L</th>\n",
       "      <th>R</th>\n",
       "      <th>A_M</th>\n",
       "      <th>Color</th>\n",
       "      <th>Spectral_Class</th>\n",
       "    </tr>\n",
       "  </thead>\n",
       "  <tbody>\n",
       "    <tr>\n",
       "      <th>228</th>\n",
       "      <td>23095</td>\n",
       "      <td>347820.0</td>\n",
       "      <td>86.0</td>\n",
       "      <td>-5.905</td>\n",
       "      <td>Blue</td>\n",
       "      <td>O</td>\n",
       "    </tr>\n",
       "  </tbody>\n",
       "</table>\n",
       "</div>"
      ],
      "text/plain": [
       "     Temperature         L     R    A_M Color Spectral_Class\n",
       "228        23095  347820.0  86.0 -5.905  Blue              O"
      ]
     },
     "metadata": {},
     "output_type": "display_data"
    },
    {
     "data": {
      "text/markdown": [
       "- Кол-во рядов: 60\n",
       "- Кол-во колонок: 6"
      ]
     },
     "metadata": {},
     "output_type": "display_data"
    },
    {
     "data": {
      "text/html": [
       "<div>\n",
       "<style scoped>\n",
       "    .dataframe tbody tr th:only-of-type {\n",
       "        vertical-align: middle;\n",
       "    }\n",
       "\n",
       "    .dataframe tbody tr th {\n",
       "        vertical-align: top;\n",
       "    }\n",
       "\n",
       "    .dataframe thead th {\n",
       "        text-align: right;\n",
       "    }\n",
       "</style>\n",
       "<table border=\"1\" class=\"dataframe\">\n",
       "  <thead>\n",
       "    <tr style=\"text-align: right;\">\n",
       "      <th></th>\n",
       "      <th>Type</th>\n",
       "    </tr>\n",
       "  </thead>\n",
       "  <tbody>\n",
       "    <tr>\n",
       "      <th>228</th>\n",
       "      <td>4</td>\n",
       "    </tr>\n",
       "  </tbody>\n",
       "</table>\n",
       "</div>"
      ],
      "text/plain": [
       "     Type\n",
       "228     4"
      ]
     },
     "metadata": {},
     "output_type": "display_data"
    },
    {
     "data": {
      "text/markdown": [
       "- Кол-во рядов: 60\n",
       "- Кол-во колонок: 1"
      ]
     },
     "metadata": {},
     "output_type": "display_data"
    }
   ],
   "source": [
    "display_split_result(star_features_test)\n",
    "display_split_result(star_types_test)"
   ]
  },
  {
   "cell_type": "markdown",
   "id": "868ccb03",
   "metadata": {},
   "source": [
    "## Обучение и оценка модели ближайших соседей для произвольно заданного гиперпараметра\n",
    "В классической модели ближайших соседей гиперпараметром является количество\n",
    "соседей. Зададим его в константе N_NEIGHBORS."
   ]
  },
  {
   "cell_type": "code",
   "execution_count": 222,
   "id": "0a74b50a",
   "metadata": {},
   "outputs": [
    {
     "data": {
      "text/plain": [
       "0.15"
      ]
     },
     "execution_count": 222,
     "metadata": {},
     "output_type": "execute_result"
    }
   ],
   "source": [
    "from sklearn.metrics import accuracy_score\n",
    "\n",
    "N_NEIGHBORS = 12\n",
    "# В KNN Наиболее часто используется Евклидова метрика, поэтому для определения веса\n",
    "#   соседей выберем параметр 'distance'.\n",
    "knn_classifier = KNeighborsClassifier(n_neighbors=N_NEIGHBORS, weights='distance')\n",
    "\n",
    "knn_pipeline = Pipeline([\n",
    "    ( 'preprocess', preprocessor ),\n",
    "    ( 'model', knn_classifier ),\n",
    "])\n",
    "\n",
    "# Здесь и далее во время обучения нам потребуется \"распутывать\" выборку целевых\n",
    "# признаков, поэтому перезапишем переменную:\n",
    "star_types_train_raveled =-star_types_train.values.ravel()\n",
    "\n",
    "\n",
    "star_types_predicted = knn_pipeline.fit(star_features_train,\n",
    "                   star_types_train_raveled).predict(star_features_test)\n",
    "# knn_pipeline.score(star_types_predicted, star_types_test.values.ravel())\n",
    "accuracy_score(star_types_predicted, star_types_test)\n",
    "\n",
    "# mean_absolute_error(star_types_test, star_types_predicted)\n",
    "# neg_mean_absolute_error(star_types_test, star_types_predicted)"
   ]
  },
  {
   "cell_type": "markdown",
   "id": "ecff08a9",
   "metadata": {},
   "source": [
    "## Произведите подбор гиперпараметра K с использованием GridSearchCV и/или RandomizedSearchCV и кросс-валидации, оцените качество оптимальной модели.\n",
    "Желательно использование нескольких стратегий кросс-валидации."
   ]
  },
  {
   "cell_type": "code",
   "execution_count": 223,
   "id": "ec52267a",
   "metadata": {},
   "outputs": [],
   "source": [
    "# Метрики будем складывать в этот словарь для дальнейшего сравнительного\n",
    "#   анализа.\n",
    "metrics_data = {}\n",
    "\n",
    "import re\n",
    "def add_metrics_data_from_search_results(results, search_strategy='GridSearchCV'):\n",
    "    for result, value in results.items():\n",
    "        metric_match = re.match(r'mean_test_(.+)', result)\n",
    "        if metric_match:\n",
    "            metric_name = metric_match.group(1)\n",
    "            metrics_data[search_strategy][metric_name] = max(value)"
   ]
  },
  {
   "cell_type": "markdown",
   "id": "14763b4c",
   "metadata": {},
   "source": [
    "Метрики, которые мы будем использовать:"
   ]
  },
  {
   "cell_type": "code",
   "execution_count": 224,
   "id": "b2252272",
   "metadata": {},
   "outputs": [],
   "source": [
    "metrics=(\n",
    "    'accuracy',\n",
    "    'f1_weighted',\n",
    "    'precision_weighted',\n",
    "    'recall_weighted',\n",
    ")"
   ]
  },
  {
   "cell_type": "markdown",
   "id": "f5917989",
   "metadata": {},
   "source": [
    "## С помощью GridSearchCV"
   ]
  },
  {
   "cell_type": "code",
   "execution_count": 225,
   "id": "cffb9a06",
   "metadata": {},
   "outputs": [
    {
     "data": {
      "text/plain": [
       "{'mean_fit_time': array([0.01281277, 0.00885018, 0.01005554, 0.01133808, 0.01078041,\n",
       "        0.00959913, 0.00994802, 0.00942461, 0.00944559, 0.01047524,\n",
       "        0.01080958, 0.01063005, 0.01133291, 0.01808921, 0.00939496,\n",
       "        0.01400391, 0.02066008, 0.01293063, 0.01869003, 0.01549665,\n",
       "        0.012043  , 0.01038392, 0.01034705, 0.01039163, 0.01097926,\n",
       "        0.01283971, 0.01116204, 0.00913676, 0.0095551 ]),\n",
       " 'std_fit_time': array([1.95166508e-03, 3.37634961e-04, 1.52664981e-03, 8.01890740e-04,\n",
       "        6.92958677e-05, 4.53882617e-04, 8.03675493e-04, 3.16805236e-04,\n",
       "        2.11153032e-04, 1.05008082e-03, 9.72122500e-04, 7.84543891e-04,\n",
       "        5.97043962e-04, 1.11590237e-02, 6.94170131e-04, 5.65144329e-03,\n",
       "        7.49817198e-03, 3.53556171e-03, 8.64172083e-04, 3.57409474e-03,\n",
       "        2.07530352e-03, 4.82087725e-04, 1.00631037e-03, 3.70257853e-04,\n",
       "        1.32516172e-03, 5.40918309e-03, 1.20958315e-03, 6.11843993e-05,\n",
       "        1.01317261e-03]),\n",
       " 'mean_score_time': array([0.01039251, 0.00972931, 0.01143575, 0.00819302, 0.00864895,\n",
       "        0.0093987 , 0.01096861, 0.00983334, 0.00914892, 0.00908502,\n",
       "        0.00845329, 0.00913103, 0.0081346 , 0.00942667, 0.01109505,\n",
       "        0.01202734, 0.01763439, 0.02006904, 0.01533985, 0.01184996,\n",
       "        0.00873693, 0.00857472, 0.00843438, 0.00829101, 0.00915178,\n",
       "        0.01374459, 0.00926121, 0.00993005, 0.01013939]),\n",
       " 'std_score_time': array([2.09403357e-03, 4.22581236e-04, 3.94374356e-03, 5.19873666e-04,\n",
       "        5.75927450e-04, 1.02059021e-03, 4.83389238e-04, 1.07746297e-03,\n",
       "        1.20231747e-04, 4.50470410e-04, 2.26213740e-04, 1.50444046e-03,\n",
       "        6.80792553e-05, 9.20739634e-04, 6.16710692e-04, 3.00446952e-03,\n",
       "        1.56419752e-03, 3.26427031e-03, 2.12902406e-03, 1.79393842e-03,\n",
       "        3.95129404e-04, 6.43829438e-04, 1.11488894e-04, 8.45179571e-05,\n",
       "        6.44677764e-04, 4.86868058e-03, 7.25871080e-04, 5.35053163e-04,\n",
       "        5.57961159e-04]),\n",
       " 'param_model__n_neighbors': masked_array(data=[1, 2, 3, 4, 5, 6, 7, 8, 9, 10, 11, 12, 13, 14, 15, 16,\n",
       "                    17, 18, 19, 20, 21, 22, 23, 24, 25, 26, 27, 28, 29],\n",
       "              mask=[False, False, False, False, False, False, False, False,\n",
       "                    False, False, False, False, False, False, False, False,\n",
       "                    False, False, False, False, False, False, False, False,\n",
       "                    False, False, False, False, False],\n",
       "        fill_value='?',\n",
       "             dtype=object),\n",
       " 'params': [{'model__n_neighbors': 1},\n",
       "  {'model__n_neighbors': 2},\n",
       "  {'model__n_neighbors': 3},\n",
       "  {'model__n_neighbors': 4},\n",
       "  {'model__n_neighbors': 5},\n",
       "  {'model__n_neighbors': 6},\n",
       "  {'model__n_neighbors': 7},\n",
       "  {'model__n_neighbors': 8},\n",
       "  {'model__n_neighbors': 9},\n",
       "  {'model__n_neighbors': 10},\n",
       "  {'model__n_neighbors': 11},\n",
       "  {'model__n_neighbors': 12},\n",
       "  {'model__n_neighbors': 13},\n",
       "  {'model__n_neighbors': 14},\n",
       "  {'model__n_neighbors': 15},\n",
       "  {'model__n_neighbors': 16},\n",
       "  {'model__n_neighbors': 17},\n",
       "  {'model__n_neighbors': 18},\n",
       "  {'model__n_neighbors': 19},\n",
       "  {'model__n_neighbors': 20},\n",
       "  {'model__n_neighbors': 21},\n",
       "  {'model__n_neighbors': 22},\n",
       "  {'model__n_neighbors': 23},\n",
       "  {'model__n_neighbors': 24},\n",
       "  {'model__n_neighbors': 25},\n",
       "  {'model__n_neighbors': 26},\n",
       "  {'model__n_neighbors': 27},\n",
       "  {'model__n_neighbors': 28},\n",
       "  {'model__n_neighbors': 29}],\n",
       " 'split0_test_accuracy': array([1.        , 1.        , 1.        , 1.        , 1.        ,\n",
       "        1.        , 1.        , 1.        , 1.        , 1.        ,\n",
       "        1.        , 1.        , 1.        , 1.        , 1.        ,\n",
       "        1.        , 1.        , 1.        , 1.        , 1.        ,\n",
       "        0.98333333, 0.98333333, 0.98333333, 0.98333333, 0.98333333,\n",
       "        0.98333333, 0.98333333, 0.96666667, 0.96666667]),\n",
       " 'split1_test_accuracy': array([1.        , 1.        , 0.96666667, 1.        , 0.98333333,\n",
       "        0.98333333, 0.98333333, 0.98333333, 0.98333333, 0.98333333,\n",
       "        0.98333333, 0.98333333, 0.98333333, 0.98333333, 0.98333333,\n",
       "        0.98333333, 0.98333333, 0.98333333, 0.98333333, 0.98333333,\n",
       "        0.98333333, 0.98333333, 0.98333333, 0.98333333, 0.98333333,\n",
       "        0.98333333, 0.98333333, 0.98333333, 0.98333333]),\n",
       " 'split2_test_accuracy': array([0.96666667, 0.96666667, 0.98333333, 0.98333333, 0.98333333,\n",
       "        0.98333333, 0.98333333, 0.98333333, 0.98333333, 0.98333333,\n",
       "        0.98333333, 0.98333333, 0.96666667, 0.95      , 0.95      ,\n",
       "        0.95      , 0.95      , 0.95      , 0.9       , 0.91666667,\n",
       "        0.9       , 0.9       , 0.9       , 0.9       , 0.9       ,\n",
       "        0.9       , 0.9       , 0.9       , 0.9       ]),\n",
       " 'mean_test_accuracy': array([0.98888889, 0.98888889, 0.98333333, 0.99444444, 0.98888889,\n",
       "        0.98888889, 0.98888889, 0.98888889, 0.98888889, 0.98888889,\n",
       "        0.98888889, 0.98888889, 0.98333333, 0.97777778, 0.97777778,\n",
       "        0.97777778, 0.97777778, 0.97777778, 0.96111111, 0.96666667,\n",
       "        0.95555556, 0.95555556, 0.95555556, 0.95555556, 0.95555556,\n",
       "        0.95555556, 0.95555556, 0.95      , 0.95      ]),\n",
       " 'std_test_accuracy': array([0.01571348, 0.01571348, 0.01360828, 0.00785674, 0.00785674,\n",
       "        0.00785674, 0.00785674, 0.00785674, 0.00785674, 0.00785674,\n",
       "        0.00785674, 0.00785674, 0.01360828, 0.02078699, 0.02078699,\n",
       "        0.02078699, 0.02078699, 0.02078699, 0.04374449, 0.03600411,\n",
       "        0.03928371, 0.03928371, 0.03928371, 0.03928371, 0.03928371,\n",
       "        0.03928371, 0.03928371, 0.03600411, 0.03600411]),\n",
       " 'rank_test_accuracy': array([ 2,  2, 12,  1,  2,  2,  2,  2,  2,  2,  2,  2, 12, 14, 14, 14, 14,\n",
       "        14, 20, 19, 21, 21, 21, 21, 21, 21, 21, 28, 28], dtype=int32),\n",
       " 'split0_test_f1_weighted': array([1.        , 1.        , 1.        , 1.        , 1.        ,\n",
       "        1.        , 1.        , 1.        , 1.        , 1.        ,\n",
       "        1.        , 1.        , 1.        , 1.        , 1.        ,\n",
       "        1.        , 1.        , 1.        , 1.        , 1.        ,\n",
       "        0.98333333, 0.98333333, 0.98333333, 0.98333333, 0.98333333,\n",
       "        0.98333333, 0.98333333, 0.96695341, 0.96695341]),\n",
       " 'split1_test_f1_weighted': array([1.        , 1.        , 0.96572134, 1.        , 0.98326984,\n",
       "        0.98326984, 0.98326984, 0.98326984, 0.98326984, 0.98326984,\n",
       "        0.98326984, 0.98326984, 0.98326984, 0.98326984, 0.98326984,\n",
       "        0.98326984, 0.98326984, 0.98326984, 0.98326984, 0.98326984,\n",
       "        0.98326984, 0.98326984, 0.98326984, 0.98326984, 0.98326984,\n",
       "        0.98326984, 0.98326984, 0.98326984, 0.98326984]),\n",
       " 'split2_test_f1_weighted': array([0.96743687, 0.96743687, 0.98333333, 0.98333333, 0.98333333,\n",
       "        0.98333333, 0.98333333, 0.98333333, 0.98333333, 0.98333333,\n",
       "        0.98333333, 0.98333333, 0.96644444, 0.95045768, 0.95045768,\n",
       "        0.95045768, 0.95045768, 0.95045768, 0.90043577, 0.91828681,\n",
       "        0.90043577, 0.90043577, 0.90043577, 0.90043577, 0.90043577,\n",
       "        0.90043577, 0.90043577, 0.90043577, 0.90043577]),\n",
       " 'mean_test_f1_weighted': array([0.98914562, 0.98914562, 0.98301822, 0.99444444, 0.98886772,\n",
       "        0.98886772, 0.98886772, 0.98886772, 0.98886772, 0.98886772,\n",
       "        0.98886772, 0.98886772, 0.9832381 , 0.97790917, 0.97790917,\n",
       "        0.97790917, 0.97790917, 0.97790917, 0.9612352 , 0.96718555,\n",
       "        0.95567965, 0.95567965, 0.95567965, 0.95567965, 0.95567965,\n",
       "        0.95567965, 0.95567965, 0.95021967, 0.95021967]),\n",
       " 'std_test_f1_weighted': array([0.01535041, 0.01535041, 0.01399598, 0.00785674, 0.00787175,\n",
       "        0.00787175, 0.00787175, 0.00787175, 0.00787175, 0.00787175,\n",
       "        0.00787175, 0.00787175, 0.01369902, 0.02057771, 0.02057771,\n",
       "        0.02057771, 0.02057771, 0.02057771, 0.04353085, 0.03524476,\n",
       "        0.03906333, 0.03906333, 0.03906333, 0.03906333, 0.03906333,\n",
       "        0.03906333, 0.03906333, 0.03582722, 0.03582722]),\n",
       " 'rank_test_f1_weighted': array([ 2,  2, 13,  1,  4,  4,  4,  4,  4,  4,  4,  4, 12, 14, 14, 14, 14,\n",
       "        14, 20, 19, 21, 21, 21, 21, 21, 21, 21, 28, 28], dtype=int32),\n",
       " 'split0_test_precision_weighted': array([1.      , 1.      , 1.      , 1.      , 1.      , 1.      ,\n",
       "        1.      , 1.      , 1.      , 1.      , 1.      , 1.      ,\n",
       "        1.      , 1.      , 1.      , 1.      , 1.      , 1.      ,\n",
       "        1.      , 1.      , 0.984375, 0.984375, 0.984375, 0.984375,\n",
       "        0.984375, 0.984375, 0.984375, 0.96875 , 0.96875 ]),\n",
       " 'split1_test_precision_weighted': array([1.        , 1.        , 0.96913919, 1.        , 0.98461538,\n",
       "        0.98461538, 0.98461538, 0.98461538, 0.98461538, 0.98461538,\n",
       "        0.98461538, 0.98461538, 0.98461538, 0.98461538, 0.98461538,\n",
       "        0.98461538, 0.98461538, 0.98461538, 0.98461538, 0.98461538,\n",
       "        0.98461538, 0.98461538, 0.98461538, 0.98461538, 0.98461538,\n",
       "        0.98461538, 0.98461538, 0.98461538, 0.98461538]),\n",
       " 'split2_test_precision_weighted': array([0.97407407, 0.97407407, 0.98541667, 0.98541667, 0.98541667,\n",
       "        0.98541667, 0.98541667, 0.98541667, 0.98541667, 0.98541667,\n",
       "        0.98541667, 0.98541667, 0.96794872, 0.9547619 , 0.9547619 ,\n",
       "        0.9547619 , 0.9547619 , 0.9547619 , 0.91904762, 0.93333333,\n",
       "        0.91904762, 0.91904762, 0.91904762, 0.91904762, 0.91904762,\n",
       "        0.91904762, 0.91904762, 0.91904762, 0.91904762]),\n",
       " 'mean_test_precision_weighted': array([0.99135802, 0.99135802, 0.98485195, 0.99513889, 0.99001068,\n",
       "        0.99001068, 0.99001068, 0.99001068, 0.99001068, 0.99001068,\n",
       "        0.99001068, 0.99001068, 0.98418803, 0.97979243, 0.97979243,\n",
       "        0.97979243, 0.97979243, 0.97979243, 0.96788767, 0.97264957,\n",
       "        0.96267933, 0.96267933, 0.96267933, 0.96267933, 0.96267933,\n",
       "        0.96267933, 0.96267933, 0.957471  , 0.957471  ]),\n",
       " 'std_test_precision_weighted': array([0.0122216 , 0.0122216 , 0.0126052 , 0.00687465, 0.00707108,\n",
       "        0.00707108, 0.00707108, 0.00707108, 0.00707108, 0.00707108,\n",
       "        0.00707108, 0.00707108, 0.01308837, 0.01878061, 0.01878061,\n",
       "        0.01878061, 0.01878061, 0.01878061, 0.03510161, 0.02850142,\n",
       "        0.03085244, 0.03085244, 0.03085244, 0.03085244, 0.03085244,\n",
       "        0.03085244, 0.03085244, 0.02793081, 0.02793081]),\n",
       " 'rank_test_precision_weighted': array([ 2,  2, 12,  1,  4,  4,  4,  4,  4,  4,  4,  4, 13, 14, 14, 14, 14,\n",
       "        14, 20, 19, 21, 21, 21, 21, 21, 21, 21, 28, 28], dtype=int32),\n",
       " 'split0_test_recall_weighted': array([1.        , 1.        , 1.        , 1.        , 1.        ,\n",
       "        1.        , 1.        , 1.        , 1.        , 1.        ,\n",
       "        1.        , 1.        , 1.        , 1.        , 1.        ,\n",
       "        1.        , 1.        , 1.        , 1.        , 1.        ,\n",
       "        0.98333333, 0.98333333, 0.98333333, 0.98333333, 0.98333333,\n",
       "        0.98333333, 0.98333333, 0.96666667, 0.96666667]),\n",
       " 'split1_test_recall_weighted': array([1.        , 1.        , 0.96666667, 1.        , 0.98333333,\n",
       "        0.98333333, 0.98333333, 0.98333333, 0.98333333, 0.98333333,\n",
       "        0.98333333, 0.98333333, 0.98333333, 0.98333333, 0.98333333,\n",
       "        0.98333333, 0.98333333, 0.98333333, 0.98333333, 0.98333333,\n",
       "        0.98333333, 0.98333333, 0.98333333, 0.98333333, 0.98333333,\n",
       "        0.98333333, 0.98333333, 0.98333333, 0.98333333]),\n",
       " 'split2_test_recall_weighted': array([0.96666667, 0.96666667, 0.98333333, 0.98333333, 0.98333333,\n",
       "        0.98333333, 0.98333333, 0.98333333, 0.98333333, 0.98333333,\n",
       "        0.98333333, 0.98333333, 0.96666667, 0.95      , 0.95      ,\n",
       "        0.95      , 0.95      , 0.95      , 0.9       , 0.91666667,\n",
       "        0.9       , 0.9       , 0.9       , 0.9       , 0.9       ,\n",
       "        0.9       , 0.9       , 0.9       , 0.9       ]),\n",
       " 'mean_test_recall_weighted': array([0.98888889, 0.98888889, 0.98333333, 0.99444444, 0.98888889,\n",
       "        0.98888889, 0.98888889, 0.98888889, 0.98888889, 0.98888889,\n",
       "        0.98888889, 0.98888889, 0.98333333, 0.97777778, 0.97777778,\n",
       "        0.97777778, 0.97777778, 0.97777778, 0.96111111, 0.96666667,\n",
       "        0.95555556, 0.95555556, 0.95555556, 0.95555556, 0.95555556,\n",
       "        0.95555556, 0.95555556, 0.95      , 0.95      ]),\n",
       " 'std_test_recall_weighted': array([0.01571348, 0.01571348, 0.01360828, 0.00785674, 0.00785674,\n",
       "        0.00785674, 0.00785674, 0.00785674, 0.00785674, 0.00785674,\n",
       "        0.00785674, 0.00785674, 0.01360828, 0.02078699, 0.02078699,\n",
       "        0.02078699, 0.02078699, 0.02078699, 0.04374449, 0.03600411,\n",
       "        0.03928371, 0.03928371, 0.03928371, 0.03928371, 0.03928371,\n",
       "        0.03928371, 0.03928371, 0.03600411, 0.03600411]),\n",
       " 'rank_test_recall_weighted': array([ 2,  2, 12,  1,  2,  2,  2,  2,  2,  2,  2,  2, 12, 14, 14, 14, 14,\n",
       "        14, 20, 19, 21, 21, 21, 21, 21, 21, 21, 28, 28], dtype=int32)}"
      ]
     },
     "metadata": {},
     "output_type": "display_data"
    },
    {
     "data": {
      "text/plain": [
       "0.9944444444444445"
      ]
     },
     "metadata": {},
     "output_type": "display_data"
    },
    {
     "data": {
      "text/plain": [
       "{'model__n_neighbors': 4}"
      ]
     },
     "metadata": {},
     "output_type": "display_data"
    },
    {
     "name": "stdout",
     "output_type": "stream",
     "text": [
      "CPU times: user 2.07 s, sys: 26 ms, total: 2.09 s\n",
      "Wall time: 2.08 s\n"
     ]
    }
   ],
   "source": [
    "%%time\n",
    "from sklearn.model_selection import GridSearchCV\n",
    "from sklearn.model_selection import KFold\n",
    "\n",
    "# Метрики модели.\n",
    "metrics_data['GridSearchCV'] = {}\n",
    "\n",
    "params = { 'model__n_neighbors': np.arange(1, 30, 1) }\n",
    "\n",
    "grid_search = GridSearchCV(knn_pipeline, params, cv=KFold(n_splits=3),\n",
    "                           scoring=metrics, refit='f1_weighted')\n",
    "\n",
    "grid_search.fit(star_features_train, star_types_train_raveled)\n",
    "\n",
    "add_metrics_data_from_search_results(grid_search.cv_results_)\n",
    "\n",
    "display(grid_search.best_score_, grid_search.best_params_)"
   ]
  },
  {
   "cell_type": "markdown",
   "id": "5547f361",
   "metadata": {},
   "source": [
    "## С помощью RandomizedSearchCV"
   ]
  },
  {
   "cell_type": "code",
   "execution_count": 226,
   "id": "9dc7205d",
   "metadata": {},
   "outputs": [
    {
     "data": {
      "text/plain": [
       "0.9944444444444445"
      ]
     },
     "metadata": {},
     "output_type": "display_data"
    },
    {
     "data": {
      "text/plain": [
       "{'model__n_neighbors': 4}"
      ]
     },
     "metadata": {},
     "output_type": "display_data"
    },
    {
     "name": "stdout",
     "output_type": "stream",
     "text": [
      "CPU times: user 700 ms, sys: 8.52 ms, total: 709 ms\n",
      "Wall time: 698 ms\n"
     ]
    }
   ],
   "source": [
    "%%time\n",
    "from sklearn.model_selection import RandomizedSearchCV\n",
    "\n",
    "# Метрики модели.\n",
    "metrics_data['RandomizedSearchCV'] = {}\n",
    "\n",
    "randomized_search = RandomizedSearchCV(knn_pipeline, params,\n",
    "                                       cv=KFold(n_splits=3),\n",
    "                                       scoring=metrics,\n",
    "                                       refit='f1_weighted')\n",
    "\n",
    "randomized_search.fit(star_features_train, star_types_train_raveled)\n",
    "\n",
    "add_metrics_data_from_search_results(randomized_search.cv_results_,\n",
    "                                     search_strategy='RandomizedSearchCV')\n",
    "\n",
    "display(grid_search.best_score_, grid_search.best_params_)"
   ]
  },
  {
   "cell_type": "markdown",
   "id": "1c76862f",
   "metadata": {},
   "source": [
    "## С помощью кросс-валидации (`cross_validate`)"
   ]
  },
  {
   "cell_type": "code",
   "execution_count": 227,
   "id": "1d53aa79",
   "metadata": {},
   "outputs": [
    {
     "data": {
      "text/plain": [
       "array([[1, 0, 0, 0, 0, 0],\n",
       "       [1, 0, 0, 0, 0, 0],\n",
       "       [1, 0, 0, 0, 0, 0],\n",
       "       ...,\n",
       "       [0, 0, 0, 0, 0, 1],\n",
       "       [0, 0, 0, 0, 0, 1],\n",
       "       [0, 0, 0, 0, 0, 1]])"
      ]
     },
     "metadata": {},
     "output_type": "display_data"
    },
    {
     "data": {
      "text/plain": [
       "{'fit_time': array([0.01505136, 0.02901053, 0.0160172 ]),\n",
       " 'score_time': array([0.0234468 , 0.01678395, 0.01281476]),\n",
       " 'test_accuracy': array([0.8625, 1.    , 0.9   ]),\n",
       " 'test_f1_weighted': array([0.85305047, 1.        , 0.89314236]),\n",
       " 'test_precision_weighted': array([0.90733225, 1.        , 0.92546992]),\n",
       " 'test_recall_weighted': array([0.8625, 1.    , 0.9   ])}"
      ]
     },
     "metadata": {},
     "output_type": "display_data"
    }
   ],
   "source": [
    "from sklearn.model_selection import cross_validate\n",
    "from sklearn.preprocessing import label_binarize\n",
    "\n",
    "metrics_data['cross_validate'] = {}\n",
    "\n",
    "\n",
    "# Для осуществления работы cross_validate с мультиклассами, необходимо\n",
    "# их преобразовать one hot encode`ом.\n",
    "star_types_train_binarized = label_binarize(star_types, # Должно быть unravel.\n",
    "                                            classes=[0, 1, 2, 3, 4, 5])\n",
    "\n",
    "display(star_types_train_binarized)\n",
    "cross_validate_results = cross_validate(knn_pipeline,\n",
    "                           star_features, star_types.values.ravel(),\n",
    "                           cv=3, scoring=metrics,\n",
    "                           )\n",
    "\n",
    "import re\n",
    "def add_metrics_data_from_cross_validate_results(cross_validate_results):\n",
    "    for result, value in cross_validate_results.items():\n",
    "        metric_match = re.match(r'test_(.+)', result)\n",
    "        if metric_match:\n",
    "            metric_name = metric_match.group(1)\n",
    "            metrics_data['cross_validate'][metric_name] = min(value)\n",
    "\n",
    "display(cross_validate_results)\n",
    "add_metrics_data_from_cross_validate_results(cross_validate_results)\n",
    "# metrics_data['cross_validate']['precision_weighted'] = cross_val['test_precision_weighted']\n",
    "# metrics_data['cross_validate']['recall_weighted'] = cross_val['test_recall_weighted']"
   ]
  },
  {
   "cell_type": "markdown",
   "id": "48cd1b5e",
   "metadata": {},
   "source": [
    "## Сравните метрики качества исходной и оптимальной моделей"
   ]
  },
  {
   "cell_type": "code",
   "execution_count": 228,
   "id": "075100ec",
   "metadata": {},
   "outputs": [],
   "source": [
    "from typing import Dict\n",
    "\n",
    "def grouped_bar_chart(ax, data: Dict[str, List[float]],\n",
    "                      tick_labels, colors=None, total_width=0.8,\n",
    "             single_width=1):\n",
    "    \"\"\"Draws a bar plot with multiple bars per data point.\n",
    "\n",
    "    Parameters\n",
    "    ----------\n",
    "    ax: matplotlib.pyplot.axis\n",
    "        The axis we want to draw our plot on.\n",
    "\n",
    "    data: Dict[str, List[float]]\n",
    "        A dictionary containing the data we want to plot. Keys are the names of the\n",
    "        data, the items is a list of the values.\n",
    "\n",
    "        Example:\n",
    "        data = {\n",
    "            \"x\":[ 1, 2,      3      ],\n",
    "            \"y\":[ 1, np.nan, 3      ],\n",
    "            \"z\":[ 1, 2,      np.nan ],\n",
    "        }\n",
    "\n",
    "    tick_labels: list\n",
    "        Labels which will be displayed under each group.\n",
    "\n",
    "        Example:\n",
    "        tick_labels = ['Accuracy', 'F1', 'Precision']\n",
    "\n",
    "        Note:\n",
    "        Length should be the same as number of groups.\n",
    "        \n",
    "\n",
    "    colors: array-like, optional\n",
    "        A list of colors which are used for the bars. If None, the colors\n",
    "        will be the standard matplotlib color cyle. (default: None)\n",
    "\n",
    "    total_width: float, optional, default: 0.8\n",
    "        The width of a bar group. 0.8 means that 80% of the x-axis is covered\n",
    "        by bars and 20% will be spaces between the bars.\n",
    "\n",
    "    single_width: float, optional, default: 1\n",
    "        The relative width of a single bar within a group. 1 means the bars\n",
    "        will touch eachother within a group, values less than 1 will make\n",
    "        these bars thinner.\n",
    "    \"\"\"\n",
    "\n",
    "    # Check if colors where provided, otherwhise use the default color cycle\n",
    "    if colors is None:\n",
    "        colors = plt.rcParams['axes.prop_cycle'].by_key()['color']\n",
    "\n",
    "\n",
    "    # Number of bars per group.\n",
    "    n_bars = len(data)\n",
    "\n",
    "    # The width of a single bar.\n",
    "    bar_width = total_width / n_bars\n",
    "\n",
    "    tick_locations = np.arange(len(tick_labels))\n",
    "\n",
    "    # Iterate over all data.\n",
    "    for i, (name, values) in enumerate(data.items()):\n",
    "        # The offset in x direction of that bar.\n",
    "        tick_offset = (i - n_bars / 2) * bar_width + bar_width / 2\n",
    "\n",
    "        # One bar plot consists of multiple rectangles.\n",
    "        rects = ax.bar(tick_locations + tick_offset, values, width=bar_width * single_width,\n",
    "                     color=colors[i % len(colors)],\n",
    "                     label=name)\n",
    "        # Add a handle to the last drawn bar, which we'll need for the legend.\n",
    "        # bars.append(bars[0])\n",
    "\n",
    "        ax.bar_label(rects, padding=3, label_type='center', rotation=90)\n",
    "\n",
    "    ax.set_xticks(tick_locations, labels=tick_labels)\n",
    "\n",
    "\n",
    "def show_metrics_grouped_bar_chart(metrics_data: Dict[str, Dict[str, float]]):\n",
    "    \"\"\" Creates grouped bar chart for metrics.\n",
    "    :param metrics_data: a dictionary of metrics and their values for each\n",
    "        model.\n",
    "    :type metrics_data: Dict[str, Dict[str, float]]\n",
    "\n",
    "        Example:\n",
    "\n",
    "        metrics_data = {\n",
    "            'GridSearchCV': { \n",
    "                'Accuracy': 1,\n",
    "                'a': 2,\n",
    "                'b': 3,\n",
    "            },\n",
    "            'RandomSearchCV': {\n",
    "                'Roc': 2,\n",
    "                'a': 3,\n",
    "                'b': 4,\n",
    "            },\n",
    "        }\n",
    "\n",
    "    \"\"\"\n",
    "    # plt.figure(figsize=(7,3))\n",
    "    width = 15\n",
    "    height = 15\n",
    "    plt.rcParams['figure.figsize'] = width, height\n",
    "\n",
    "    fig, ax = plt.subplots()\n",
    "\n",
    "    # Extracting unique metric names from our data.\n",
    "    tick_labels = set()\n",
    "    for model_metrics in metrics_data.values():\n",
    "        tick_labels.update(list(model_metrics.keys()))\n",
    "\n",
    "    \"\"\" Converting our dictionary to a `fully filled` dictionary of lists:\n",
    "    data = {\n",
    "        'GridSearchCV': [ \n",
    "            1, # was 'Accuracy': 1,\n",
    "            2, # was 'a': 2,\n",
    "            3, # was 'b': 3,\n",
    "            None, # didn't have value for 'Roc';\n",
    "        ],\n",
    "        'RandomSearchCV': [\n",
    "            None, # didn't have value for 'Accuracy',\n",
    "            3, # was 'a': 3,\n",
    "            4, # was 'b': 4,\n",
    "            2, # was 'Roc': 2;\n",
    "        ],\n",
    "    }\n",
    "    \"\"\"\n",
    "    filled_metrics_data = {}\n",
    "\n",
    "    for model in metrics_data.keys():\n",
    "        filled_metrics_data[model] = []\n",
    "        for metric in tick_labels:\n",
    "            filled_metrics_data[model].append(metrics_data[model].get(metric)\n",
    "                                              or np.nan)\n",
    "            \n",
    "    \n",
    "    grouped_bar_chart(ax, filled_metrics_data, tick_labels=tick_labels,\n",
    "                      total_width=.8, single_width=.9, colors=['#aadddd',\n",
    "                          '#eebbbb', '#ccbbbb', '#77bb77'])\n",
    "\n",
    "    plt.title('Сравнение метрик качества моделей')\n",
    "    plt.xlabel('Метрика')\n",
    "    plt.ylabel('Значение метрики')\n",
    "\n",
    "    ax.legend(title='Стратегия', bbox_to_anchor=(1.2, 1))\n",
    "\n",
    "    plt.show()"
   ]
  },
  {
   "cell_type": "code",
   "execution_count": 229,
   "id": "a1d17335",
   "metadata": {},
   "outputs": [
    {
     "data": {
      "image/png": "[encoded data removed]",
      "text/plain": [
       "<Figure size 1080x1080 with 1 Axes>"
      ]
     },
     "metadata": {},
     "output_type": "display_data"
    }
   ],
   "source": [
    "show_metrics_grouped_bar_chart(metrics_data)"
   ]
  }
 ],
 "metadata": {
  "kernelspec": {
   "display_name": "Python 3 (ipykernel)",
   "language": "python",
   "name": "python3"
  },
  "language_info": {
   "codemirror_mode": {
    "name": "ipython",
    "version": 3
   },
   "file_extension": ".py",
   "mimetype": "text/x-python",
   "name": "python",
   "nbconvert_exporter": "python",
   "pygments_lexer": "ipython3",
   "version": "3.8.10"
  }
 },
 "nbformat": 4,
 "nbformat_minor": 5
}
