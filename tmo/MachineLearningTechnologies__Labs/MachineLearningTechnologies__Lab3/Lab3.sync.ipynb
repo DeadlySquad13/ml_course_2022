{
 "cells": [
  {
   "cell_type": "code",
   "execution_count": null,
   "id": "7aa8c564",
   "metadata": {},
   "outputs": [],
   "source": []
  },
  {
   "cell_type": "markdown",
   "id": "18c3934c",
   "metadata": {},
   "source": [
    "# Лабораторная работа №3\n",
    "# Подготовка обучающей и тестовой выборки, кросс-валидация и подбор гиперпараметров на примере метода ближайших соседей\n",
    "\n",
    "Выполнил: **Пакало А. С., РТ5-61Б**"
   ]
  },
  {
   "cell_type": "markdown",
   "id": "2844efea",
   "metadata": {},
   "source": [
    "## Задание\n",
    "Выберите набор данных (датасет) для решения задачи классификации или\n",
    "регрессии.\n",
    "- С использованием метода train_test_split разделите выборку на обучающую и\n",
    "  тестовую.\n",
    "- Обучите модель ближайших соседей для произвольно заданного гиперпараметра\n",
    "K.\n",
    "  Оцените качество модели с помощью подходящих для задачи метрик.\n",
    "- Произведите подбор гиперпараметра K с использованием GridSearchCV и/или\n",
    "  RandomizedSearchCV и кросс-валидации, оцените качество оптимальной модели.\n",
    "  Желательно использование нескольких стратегий кросс-валидации.\n",
    "- Сравните метрики качества исходной и оптимальной моделей."
   ]
  },
  {
   "cell_type": "markdown",
   "id": "2dd54251",
   "metadata": {},
   "source": [
    "## Текстовое описание набора данных\n",
    "Для обучения по методу K ближайших соседей (KNN) был выбран датасет с\n",
    "классификацией типа звёзд c ресурса kaggle (Star Type Classification / NASA).\n",
    " \n",
    "В данном наборе данных присутствуют следующие столбцы:\n",
    "* Temperature — температура звезды в Кельвинах;\n",
    "* L (Luminosity) — светимость звезды в солнечных светимостях;\n",
    "* R (Radius) — радиус звезды в радиусах солнца;\n",
    "* A_M (Absolute Magnitude) — абсолютная звёздная величина;\n",
    "* Color — цвет света звезды;\n",
    "* Spectral_Class — спектральный класс звезды;\n",
    "* Type — тип звезды. Является целевым признаком и уже закодирован:\n",
    "  - Красный карлик — 0;\n",
    "  - Коричневый карлик — 1;\n",
    "  - Белый карлик — 2;\n",
    "  - Звезда из главной последовательности — 3;\n",
    "  - Супергигант — 4;\n",
    "  - Гипергигант — 5.\n",
    "\n",
    "Так как данных очень много, перед тем как приступить к анализу, проведем обзор данных и, возможно, потребуется их предобработка, чтобы датасет стал более удобным и пригодным к проведению исследования.\n",
    "\n",
    "Таким образом исследование пройдет в 7 этапов:\n",
    "- загрузка данных,\n",
    "- проведение разведочного анализа данных и предобработка данных,\n",
    "- разделение на обучающую и тестовую выборку,\n",
    "- выбор метрики,\n",
    "- обучение модели,\n",
    "- подбор гиперпараметра,\n",
    "- сравнение значений метрики."
   ]
  },
  {
   "cell_type": "markdown",
   "id": "8b45903a",
   "metadata": {},
   "source": [
    "## Импортирование необходимых библиотек, подготовка окружения"
   ]
  },
  {
   "cell_type": "code",
   "execution_count": 28,
   "id": "dc46d2e6",
   "metadata": {},
   "outputs": [],
   "source": [
    "# Основные библиотеки.\n",
    "from IPython.core.display import display_markdown\n",
    "import numpy as np\n",
    "import pandas as pd\n",
    "\n",
    "# Визуализция.\n",
    "import matplotlib.pyplot as plt\n",
    "import seaborn as sns\n",
    "\n",
    "# Для матрицы взаимодействий.\n",
    "from scipy import sparse\n",
    "# Для разбития выборки.\n",
    "from sklearn.model_selection import train_test_split\n",
    "from sklearn.neighbors import KNeighborsClassifier\n",
    "from sklearn.preprocessing import StandardScaler\n",
    "from DataFrameOneHotEncoder import DataFrameOneHotEncoder\n",
    "from sklearn.pipeline import Pipeline\n",
    "from sklearn.compose import ColumnTransformer\n",
    "\n",
    "# Отрисовка статуса выполнения.\n",
    "from tqdm.notebook import tqdm\n",
    "\n",
    "# Типизация.\n",
    "from typing import List\n",
    "\n",
    "# Вывод данных.\n",
    "from IPython.display import display\n",
    "\n",
    "\n",
    "# Конфигурация визуализации.\n",
    "%matplotlib inline\n",
    "sns.set(style='ticks')"
   ]
  },
  {
   "cell_type": "markdown",
   "id": "affa78e3",
   "metadata": {},
   "source": [
    "## Загрузка данных\n",
    "### Считываем данные из .csv\n",
    "Загрузим файлы датасета в помощью библиотеки Pandas.\n",
    "\n",
    "Не смотря на то, что файлы имеют расширение txt они представляют собой данные\n",
    "в формате [CSV](https://ru.wikipedia.org/wiki/CSV). Часто в файлах такого\n",
    "формата в качестве разделителей используются символы \",\", \";\" или табуляция.\n",
    "Поэтому вызывая метод read_csv всегда стоит явно указывать разделитель данных\n",
    "с помощью параметра sep. Чтобы узнать какой разделитель используется в файле\n",
    "его рекомендуется предварительно посмотреть в любом текстовом редакторе."
   ]
  },
  {
   "cell_type": "code",
   "execution_count": 2,
   "id": "4d4d6fda",
   "metadata": {},
   "outputs": [],
   "source": [
    "stars = pd.read_csv('data/Stars.csv')"
   ]
  },
  {
   "cell_type": "markdown",
   "id": "03037aec",
   "metadata": {},
   "source": [
    "## Проведение разведочного анализа данных. Построение графиков, необходимых для понимания структуры данных. Анализ и предобработка данных."
   ]
  },
  {
   "cell_type": "markdown",
   "id": "8ed1d435",
   "metadata": {},
   "source": [
    "Размеры датасета: (строки, колонки)."
   ]
  },
  {
   "cell_type": "code",
   "execution_count": 3,
   "id": "7a94b198",
   "metadata": {},
   "outputs": [
    {
     "data": {
      "text/plain": [
       "(240, 7)"
      ]
     },
     "execution_count": 3,
     "metadata": {},
     "output_type": "execute_result"
    }
   ],
   "source": [
    "stars.shape"
   ]
  },
  {
   "cell_type": "markdown",
   "id": "4fd7ed23",
   "metadata": {},
   "source": [
    "Общий вид данных таблицы:"
   ]
  },
  {
   "cell_type": "code",
   "execution_count": 4,
   "id": "35987c34",
   "metadata": {},
   "outputs": [
    {
     "data": {
      "text/html": [
       "<div>\n",
       "<style scoped>\n",
       "    .dataframe tbody tr th:only-of-type {\n",
       "        vertical-align: middle;\n",
       "    }\n",
       "\n",
       "    .dataframe tbody tr th {\n",
       "        vertical-align: top;\n",
       "    }\n",
       "\n",
       "    .dataframe thead th {\n",
       "        text-align: right;\n",
       "    }\n",
       "</style>\n",
       "<table border=\"1\" class=\"dataframe\">\n",
       "  <thead>\n",
       "    <tr style=\"text-align: right;\">\n",
       "      <th></th>\n",
       "      <th>Temperature</th>\n",
       "      <th>L</th>\n",
       "      <th>R</th>\n",
       "      <th>A_M</th>\n",
       "      <th>Color</th>\n",
       "      <th>Spectral_Class</th>\n",
       "      <th>Type</th>\n",
       "    </tr>\n",
       "  </thead>\n",
       "  <tbody>\n",
       "    <tr>\n",
       "      <th>0</th>\n",
       "      <td>3068</td>\n",
       "      <td>0.002400</td>\n",
       "      <td>0.1700</td>\n",
       "      <td>16.12</td>\n",
       "      <td>Red</td>\n",
       "      <td>M</td>\n",
       "      <td>0</td>\n",
       "    </tr>\n",
       "    <tr>\n",
       "      <th>1</th>\n",
       "      <td>3042</td>\n",
       "      <td>0.000500</td>\n",
       "      <td>0.1542</td>\n",
       "      <td>16.60</td>\n",
       "      <td>Red</td>\n",
       "      <td>M</td>\n",
       "      <td>0</td>\n",
       "    </tr>\n",
       "    <tr>\n",
       "      <th>2</th>\n",
       "      <td>2600</td>\n",
       "      <td>0.000300</td>\n",
       "      <td>0.1020</td>\n",
       "      <td>18.70</td>\n",
       "      <td>Red</td>\n",
       "      <td>M</td>\n",
       "      <td>0</td>\n",
       "    </tr>\n",
       "    <tr>\n",
       "      <th>3</th>\n",
       "      <td>2800</td>\n",
       "      <td>0.000200</td>\n",
       "      <td>0.1600</td>\n",
       "      <td>16.65</td>\n",
       "      <td>Red</td>\n",
       "      <td>M</td>\n",
       "      <td>0</td>\n",
       "    </tr>\n",
       "    <tr>\n",
       "      <th>4</th>\n",
       "      <td>1939</td>\n",
       "      <td>0.000138</td>\n",
       "      <td>0.1030</td>\n",
       "      <td>20.06</td>\n",
       "      <td>Red</td>\n",
       "      <td>M</td>\n",
       "      <td>0</td>\n",
       "    </tr>\n",
       "  </tbody>\n",
       "</table>\n",
       "</div>"
      ],
      "text/plain": [
       "   Temperature         L       R    A_M Color Spectral_Class  Type\n",
       "0         3068  0.002400  0.1700  16.12   Red              M     0\n",
       "1         3042  0.000500  0.1542  16.60   Red              M     0\n",
       "2         2600  0.000300  0.1020  18.70   Red              M     0\n",
       "3         2800  0.000200  0.1600  16.65   Red              M     0\n",
       "4         1939  0.000138  0.1030  20.06   Red              M     0"
      ]
     },
     "execution_count": 4,
     "metadata": {},
     "output_type": "execute_result"
    }
   ],
   "source": [
    "stars.head()"
   ]
  },
  {
   "cell_type": "markdown",
   "id": "feab36bc",
   "metadata": {},
   "source": [
    "Список колонок:"
   ]
  },
  {
   "cell_type": "code",
   "execution_count": 5,
   "id": "87d58815",
   "metadata": {},
   "outputs": [
    {
     "data": {
      "text/plain": [
       "Index(['Temperature', 'L', 'R', 'A_M', 'Color', 'Spectral_Class', 'Type'], dtype='object')"
      ]
     },
     "execution_count": 5,
     "metadata": {},
     "output_type": "execute_result"
    }
   ],
   "source": [
    "stars.columns"
   ]
  },
  {
   "cell_type": "markdown",
   "id": "786a15ce",
   "metadata": {},
   "source": [
    "Список колонок с типами данных:"
   ]
  },
  {
   "cell_type": "code",
   "execution_count": 6,
   "id": "08ea7f18",
   "metadata": {},
   "outputs": [
    {
     "data": {
      "text/plain": [
       "Temperature         int64\n",
       "L                 float64\n",
       "R                 float64\n",
       "A_M               float64\n",
       "Color              object\n",
       "Spectral_Class     object\n",
       "Type                int64\n",
       "dtype: object"
      ]
     },
     "execution_count": 6,
     "metadata": {},
     "output_type": "execute_result"
    }
   ],
   "source": [
    "stars.dtypes"
   ]
  },
  {
   "cell_type": "markdown",
   "id": "c8a75d6b",
   "metadata": {},
   "source": [
    "Как видно, все данные приведены к адекватному типу данных."
   ]
  },
  {
   "cell_type": "markdown",
   "id": "31d6e42f",
   "metadata": {},
   "source": [
    "## Предобработка данных"
   ]
  },
  {
   "cell_type": "code",
   "execution_count": 7,
   "id": "7433a44e",
   "metadata": {},
   "outputs": [
    {
     "data": {
      "text/html": [
       "<div>\n",
       "<style scoped>\n",
       "    .dataframe tbody tr th:only-of-type {\n",
       "        vertical-align: middle;\n",
       "    }\n",
       "\n",
       "    .dataframe tbody tr th {\n",
       "        vertical-align: top;\n",
       "    }\n",
       "\n",
       "    .dataframe thead th {\n",
       "        text-align: right;\n",
       "    }\n",
       "</style>\n",
       "<table border=\"1\" class=\"dataframe\">\n",
       "  <thead>\n",
       "    <tr style=\"text-align: right;\">\n",
       "      <th></th>\n",
       "      <th>Type</th>\n",
       "    </tr>\n",
       "  </thead>\n",
       "  <tbody>\n",
       "    <tr>\n",
       "      <th>0</th>\n",
       "      <td>0</td>\n",
       "    </tr>\n",
       "    <tr>\n",
       "      <th>1</th>\n",
       "      <td>0</td>\n",
       "    </tr>\n",
       "    <tr>\n",
       "      <th>2</th>\n",
       "      <td>0</td>\n",
       "    </tr>\n",
       "    <tr>\n",
       "      <th>3</th>\n",
       "      <td>0</td>\n",
       "    </tr>\n",
       "    <tr>\n",
       "      <th>4</th>\n",
       "      <td>0</td>\n",
       "    </tr>\n",
       "    <tr>\n",
       "      <th>...</th>\n",
       "      <td>...</td>\n",
       "    </tr>\n",
       "    <tr>\n",
       "      <th>235</th>\n",
       "      <td>5</td>\n",
       "    </tr>\n",
       "    <tr>\n",
       "      <th>236</th>\n",
       "      <td>5</td>\n",
       "    </tr>\n",
       "    <tr>\n",
       "      <th>237</th>\n",
       "      <td>5</td>\n",
       "    </tr>\n",
       "    <tr>\n",
       "      <th>238</th>\n",
       "      <td>5</td>\n",
       "    </tr>\n",
       "    <tr>\n",
       "      <th>239</th>\n",
       "      <td>5</td>\n",
       "    </tr>\n",
       "  </tbody>\n",
       "</table>\n",
       "<p>240 rows × 1 columns</p>\n",
       "</div>"
      ],
      "text/plain": [
       "     Type\n",
       "0       0\n",
       "1       0\n",
       "2       0\n",
       "3       0\n",
       "4       0\n",
       "..    ...\n",
       "235     5\n",
       "236     5\n",
       "237     5\n",
       "238     5\n",
       "239     5\n",
       "\n",
       "[240 rows x 1 columns]"
      ]
     },
     "metadata": {},
     "output_type": "display_data"
    },
    {
     "data": {
      "text/html": [
       "<div>\n",
       "<style scoped>\n",
       "    .dataframe tbody tr th:only-of-type {\n",
       "        vertical-align: middle;\n",
       "    }\n",
       "\n",
       "    .dataframe tbody tr th {\n",
       "        vertical-align: top;\n",
       "    }\n",
       "\n",
       "    .dataframe thead th {\n",
       "        text-align: right;\n",
       "    }\n",
       "</style>\n",
       "<table border=\"1\" class=\"dataframe\">\n",
       "  <thead>\n",
       "    <tr style=\"text-align: right;\">\n",
       "      <th></th>\n",
       "      <th>Temperature</th>\n",
       "      <th>L</th>\n",
       "      <th>R</th>\n",
       "      <th>A_M</th>\n",
       "      <th>Color</th>\n",
       "      <th>Spectral_Class</th>\n",
       "    </tr>\n",
       "  </thead>\n",
       "  <tbody>\n",
       "    <tr>\n",
       "      <th>0</th>\n",
       "      <td>3068</td>\n",
       "      <td>0.002400</td>\n",
       "      <td>0.1700</td>\n",
       "      <td>16.12</td>\n",
       "      <td>Red</td>\n",
       "      <td>M</td>\n",
       "    </tr>\n",
       "    <tr>\n",
       "      <th>1</th>\n",
       "      <td>3042</td>\n",
       "      <td>0.000500</td>\n",
       "      <td>0.1542</td>\n",
       "      <td>16.60</td>\n",
       "      <td>Red</td>\n",
       "      <td>M</td>\n",
       "    </tr>\n",
       "    <tr>\n",
       "      <th>2</th>\n",
       "      <td>2600</td>\n",
       "      <td>0.000300</td>\n",
       "      <td>0.1020</td>\n",
       "      <td>18.70</td>\n",
       "      <td>Red</td>\n",
       "      <td>M</td>\n",
       "    </tr>\n",
       "    <tr>\n",
       "      <th>3</th>\n",
       "      <td>2800</td>\n",
       "      <td>0.000200</td>\n",
       "      <td>0.1600</td>\n",
       "      <td>16.65</td>\n",
       "      <td>Red</td>\n",
       "      <td>M</td>\n",
       "    </tr>\n",
       "    <tr>\n",
       "      <th>4</th>\n",
       "      <td>1939</td>\n",
       "      <td>0.000138</td>\n",
       "      <td>0.1030</td>\n",
       "      <td>20.06</td>\n",
       "      <td>Red</td>\n",
       "      <td>M</td>\n",
       "    </tr>\n",
       "    <tr>\n",
       "      <th>...</th>\n",
       "      <td>...</td>\n",
       "      <td>...</td>\n",
       "      <td>...</td>\n",
       "      <td>...</td>\n",
       "      <td>...</td>\n",
       "      <td>...</td>\n",
       "    </tr>\n",
       "    <tr>\n",
       "      <th>235</th>\n",
       "      <td>38940</td>\n",
       "      <td>374830.000000</td>\n",
       "      <td>1356.0000</td>\n",
       "      <td>-9.93</td>\n",
       "      <td>Blue</td>\n",
       "      <td>O</td>\n",
       "    </tr>\n",
       "    <tr>\n",
       "      <th>236</th>\n",
       "      <td>30839</td>\n",
       "      <td>834042.000000</td>\n",
       "      <td>1194.0000</td>\n",
       "      <td>-10.63</td>\n",
       "      <td>Blue</td>\n",
       "      <td>O</td>\n",
       "    </tr>\n",
       "    <tr>\n",
       "      <th>237</th>\n",
       "      <td>8829</td>\n",
       "      <td>537493.000000</td>\n",
       "      <td>1423.0000</td>\n",
       "      <td>-10.73</td>\n",
       "      <td>White</td>\n",
       "      <td>A</td>\n",
       "    </tr>\n",
       "    <tr>\n",
       "      <th>238</th>\n",
       "      <td>9235</td>\n",
       "      <td>404940.000000</td>\n",
       "      <td>1112.0000</td>\n",
       "      <td>-11.23</td>\n",
       "      <td>White</td>\n",
       "      <td>A</td>\n",
       "    </tr>\n",
       "    <tr>\n",
       "      <th>239</th>\n",
       "      <td>37882</td>\n",
       "      <td>294903.000000</td>\n",
       "      <td>1783.0000</td>\n",
       "      <td>-7.80</td>\n",
       "      <td>Blue</td>\n",
       "      <td>O</td>\n",
       "    </tr>\n",
       "  </tbody>\n",
       "</table>\n",
       "<p>240 rows × 6 columns</p>\n",
       "</div>"
      ],
      "text/plain": [
       "     Temperature              L          R    A_M  Color Spectral_Class\n",
       "0           3068       0.002400     0.1700  16.12    Red              M\n",
       "1           3042       0.000500     0.1542  16.60    Red              M\n",
       "2           2600       0.000300     0.1020  18.70    Red              M\n",
       "3           2800       0.000200     0.1600  16.65    Red              M\n",
       "4           1939       0.000138     0.1030  20.06    Red              M\n",
       "..           ...            ...        ...    ...    ...            ...\n",
       "235        38940  374830.000000  1356.0000  -9.93   Blue              O\n",
       "236        30839  834042.000000  1194.0000 -10.63   Blue              O\n",
       "237         8829  537493.000000  1423.0000 -10.73  White              A\n",
       "238         9235  404940.000000  1112.0000 -11.23  White              A\n",
       "239        37882  294903.000000  1783.0000  -7.80   Blue              O\n",
       "\n",
       "[240 rows x 6 columns]"
      ]
     },
     "metadata": {},
     "output_type": "display_data"
    }
   ],
   "source": [
    "# Извлекаем целевой признак.\n",
    "TARGET_COL_NAMES = ['Type']\n",
    "star_types = stars[TARGET_COL_NAMES]\n",
    "\n",
    "star_features = stars.drop(columns=TARGET_COL_NAMES)\n",
    "display(star_types, star_features)"
   ]
  },
  {
   "cell_type": "code",
   "execution_count": 8,
   "id": "b2fec54d",
   "metadata": {},
   "outputs": [],
   "source": [
    "# Перед использованием модели закодируем категориальные признаки с помощью\n",
    "# one-hot encoding, где каждое уникальное значение признака становится новым\n",
    "# признаком. Это позволяет избежать фиктивного отношения порядка."
   ]
  },
  {
   "cell_type": "code",
   "execution_count": 9,
   "id": "fa9c30d7",
   "metadata": {},
   "outputs": [],
   "source": [
    "categorical_pipeline = Pipeline([\n",
    "    ( 'one-hot', DataFrameOneHotEncoder(handle_unknown='ignore') )\n",
    "])\n",
    "CATEGORICAL_COL_NAMES = ['Color', 'Spectral_Class']\n",
    "# Returns tuple: (2d-array with columns?, shape).\n",
    "caterogical_star_features = categorical_pipeline.fit_transform(stars[CATEGORICAL_COL_NAMES]),\n",
    "caterogical_star_features = pd.DataFrame(caterogical_star_features[0])"
   ]
  },
  {
   "cell_type": "markdown",
   "id": "3291ca47",
   "metadata": {},
   "source": [
    "Нам также потребуется масштабировать данные для адекватной работы модели."
   ]
  },
  {
   "cell_type": "code",
   "execution_count": 10,
   "id": "9b228eaa",
   "metadata": {},
   "outputs": [
    {
     "data": {
      "text/html": [
       "<div>\n",
       "<style scoped>\n",
       "    .dataframe tbody tr th:only-of-type {\n",
       "        vertical-align: middle;\n",
       "    }\n",
       "\n",
       "    .dataframe tbody tr th {\n",
       "        vertical-align: top;\n",
       "    }\n",
       "\n",
       "    .dataframe thead th {\n",
       "        text-align: right;\n",
       "    }\n",
       "</style>\n",
       "<table border=\"1\" class=\"dataframe\">\n",
       "  <thead>\n",
       "    <tr style=\"text-align: right;\">\n",
       "      <th></th>\n",
       "      <th>Temperature</th>\n",
       "      <th>L</th>\n",
       "      <th>R</th>\n",
       "      <th>A_M</th>\n",
       "    </tr>\n",
       "  </thead>\n",
       "  <tbody>\n",
       "    <tr>\n",
       "      <th>0</th>\n",
       "      <td>3068</td>\n",
       "      <td>0.002400</td>\n",
       "      <td>0.1700</td>\n",
       "      <td>16.12</td>\n",
       "    </tr>\n",
       "    <tr>\n",
       "      <th>1</th>\n",
       "      <td>3042</td>\n",
       "      <td>0.000500</td>\n",
       "      <td>0.1542</td>\n",
       "      <td>16.60</td>\n",
       "    </tr>\n",
       "    <tr>\n",
       "      <th>2</th>\n",
       "      <td>2600</td>\n",
       "      <td>0.000300</td>\n",
       "      <td>0.1020</td>\n",
       "      <td>18.70</td>\n",
       "    </tr>\n",
       "    <tr>\n",
       "      <th>3</th>\n",
       "      <td>2800</td>\n",
       "      <td>0.000200</td>\n",
       "      <td>0.1600</td>\n",
       "      <td>16.65</td>\n",
       "    </tr>\n",
       "    <tr>\n",
       "      <th>4</th>\n",
       "      <td>1939</td>\n",
       "      <td>0.000138</td>\n",
       "      <td>0.1030</td>\n",
       "      <td>20.06</td>\n",
       "    </tr>\n",
       "    <tr>\n",
       "      <th>...</th>\n",
       "      <td>...</td>\n",
       "      <td>...</td>\n",
       "      <td>...</td>\n",
       "      <td>...</td>\n",
       "    </tr>\n",
       "    <tr>\n",
       "      <th>235</th>\n",
       "      <td>38940</td>\n",
       "      <td>374830.000000</td>\n",
       "      <td>1356.0000</td>\n",
       "      <td>-9.93</td>\n",
       "    </tr>\n",
       "    <tr>\n",
       "      <th>236</th>\n",
       "      <td>30839</td>\n",
       "      <td>834042.000000</td>\n",
       "      <td>1194.0000</td>\n",
       "      <td>-10.63</td>\n",
       "    </tr>\n",
       "    <tr>\n",
       "      <th>237</th>\n",
       "      <td>8829</td>\n",
       "      <td>537493.000000</td>\n",
       "      <td>1423.0000</td>\n",
       "      <td>-10.73</td>\n",
       "    </tr>\n",
       "    <tr>\n",
       "      <th>238</th>\n",
       "      <td>9235</td>\n",
       "      <td>404940.000000</td>\n",
       "      <td>1112.0000</td>\n",
       "      <td>-11.23</td>\n",
       "    </tr>\n",
       "    <tr>\n",
       "      <th>239</th>\n",
       "      <td>37882</td>\n",
       "      <td>294903.000000</td>\n",
       "      <td>1783.0000</td>\n",
       "      <td>-7.80</td>\n",
       "    </tr>\n",
       "  </tbody>\n",
       "</table>\n",
       "<p>240 rows × 4 columns</p>\n",
       "</div>"
      ],
      "text/plain": [
       "     Temperature              L          R    A_M\n",
       "0           3068       0.002400     0.1700  16.12\n",
       "1           3042       0.000500     0.1542  16.60\n",
       "2           2600       0.000300     0.1020  18.70\n",
       "3           2800       0.000200     0.1600  16.65\n",
       "4           1939       0.000138     0.1030  20.06\n",
       "..           ...            ...        ...    ...\n",
       "235        38940  374830.000000  1356.0000  -9.93\n",
       "236        30839  834042.000000  1194.0000 -10.63\n",
       "237         8829  537493.000000  1423.0000 -10.73\n",
       "238         9235  404940.000000  1112.0000 -11.23\n",
       "239        37882  294903.000000  1783.0000  -7.80\n",
       "\n",
       "[240 rows x 4 columns]"
      ]
     },
     "execution_count": 10,
     "metadata": {},
     "output_type": "execute_result"
    }
   ],
   "source": [
    "numerical_pipeline = Pipeline([\n",
    "    ( 'scaler', StandardScaler() )\n",
    "])\n",
    "\n",
    "\n",
    "numerical_star_features = star_features.drop(columns=CATEGORICAL_COL_NAMES)\n",
    "numerical_star_features_transformed = numerical_pipeline.fit_transform(numerical_star_features)\n",
    "# Массив переводим обратно в датафрейм.\n",
    "numerical_star_features_transformed = pd.DataFrame(numerical_star_features,\n",
    "                                                   columns=numerical_star_features.columns)\n",
    "numerical_star_features_transformed"
   ]
  },
  {
   "cell_type": "code",
   "execution_count": 11,
   "id": "b96cb892",
   "metadata": {},
   "outputs": [],
   "source": [
    "NUMERICAL_COL_NAMES = list(filter(lambda feature:\n",
    "        feature not in\n",
    "        CATEGORICAL_COL_NAMES,\n",
    "    star_features.columns))\n",
    "\n",
    "preprocessor = ColumnTransformer([\n",
    "    ( 'numerical', numerical_pipeline, NUMERICAL_COL_NAMES ),\n",
    "    ( 'categorical', categorical_pipeline, CATEGORICAL_COL_NAMES)\n",
    "])\n",
    "\n",
    "star_features_preprocessed = preprocessor.fit_transform(star_features)"
   ]
  },
  {
   "cell_type": "markdown",
   "id": "9497bba5",
   "metadata": {},
   "source": [
    "## С использованием метода train_test_split разделите выборку на обучающую и тестовую."
   ]
  },
  {
   "cell_type": "code",
   "execution_count": 12,
   "id": "fb3e7c44",
   "metadata": {},
   "outputs": [],
   "source": [
    "\n",
    "star_features_train: pd.DataFrame\n",
    "star_features_test: pd.DataFrame\n",
    "star_types_train: pd.Series\n",
    "star_types_test: pd.Series\n",
    "\n",
    "# Параметр random_state позволяет задавать базовое значение для генератора\n",
    "# случайных чисел. Это делает разбиение неслучайным. Если задается параметр\n",
    "# random_state то результаты разбиения будут одинаковыми при различных\n",
    "# запусках. На практике этот параметр удобно использовать для создания\n",
    "# \"устойчивых\" учебных примеров, которые выдают одинаковый результат при\n",
    "# различных запусках.\n",
    "RANDOM_STATE_SEED = 1\n",
    "\n",
    "star_features_train, star_features_test, star_types_train, star_types_test = train_test_split(\n",
    "    star_features, star_types, random_state=RANDOM_STATE_SEED)"
   ]
  },
  {
   "cell_type": "markdown",
   "id": "964104e1",
   "metadata": {},
   "source": [
    "Общий вид обучающей выборки:"
   ]
  },
  {
   "cell_type": "code",
   "execution_count": 51,
   "id": "010bd6b8",
   "metadata": {},
   "outputs": [
    {
     "data": {
      "text/html": [
       "<div>\n",
       "<style scoped>\n",
       "    .dataframe tbody tr th:only-of-type {\n",
       "        vertical-align: middle;\n",
       "    }\n",
       "\n",
       "    .dataframe tbody tr th {\n",
       "        vertical-align: top;\n",
       "    }\n",
       "\n",
       "    .dataframe thead th {\n",
       "        text-align: right;\n",
       "    }\n",
       "</style>\n",
       "<table border=\"1\" class=\"dataframe\">\n",
       "  <thead>\n",
       "    <tr style=\"text-align: right;\">\n",
       "      <th></th>\n",
       "      <th>Temperature</th>\n",
       "      <th>L</th>\n",
       "      <th>R</th>\n",
       "      <th>A_M</th>\n",
       "      <th>Color</th>\n",
       "      <th>Spectral_Class</th>\n",
       "    </tr>\n",
       "  </thead>\n",
       "  <tbody>\n",
       "    <tr>\n",
       "      <th>116</th>\n",
       "      <td>4015</td>\n",
       "      <td>282000.0</td>\n",
       "      <td>1534.0</td>\n",
       "      <td>-11.39</td>\n",
       "      <td>Red</td>\n",
       "      <td>K</td>\n",
       "    </tr>\n",
       "  </tbody>\n",
       "</table>\n",
       "</div>"
      ],
      "text/plain": [
       "     Temperature         L       R    A_M Color Spectral_Class\n",
       "116         4015  282000.0  1534.0 -11.39   Red              K"
      ]
     },
     "metadata": {},
     "output_type": "display_data"
    },
    {
     "data": {
      "text/markdown": [
       "- Кол-во рядов: 180\n",
       "- Кол-во колонок: 6"
      ]
     },
     "metadata": {},
     "output_type": "display_data"
    },
    {
     "data": {
      "text/html": [
       "<div>\n",
       "<style scoped>\n",
       "    .dataframe tbody tr th:only-of-type {\n",
       "        vertical-align: middle;\n",
       "    }\n",
       "\n",
       "    .dataframe tbody tr th {\n",
       "        vertical-align: top;\n",
       "    }\n",
       "\n",
       "    .dataframe thead th {\n",
       "        text-align: right;\n",
       "    }\n",
       "</style>\n",
       "<table border=\"1\" class=\"dataframe\">\n",
       "  <thead>\n",
       "    <tr style=\"text-align: right;\">\n",
       "      <th></th>\n",
       "      <th>Type</th>\n",
       "    </tr>\n",
       "  </thead>\n",
       "  <tbody>\n",
       "    <tr>\n",
       "      <th>116</th>\n",
       "      <td>5</td>\n",
       "    </tr>\n",
       "  </tbody>\n",
       "</table>\n",
       "</div>"
      ],
      "text/plain": [
       "     Type\n",
       "116     5"
      ]
     },
     "metadata": {},
     "output_type": "display_data"
    },
    {
     "data": {
      "text/markdown": [
       "- Кол-во рядов: 180\n",
       "- Кол-во колонок: 1"
      ]
     },
     "metadata": {},
     "output_type": "display_data"
    }
   ],
   "source": [
    "from typing import Union\n",
    "def display_df_shape(df: Union[pd.DataFrame, pd.Series]):\n",
    "    display_markdown(\n",
    "        f'- Кол-во рядов: {df.shape[0]}\\n- Кол-во колонок: {df.shape[1]}',\n",
    "        raw=True)\n",
    "\n",
    "\n",
    "def display_split_result(split: Union[pd.DataFrame, pd.Series]):\n",
    "    \"\"\"Display result of the train_test_split.\n",
    "\n",
    "    :param split: one of the splits to display.\n",
    "    :type split: pd.DataFrame, pd.Series\n",
    "    \"\"\"\n",
    "\n",
    "    display(split.head(1))\n",
    "    display_df_shape(split)\n",
    "    \n",
    "    \n",
    "display_split_result(star_features_train)\n",
    "display_split_result(star_types_train)"
   ]
  },
  {
   "cell_type": "markdown",
   "id": "bcb691ba",
   "metadata": {},
   "source": [
    "Общий вид тестовой выборки:"
   ]
  },
  {
   "cell_type": "code",
   "execution_count": 52,
   "id": "91314bcb",
   "metadata": {},
   "outputs": [
    {
     "data": {
      "text/html": [
       "<div>\n",
       "<style scoped>\n",
       "    .dataframe tbody tr th:only-of-type {\n",
       "        vertical-align: middle;\n",
       "    }\n",
       "\n",
       "    .dataframe tbody tr th {\n",
       "        vertical-align: top;\n",
       "    }\n",
       "\n",
       "    .dataframe thead th {\n",
       "        text-align: right;\n",
       "    }\n",
       "</style>\n",
       "<table border=\"1\" class=\"dataframe\">\n",
       "  <thead>\n",
       "    <tr style=\"text-align: right;\">\n",
       "      <th></th>\n",
       "      <th>Temperature</th>\n",
       "      <th>L</th>\n",
       "      <th>R</th>\n",
       "      <th>A_M</th>\n",
       "      <th>Color</th>\n",
       "      <th>Spectral_Class</th>\n",
       "    </tr>\n",
       "  </thead>\n",
       "  <tbody>\n",
       "    <tr>\n",
       "      <th>228</th>\n",
       "      <td>23095</td>\n",
       "      <td>347820.0</td>\n",
       "      <td>86.0</td>\n",
       "      <td>-5.905</td>\n",
       "      <td>Blue</td>\n",
       "      <td>O</td>\n",
       "    </tr>\n",
       "  </tbody>\n",
       "</table>\n",
       "</div>"
      ],
      "text/plain": [
       "     Temperature         L     R    A_M Color Spectral_Class\n",
       "228        23095  347820.0  86.0 -5.905  Blue              O"
      ]
     },
     "metadata": {},
     "output_type": "display_data"
    },
    {
     "data": {
      "text/markdown": [
       "- Кол-во рядов: 60\n",
       "- Кол-во колонок: 6"
      ]
     },
     "metadata": {},
     "output_type": "display_data"
    },
    {
     "data": {
      "text/html": [
       "<div>\n",
       "<style scoped>\n",
       "    .dataframe tbody tr th:only-of-type {\n",
       "        vertical-align: middle;\n",
       "    }\n",
       "\n",
       "    .dataframe tbody tr th {\n",
       "        vertical-align: top;\n",
       "    }\n",
       "\n",
       "    .dataframe thead th {\n",
       "        text-align: right;\n",
       "    }\n",
       "</style>\n",
       "<table border=\"1\" class=\"dataframe\">\n",
       "  <thead>\n",
       "    <tr style=\"text-align: right;\">\n",
       "      <th></th>\n",
       "      <th>Type</th>\n",
       "    </tr>\n",
       "  </thead>\n",
       "  <tbody>\n",
       "    <tr>\n",
       "      <th>228</th>\n",
       "      <td>4</td>\n",
       "    </tr>\n",
       "  </tbody>\n",
       "</table>\n",
       "</div>"
      ],
      "text/plain": [
       "     Type\n",
       "228     4"
      ]
     },
     "metadata": {},
     "output_type": "display_data"
    },
    {
     "data": {
      "text/markdown": [
       "- Кол-во рядов: 60\n",
       "- Кол-во колонок: 1"
      ]
     },
     "metadata": {},
     "output_type": "display_data"
    }
   ],
   "source": [
    "display_split_result(star_features_test)\n",
    "display_split_result(star_types_test)"
   ]
  },
  {
   "cell_type": "markdown",
   "id": "868ccb03",
   "metadata": {},
   "source": [
    "## Обучение и оценка модели ближайших соседей для произвольно заданного гиперпараметра\n",
    "В классической модели ближайших соседей гиперпараметром является количество\n",
    "соседей. Зададим его в константе N_NEIGHBORS."
   ]
  },
  {
   "cell_type": "code",
   "execution_count": 16,
   "id": "0a74b50a",
   "metadata": {},
   "outputs": [
    {
     "data": {
      "text/plain": [
       "0.95"
      ]
     },
     "execution_count": 16,
     "metadata": {},
     "output_type": "execute_result"
    }
   ],
   "source": [
    "from sklearn.metrics import accuracy_score\n",
    "\n",
    "N_NEIGHBORS = 12\n",
    "# В KNN Наиболее часто используется Евклидова метрика, поэтому для определения веса\n",
    "#   соседей выберем параметр 'distance'.\n",
    "knn_classifier = KNeighborsClassifier(n_neighbors=N_NEIGHBORS, weights='distance')\n",
    "\n",
    "knn_pipeline = Pipeline([\n",
    "    ( 'preprocess', preprocessor ),\n",
    "    ( 'model', knn_classifier ),\n",
    "])\n",
    "\n",
    "star_types_predicted = knn_pipeline.fit(star_features_train,\n",
    "                   star_types_train.values.ravel()).predict(star_features_test)\n",
    "# knn_pipeline.score(star_types_predicted, star_types_test.values.ravel())\n",
    "accuracy_score(star_types_predicted, star_types_test)\n",
    "\n",
    "# mean_absolute_error(star_types_test, star_types_predicted)\n",
    "# neg_mean_absolute_error(star_types_test, star_types_predicted)"
   ]
  },
  {
   "cell_type": "markdown",
   "id": "ecff08a9",
   "metadata": {},
   "source": [
    "## Произведите подбор гиперпараметра K с использованием GridSearchCV и/или RandomizedSearchCV и кросс-валидации, оцените качество оптимальной модели.\n",
    "Желательно использование нескольких стратегий кросс-валидации."
   ]
  },
  {
   "cell_type": "markdown",
   "id": "f5917989",
   "metadata": {},
   "source": [
    "## С помощью GridSearchCV"
   ]
  },
  {
   "cell_type": "code",
   "execution_count": 17,
   "id": "cffb9a06",
   "metadata": {},
   "outputs": [
    {
     "data": {
      "text/plain": [
       "['accuracy',\n",
       " 'adjusted_mutual_info_score',\n",
       " 'adjusted_rand_score',\n",
       " 'average_precision',\n",
       " 'balanced_accuracy',\n",
       " 'completeness_score',\n",
       " 'explained_variance',\n",
       " 'f1',\n",
       " 'f1_macro',\n",
       " 'f1_micro',\n",
       " 'f1_samples',\n",
       " 'f1_weighted',\n",
       " 'fowlkes_mallows_score',\n",
       " 'homogeneity_score',\n",
       " 'jaccard',\n",
       " 'jaccard_macro',\n",
       " 'jaccard_micro',\n",
       " 'jaccard_samples',\n",
       " 'jaccard_weighted',\n",
       " 'max_error',\n",
       " 'mutual_info_score',\n",
       " 'neg_brier_score',\n",
       " 'neg_log_loss',\n",
       " 'neg_mean_absolute_error',\n",
       " 'neg_mean_absolute_percentage_error',\n",
       " 'neg_mean_gamma_deviance',\n",
       " 'neg_mean_poisson_deviance',\n",
       " 'neg_mean_squared_error',\n",
       " 'neg_mean_squared_log_error',\n",
       " 'neg_median_absolute_error',\n",
       " 'neg_root_mean_squared_error',\n",
       " 'normalized_mutual_info_score',\n",
       " 'precision',\n",
       " 'precision_macro',\n",
       " 'precision_micro',\n",
       " 'precision_samples',\n",
       " 'precision_weighted',\n",
       " 'r2',\n",
       " 'rand_score',\n",
       " 'recall',\n",
       " 'recall_macro',\n",
       " 'recall_micro',\n",
       " 'recall_samples',\n",
       " 'recall_weighted',\n",
       " 'roc_auc',\n",
       " 'roc_auc_ovo',\n",
       " 'roc_auc_ovo_weighted',\n",
       " 'roc_auc_ovr',\n",
       " 'roc_auc_ovr_weighted',\n",
       " 'top_k_accuracy',\n",
       " 'v_measure_score']"
      ]
     },
     "metadata": {},
     "output_type": "display_data"
    },
    {
     "data": {
      "text/plain": [
       "0.9888888888888889"
      ]
     },
     "metadata": {},
     "output_type": "display_data"
    },
    {
     "data": {
      "text/plain": [
       "{'model__n_neighbors': 1}"
      ]
     },
     "metadata": {},
     "output_type": "display_data"
    },
    {
     "name": "stdout",
     "output_type": "stream",
     "text": [
      "CPU times: user 5.68 s, sys: 54.4 ms, total: 5.74 s\n",
      "Wall time: 5.68 s\n"
     ]
    }
   ],
   "source": [
    "%%time\n",
    "from sklearn.model_selection import GridSearchCV\n",
    "from sklearn.model_selection import KFold\n",
    "from sklearn.metrics import SCORERS\n",
    "\n",
    "params = { 'model__n_neighbors': np.arange(1, 30, 1) }\n",
    "\n",
    "display(sorted(SCORERS.keys()))\n",
    "grid_search = GridSearchCV(knn_pipeline, params, cv=KFold(n_splits=10),\n",
    "                           scoring='accuracy')\n",
    "\n",
    "grid_search.fit(star_features_train, star_types_train.values.ravel())\n",
    "display(grid_search.best_score_, grid_search.best_params_)"
   ]
  },
  {
   "cell_type": "markdown",
   "id": "5547f361",
   "metadata": {},
   "source": [
    "## С помощью RandomizedSearchCV"
   ]
  },
  {
   "cell_type": "code",
   "execution_count": 18,
   "id": "9dc7205d",
   "metadata": {},
   "outputs": [
    {
     "data": {
      "text/plain": [
       "0.9888888888888889"
      ]
     },
     "metadata": {},
     "output_type": "display_data"
    },
    {
     "data": {
      "text/plain": [
       "{'model__n_neighbors': 1}"
      ]
     },
     "metadata": {},
     "output_type": "display_data"
    },
    {
     "name": "stdout",
     "output_type": "stream",
     "text": [
      "CPU times: user 2.8 s, sys: 50.2 ms, total: 2.85 s\n",
      "Wall time: 2.82 s\n"
     ]
    }
   ],
   "source": [
    "%%time\n",
    "from sklearn.model_selection import RandomizedSearchCV\n",
    "\n",
    "randomized_search = RandomizedSearchCV(knn_pipeline, params,\n",
    "                                       cv=KFold(n_splits=10),\n",
    "                                       scoring='accuracy')\n",
    "\n",
    "randomized_search.fit(star_features_train, star_types_train.values.ravel())\n",
    "display(grid_search.best_score_, grid_search.best_params_)"
   ]
  },
  {
   "cell_type": "markdown",
   "id": "48cd1b5e",
   "metadata": {},
   "source": [
    "## Сравните метрики качества исходной и оптимальной моделей"
   ]
  },
  {
   "cell_type": "code",
   "execution_count": 152,
   "id": "697b33bd",
   "metadata": {},
   "outputs": [
    {
     "data": {
      "text/plain": [
       "<Figure size 288x72 with 0 Axes>"
      ]
     },
     "metadata": {},
     "output_type": "display_data"
    },
    {
     "data": {
      "image/png": "[encoded data removed]",
      "text/plain": [
       "<Figure size 1080x1080 with 1 Axes>"
      ]
     },
     "metadata": {},
     "output_type": "display_data"
    }
   ],
   "source": [
    "def plot_hyperparam_curve(models):\n",
    "    plt.title('Сравнение метрик моделей')\n",
    "    plt.xlabel('Метрика')\n",
    "    plt.ylabel('Значение')\n",
    "    delta = np.ones(3) * -0.2\n",
    "    bar_width = 0.2\n",
    "\n",
    "    for model_name, (metrics, metric_values) in models.items():\n",
    "        plt.bar(metrics + delta, metric_values, label=model_name,\n",
    "                width=bar_width)\n",
    "        delta += bar_width\n",
    "\n",
    "\n",
    "    ax = plt.figure().add_subplot()\n",
    "    ax.set_xticklabels( ('2011-Jan-4', '2011-Jan-5', '2011-Jan-6') )\n",
    "    plt.legend(loc=\"best\")\n",
    "    return plt\n",
    "\n",
    "\n",
    "from typing import Dict\n",
    "\n",
    "def grouped_bar_chart(ax, data: Dict[str, List[Union[int, np.nan]]],\n",
    "                      tick_labels, colors=None, total_width=0.8,\n",
    "             single_width=1):\n",
    "    \"\"\"Draws a bar plot with multiple bars per data point.\n",
    "\n",
    "    Parameters\n",
    "    ----------\n",
    "    ax: matplotlib.pyplot.axis\n",
    "        The axis we want to draw our plot on.\n",
    "\n",
    "    data: Dict[str, List[Union[int, np.nan]]]\n",
    "        A dictionary containing the data we want to plot. Keys are the names of the\n",
    "        data, the items is a list of the values.\n",
    "\n",
    "        Example:\n",
    "        data = {\n",
    "            \"x\":[ 1, 2,      3      ],\n",
    "            \"y\":[ 1, np.nan, 3      ],\n",
    "            \"z\":[ 1, 2,      np.nan ],\n",
    "        }\n",
    "\n",
    "    tick_labels: list\n",
    "        Labels which will be displayed under each group.\n",
    "\n",
    "        Example:\n",
    "        tick_labels = ['Accuracy', 'F1', 'Precision']\n",
    "\n",
    "        Note:\n",
    "        Length should be the same as number of groups.\n",
    "        \n",
    "\n",
    "    colors: array-like, optional\n",
    "        A list of colors which are used for the bars. If None, the colors\n",
    "        will be the standard matplotlib color cyle. (default: None)\n",
    "\n",
    "    total_width: float, optional, default: 0.8\n",
    "        The width of a bar group. 0.8 means that 80% of the x-axis is covered\n",
    "        by bars and 20% will be spaces between the bars.\n",
    "\n",
    "    single_width: float, optional, default: 1\n",
    "        The relative width of a single bar within a group. 1 means the bars\n",
    "        will touch eachother within a group, values less than 1 will make\n",
    "        these bars thinner.\n",
    "    \"\"\"\n",
    "\n",
    "    # Check if colors where provided, otherwhise use the default color cycle\n",
    "    if colors is None:\n",
    "        colors = plt.rcParams['axes.prop_cycle'].by_key()['color']\n",
    "\n",
    "\n",
    "    # Number of bars per group.\n",
    "    n_bars = len(data)\n",
    "\n",
    "    # The width of a single bar.\n",
    "    bar_width = total_width / n_bars\n",
    "\n",
    "    tick_locations = np.arange(len(tick_labels))\n",
    "\n",
    "    # Iterate over all data.\n",
    "    for i, (name, values) in enumerate(data.items()):\n",
    "        # The offset in x direction of that bar.\n",
    "        tick_offset = (i - n_bars / 2) * bar_width + bar_width / 2\n",
    "\n",
    "        # One bar plot consists of multiple rectangles.\n",
    "        rects = ax.bar(tick_locations + tick_offset, values, width=bar_width * single_width,\n",
    "                     color=colors[i % len(colors)],\n",
    "                     label=name)\n",
    "        # Add a handle to the last drawn bar, which we'll need for the legend.\n",
    "        # bars.append(bars[0])\n",
    "\n",
    "        ax.bar_label(rects)\n",
    "\n",
    "    ax.set_xticks(tick_locations, labels=tick_labels)\n",
    "\n",
    "\n",
    "def show_metrics_grouped_bar_chart(metrics_data: Dict[str, Dict[str, int]]):\n",
    "    \"\"\" Creates grouped bar chart for metrics.\n",
    "    :param metrics_data: a dictionary of metrics and their values for each\n",
    "        model.\n",
    "    :type metrics_data: Dict[str, Dict[str, int]]\n",
    "\n",
    "        Example:\n",
    "\n",
    "        metrics_data = {\n",
    "            'GridSearchCV': { \n",
    "                'Accuracy': 1,\n",
    "                'a': 2,\n",
    "                'b': 3,\n",
    "            },\n",
    "            'RandomSearchCV': {\n",
    "                'Roc': 2,\n",
    "                'a': 3,\n",
    "                'b': 4,\n",
    "            },\n",
    "        }\n",
    "\n",
    "    \"\"\"\n",
    "    plt.figure(figsize=(4,1))\n",
    "    # width = 15\n",
    "    # height = 15\n",
    "    # plt.rcParams['figure.figsize'] = width, height\n",
    "\n",
    "    fig, ax = plt.subplots()\n",
    "\n",
    "    # Extracting unique metric names from our data.\n",
    "    tick_labels = set()\n",
    "    for model_metrics in metrics_data.values():\n",
    "        tick_labels.update(list(model_metrics.keys()))\n",
    "\n",
    "    \"\"\" Converting our dictionary to a `fully filled` dictionary of lists:\n",
    "    data = {\n",
    "        'GridSearchCV': [ \n",
    "            1, # was 'Accuracy': 1,\n",
    "            2, # was 'a': 2,\n",
    "            3, # was 'b': 3,\n",
    "            None, # didn't have value for 'Roc';\n",
    "        ],\n",
    "        'RandomSearchCV': [\n",
    "            None, # didn't have value for 'Accuracy',\n",
    "            3, # was 'a': 3,\n",
    "            4, # was 'b': 4,\n",
    "            2, # was 'Roc': 2;\n",
    "        ],\n",
    "    }\n",
    "    \"\"\"\n",
    "    filled_metrics_data = {}\n",
    "\n",
    "    for model in metrics_data.keys():\n",
    "        filled_metrics_data[model] = []\n",
    "        for metric in tick_labels:\n",
    "            filled_metrics_data[model].append(metrics_data[model].get(metric)\n",
    "                                              or np.nan)\n",
    "            \n",
    "    \n",
    "    grouped_bar_chart(ax, filled_metrics_data, tick_labels=tick_labels,\n",
    "                      total_width=.8, single_width=.9)\n",
    "\n",
    "    plt.title('Сравнение метрик качества моделей')\n",
    "    plt.xlabel('Метрика')\n",
    "    plt.ylabel('Значение метрики')\n",
    "\n",
    "    ax.legend(title='Модели')\n",
    "    plt.show()\n",
    "\n",
    "\n",
    "metrics_data = {\n",
    "    'GridSearchCV': { \n",
    "        'Accuracy': 1,\n",
    "        'a': 2,\n",
    "        'b': 3,\n",
    "    },\n",
    "    'RandomSearchCV': {\n",
    "        'Roc': 2,\n",
    "        'a': 3,\n",
    "        'b': 4,\n",
    "    },\n",
    "}\n",
    "\n",
    "metrics_data['GridSearchCV']['Accuracy'] = 1\n",
    "\n",
    "show_metrics_grouped_bar_chart(metrics_data)"
   ]
  }
 ],
 "metadata": {
  "kernelspec": {
   "display_name": "Python 3 (ipykernel)",
   "language": "python",
   "name": "python3"
  },
  "language_info": {
   "codemirror_mode": {
    "name": "ipython",
    "version": 3
   },
   "file_extension": ".py",
   "mimetype": "text/x-python",
   "name": "python",
   "nbconvert_exporter": "python",
   "pygments_lexer": "ipython3",
   "version": "3.8.10"
  }
 },
 "nbformat": 4,
 "nbformat_minor": 5
}
