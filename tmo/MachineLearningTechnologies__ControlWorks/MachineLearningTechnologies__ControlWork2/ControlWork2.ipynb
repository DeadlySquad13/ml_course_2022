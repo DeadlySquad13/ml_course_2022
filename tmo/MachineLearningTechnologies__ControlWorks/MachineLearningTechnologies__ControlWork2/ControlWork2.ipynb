{
 "cells": [
  {
   "cell_type": "markdown",
   "id": "fbd35327",
   "metadata": {},
   "source": [
    "# Рубежный контроль №2. Тема: Методы построения моделей машинного обучения."
   ]
  },
  {
   "cell_type": "markdown",
   "id": "d4671bc9",
   "metadata": {},
   "source": [
    "Выполнил:\n",
    "\n",
    "студент группы РТ5-61Б Пакало Александр Сергеевич"
   ]
  },
  {
   "cell_type": "markdown",
   "id": "380325cf",
   "metadata": {},
   "source": [
    "В качестве [датасета](https://www.kaggle.com/datasets/rubenssjr/brasilian-houses-to-rent?select=houses_to_rent_v2.csv) набор данных домов для аренды в разных городах Бразилии. Стоит задача предсказать финальную стоимость аренды, т.е. решается задача регрессии."
   ]
  },
  {
   "cell_type": "markdown",
   "id": "934982a9",
   "metadata": {},
   "source": [
    "## Импорт библиотек"
   ]
  },
  {
   "cell_type": "markdown",
   "id": "56fd6df6",
   "metadata": {},
   "source": [
    "Импортируем необходимые для выполнения работы библиотеки"
   ]
  },
  {
   "cell_type": "code",
   "execution_count": 4,
   "id": "9e1f88b2",
   "metadata": {},
   "outputs": [],
   "source": [
    "import pandas as pd\n",
    "import numpy as np\n",
    "from matplotlib import pyplot as plt\n",
    "import seaborn as sns\n",
    "from sklearn.model_selection import train_test_split\n",
    "from sklearn.tree import DecisionTreeRegressor\n",
    "from xgboost import XGBRegressor\n",
    "from sklearn.model_selection import RepeatedKFold\n",
    "from sklearn.model_selection import cross_val_score\n",
    "from sklearn.metrics import mean_absolute_error, mean_squared_error, median_absolute_error, r2_score\n",
    "from sklearn.model_selection import GridSearchCV, RandomizedSearchCV\n",
    "pd.options.display.float_format = '{:.0f}'.format"
   ]
  },
  {
   "cell_type": "markdown",
   "id": "b9e17b22",
   "metadata": {},
   "source": [
    "## Загрузка данных"
   ]
  },
  {
   "cell_type": "markdown",
   "id": "46e108a1",
   "metadata": {},
   "source": [
    "Прочитаем имеющийся набора данных в переменную"
   ]
  },
  {
   "cell_type": "code",
   "execution_count": 5,
   "id": "9c46168f",
   "metadata": {},
   "outputs": [],
   "source": [
    "data = pd.read_csv('data/houses_to_rent_v2.csv')"
   ]
  },
  {
   "cell_type": "markdown",
   "id": "29da4097",
   "metadata": {},
   "source": [
    "Выведем основую информацию и статистические показатели по датасету"
   ]
  },
  {
   "cell_type": "code",
   "execution_count": 6,
   "id": "52c8d107",
   "metadata": {},
   "outputs": [
    {
     "data": {
      "text/html": [
       "<div>\n",
       "<style scoped>\n",
       "    .dataframe tbody tr th:only-of-type {\n",
       "        vertical-align: middle;\n",
       "    }\n",
       "\n",
       "    .dataframe tbody tr th {\n",
       "        vertical-align: top;\n",
       "    }\n",
       "\n",
       "    .dataframe thead th {\n",
       "        text-align: right;\n",
       "    }\n",
       "</style>\n",
       "<table border=\"1\" class=\"dataframe\">\n",
       "  <thead>\n",
       "    <tr style=\"text-align: right;\">\n",
       "      <th></th>\n",
       "      <th>city</th>\n",
       "      <th>area</th>\n",
       "      <th>rooms</th>\n",
       "      <th>bathroom</th>\n",
       "      <th>parking spaces</th>\n",
       "      <th>floor</th>\n",
       "      <th>animal</th>\n",
       "      <th>furniture</th>\n",
       "      <th>hoa (R$)</th>\n",
       "      <th>rent amount (R$)</th>\n",
       "      <th>property tax (R$)</th>\n",
       "      <th>fire insurance (R$)</th>\n",
       "      <th>total (R$)</th>\n",
       "    </tr>\n",
       "  </thead>\n",
       "  <tbody>\n",
       "    <tr>\n",
       "      <th>0</th>\n",
       "      <td>São Paulo</td>\n",
       "      <td>70</td>\n",
       "      <td>2</td>\n",
       "      <td>1</td>\n",
       "      <td>1</td>\n",
       "      <td>7</td>\n",
       "      <td>acept</td>\n",
       "      <td>furnished</td>\n",
       "      <td>2065</td>\n",
       "      <td>3300</td>\n",
       "      <td>211</td>\n",
       "      <td>42</td>\n",
       "      <td>5618</td>\n",
       "    </tr>\n",
       "    <tr>\n",
       "      <th>1</th>\n",
       "      <td>São Paulo</td>\n",
       "      <td>320</td>\n",
       "      <td>4</td>\n",
       "      <td>4</td>\n",
       "      <td>0</td>\n",
       "      <td>20</td>\n",
       "      <td>acept</td>\n",
       "      <td>not furnished</td>\n",
       "      <td>1200</td>\n",
       "      <td>4960</td>\n",
       "      <td>1750</td>\n",
       "      <td>63</td>\n",
       "      <td>7973</td>\n",
       "    </tr>\n",
       "    <tr>\n",
       "      <th>2</th>\n",
       "      <td>Porto Alegre</td>\n",
       "      <td>80</td>\n",
       "      <td>1</td>\n",
       "      <td>1</td>\n",
       "      <td>1</td>\n",
       "      <td>6</td>\n",
       "      <td>acept</td>\n",
       "      <td>not furnished</td>\n",
       "      <td>1000</td>\n",
       "      <td>2800</td>\n",
       "      <td>0</td>\n",
       "      <td>41</td>\n",
       "      <td>3841</td>\n",
       "    </tr>\n",
       "    <tr>\n",
       "      <th>3</th>\n",
       "      <td>Porto Alegre</td>\n",
       "      <td>51</td>\n",
       "      <td>2</td>\n",
       "      <td>1</td>\n",
       "      <td>0</td>\n",
       "      <td>2</td>\n",
       "      <td>acept</td>\n",
       "      <td>not furnished</td>\n",
       "      <td>270</td>\n",
       "      <td>1112</td>\n",
       "      <td>22</td>\n",
       "      <td>17</td>\n",
       "      <td>1421</td>\n",
       "    </tr>\n",
       "    <tr>\n",
       "      <th>4</th>\n",
       "      <td>São Paulo</td>\n",
       "      <td>25</td>\n",
       "      <td>1</td>\n",
       "      <td>1</td>\n",
       "      <td>0</td>\n",
       "      <td>1</td>\n",
       "      <td>not acept</td>\n",
       "      <td>not furnished</td>\n",
       "      <td>0</td>\n",
       "      <td>800</td>\n",
       "      <td>25</td>\n",
       "      <td>11</td>\n",
       "      <td>836</td>\n",
       "    </tr>\n",
       "  </tbody>\n",
       "</table>\n",
       "</div>"
      ],
      "text/plain": [
       "           city  area  rooms  bathroom  parking spaces floor     animal  \\\n",
       "0     São Paulo    70      2         1               1     7      acept   \n",
       "1     São Paulo   320      4         4               0    20      acept   \n",
       "2  Porto Alegre    80      1         1               1     6      acept   \n",
       "3  Porto Alegre    51      2         1               0     2      acept   \n",
       "4     São Paulo    25      1         1               0     1  not acept   \n",
       "\n",
       "       furniture  hoa (R$)  rent amount (R$)  property tax (R$)  \\\n",
       "0      furnished      2065              3300                211   \n",
       "1  not furnished      1200              4960               1750   \n",
       "2  not furnished      1000              2800                  0   \n",
       "3  not furnished       270              1112                 22   \n",
       "4  not furnished         0               800                 25   \n",
       "\n",
       "   fire insurance (R$)  total (R$)  \n",
       "0                   42        5618  \n",
       "1                   63        7973  \n",
       "2                   41        3841  \n",
       "3                   17        1421  \n",
       "4                   11         836  "
      ]
     },
     "execution_count": 6,
     "metadata": {},
     "output_type": "execute_result"
    }
   ],
   "source": [
    "data.head()"
   ]
  },
  {
   "cell_type": "code",
   "execution_count": 7,
   "id": "30ebd402",
   "metadata": {},
   "outputs": [
    {
     "name": "stdout",
     "output_type": "stream",
     "text": [
      "<class 'pandas.core.frame.DataFrame'>\n",
      "RangeIndex: 10692 entries, 0 to 10691\n",
      "Data columns (total 13 columns):\n",
      " #   Column               Non-Null Count  Dtype \n",
      "---  ------               --------------  ----- \n",
      " 0   city                 10692 non-null  object\n",
      " 1   area                 10692 non-null  int64 \n",
      " 2   rooms                10692 non-null  int64 \n",
      " 3   bathroom             10692 non-null  int64 \n",
      " 4   parking spaces       10692 non-null  int64 \n",
      " 5   floor                10692 non-null  object\n",
      " 6   animal               10692 non-null  object\n",
      " 7   furniture            10692 non-null  object\n",
      " 8   hoa (R$)             10692 non-null  int64 \n",
      " 9   rent amount (R$)     10692 non-null  int64 \n",
      " 10  property tax (R$)    10692 non-null  int64 \n",
      " 11  fire insurance (R$)  10692 non-null  int64 \n",
      " 12  total (R$)           10692 non-null  int64 \n",
      "dtypes: int64(9), object(4)\n",
      "memory usage: 1.1+ MB\n"
     ]
    }
   ],
   "source": [
    "data.info()"
   ]
  },
  {
   "cell_type": "code",
   "execution_count": 8,
   "id": "0c3b6770",
   "metadata": {},
   "outputs": [
    {
     "data": {
      "text/html": [
       "<div>\n",
       "<style scoped>\n",
       "    .dataframe tbody tr th:only-of-type {\n",
       "        vertical-align: middle;\n",
       "    }\n",
       "\n",
       "    .dataframe tbody tr th {\n",
       "        vertical-align: top;\n",
       "    }\n",
       "\n",
       "    .dataframe thead th {\n",
       "        text-align: right;\n",
       "    }\n",
       "</style>\n",
       "<table border=\"1\" class=\"dataframe\">\n",
       "  <thead>\n",
       "    <tr style=\"text-align: right;\">\n",
       "      <th></th>\n",
       "      <th>area</th>\n",
       "      <th>rooms</th>\n",
       "      <th>bathroom</th>\n",
       "      <th>parking spaces</th>\n",
       "      <th>hoa (R$)</th>\n",
       "      <th>rent amount (R$)</th>\n",
       "      <th>property tax (R$)</th>\n",
       "      <th>fire insurance (R$)</th>\n",
       "      <th>total (R$)</th>\n",
       "    </tr>\n",
       "  </thead>\n",
       "  <tbody>\n",
       "    <tr>\n",
       "      <th>count</th>\n",
       "      <td>10692</td>\n",
       "      <td>10692</td>\n",
       "      <td>10692</td>\n",
       "      <td>10692</td>\n",
       "      <td>10692</td>\n",
       "      <td>10692</td>\n",
       "      <td>10692</td>\n",
       "      <td>10692</td>\n",
       "      <td>10692</td>\n",
       "    </tr>\n",
       "    <tr>\n",
       "      <th>mean</th>\n",
       "      <td>149</td>\n",
       "      <td>3</td>\n",
       "      <td>2</td>\n",
       "      <td>2</td>\n",
       "      <td>1174</td>\n",
       "      <td>3896</td>\n",
       "      <td>367</td>\n",
       "      <td>53</td>\n",
       "      <td>5490</td>\n",
       "    </tr>\n",
       "    <tr>\n",
       "      <th>std</th>\n",
       "      <td>537</td>\n",
       "      <td>1</td>\n",
       "      <td>1</td>\n",
       "      <td>2</td>\n",
       "      <td>15592</td>\n",
       "      <td>3409</td>\n",
       "      <td>3108</td>\n",
       "      <td>48</td>\n",
       "      <td>16485</td>\n",
       "    </tr>\n",
       "    <tr>\n",
       "      <th>min</th>\n",
       "      <td>11</td>\n",
       "      <td>1</td>\n",
       "      <td>1</td>\n",
       "      <td>0</td>\n",
       "      <td>0</td>\n",
       "      <td>450</td>\n",
       "      <td>0</td>\n",
       "      <td>3</td>\n",
       "      <td>499</td>\n",
       "    </tr>\n",
       "    <tr>\n",
       "      <th>25%</th>\n",
       "      <td>56</td>\n",
       "      <td>2</td>\n",
       "      <td>1</td>\n",
       "      <td>0</td>\n",
       "      <td>170</td>\n",
       "      <td>1530</td>\n",
       "      <td>38</td>\n",
       "      <td>21</td>\n",
       "      <td>2062</td>\n",
       "    </tr>\n",
       "    <tr>\n",
       "      <th>50%</th>\n",
       "      <td>90</td>\n",
       "      <td>2</td>\n",
       "      <td>2</td>\n",
       "      <td>1</td>\n",
       "      <td>560</td>\n",
       "      <td>2661</td>\n",
       "      <td>125</td>\n",
       "      <td>36</td>\n",
       "      <td>3582</td>\n",
       "    </tr>\n",
       "    <tr>\n",
       "      <th>75%</th>\n",
       "      <td>182</td>\n",
       "      <td>3</td>\n",
       "      <td>3</td>\n",
       "      <td>2</td>\n",
       "      <td>1238</td>\n",
       "      <td>5000</td>\n",
       "      <td>375</td>\n",
       "      <td>68</td>\n",
       "      <td>6768</td>\n",
       "    </tr>\n",
       "    <tr>\n",
       "      <th>max</th>\n",
       "      <td>46335</td>\n",
       "      <td>13</td>\n",
       "      <td>10</td>\n",
       "      <td>12</td>\n",
       "      <td>1117000</td>\n",
       "      <td>45000</td>\n",
       "      <td>313700</td>\n",
       "      <td>677</td>\n",
       "      <td>1120000</td>\n",
       "    </tr>\n",
       "  </tbody>\n",
       "</table>\n",
       "</div>"
      ],
      "text/plain": [
       "       area  rooms  bathroom  parking spaces  hoa (R$)  rent amount (R$)  \\\n",
       "count 10692  10692     10692           10692     10692             10692   \n",
       "mean    149      3         2               2      1174              3896   \n",
       "std     537      1         1               2     15592              3409   \n",
       "min      11      1         1               0         0               450   \n",
       "25%      56      2         1               0       170              1530   \n",
       "50%      90      2         2               1       560              2661   \n",
       "75%     182      3         3               2      1238              5000   \n",
       "max   46335     13        10              12   1117000             45000   \n",
       "\n",
       "       property tax (R$)  fire insurance (R$)  total (R$)  \n",
       "count              10692                10692       10692  \n",
       "mean                 367                   53        5490  \n",
       "std                 3108                   48       16485  \n",
       "min                    0                    3         499  \n",
       "25%                   38                   21        2062  \n",
       "50%                  125                   36        3582  \n",
       "75%                  375                   68        6768  \n",
       "max               313700                  677     1120000  "
      ]
     },
     "execution_count": 8,
     "metadata": {},
     "output_type": "execute_result"
    }
   ],
   "source": [
    "data.describe()"
   ]
  },
  {
   "cell_type": "code",
   "execution_count": 9,
   "id": "359b9fec",
   "metadata": {},
   "outputs": [
    {
     "data": {
      "text/plain": [
       "<AxesSubplot:>"
      ]
     },
     "execution_count": 9,
     "metadata": {},
     "output_type": "execute_result"
    },
    {
     "data": {
      "image/png": "[encoded data removed]",
      "text/plain": [
       "<Figure size 432x288 with 2 Axes>"
      ]
     },
     "metadata": {
      "needs_background": "light"
     },
     "output_type": "display_data"
    }
   ],
   "source": [
    "sns.heatmap(data.corr(), annot=True, fmt='.1f')"
   ]
  },
  {
   "cell_type": "markdown",
   "id": "f16cb81b",
   "metadata": {},
   "source": [
    "Согласно полученной документации мы имеем датасет из 13 колонок и 10692 строк:\n",
    "\n",
    "**Признаки**\n",
    "- `city` - город, в котором расположена квартира\n",
    "- `area` - площадь квартиры\n",
    "- `rooms` - количество комнат в квартире\n",
    "- `bathroom` - количество ванных комнат\n",
    "- `parking spaces` - количество парковочных мест\n",
    "- `floor` - этаж, на котором расположена квартира\n",
    "- `animal` - разрешение на проживание с домашним животным\n",
    "- `furniture` - мебель\n",
    "- `hoa` - налог на товарищество собственников жилья\n",
    "- `rent amount` - размер арендной платы\n",
    "- `property tax` - налог на имущество\n",
    "- `fire insurance` - страховка от пожара\n",
    "\n",
    "**Целевая переменная**\n",
    "- `total` - суммарная стоимость аренды\n",
    "\n",
    "В данных остутствуют явные пропуски, однако о качестве данных все же известно мало, поэтому потребуется предобработка."
   ]
  },
  {
   "cell_type": "markdown",
   "id": "cc246bda",
   "metadata": {},
   "source": [
    "## Предобработка данных"
   ]
  },
  {
   "cell_type": "markdown",
   "id": "99cc7017",
   "metadata": {},
   "source": [
    "### Переименование столбцов"
   ]
  },
  {
   "cell_type": "code",
   "execution_count": 10,
   "id": "e5013db7",
   "metadata": {},
   "outputs": [
    {
     "data": {
      "text/plain": [
       "Index(['city', 'area', 'rooms', 'bathroom', 'parking spaces', 'floor',\n",
       "       'animal', 'furniture', 'hoa (R$)', 'rent amount (R$)',\n",
       "       'property tax (R$)', 'fire insurance (R$)', 'total (R$)'],\n",
       "      dtype='object')"
      ]
     },
     "execution_count": 10,
     "metadata": {},
     "output_type": "execute_result"
    }
   ],
   "source": [
    "data.columns"
   ]
  },
  {
   "cell_type": "code",
   "execution_count": 11,
   "id": "388f88c8",
   "metadata": {},
   "outputs": [],
   "source": [
    "data = data.rename(columns={'hoa (R$)':'hoa',\n",
    "                            'rent amount (R$)':'rent_amount',\n",
    "                            'property tax (R$)':'property_tax',\n",
    "                            'fire insurance (R$)' : 'fire_insurance',\n",
    "                            'total (R$)' : 'total',\n",
    "                            'parking spaces' : 'parking_spaces'})"
   ]
  },
  {
   "cell_type": "markdown",
   "id": "60b9235f",
   "metadata": {},
   "source": [
    "### Обработка пропусков"
   ]
  },
  {
   "cell_type": "markdown",
   "id": "469d6a5e",
   "metadata": {},
   "source": [
    "В блоке информации по всему датасету можно заметить, что параметр floor имеет тип данных **object**, а по своему смыслу хранит целочисленные значения, видимо внутри есть пропуски, заполненные \"заглушками\", которые не позволяют определеить верный тип хранимых данных."
   ]
  },
  {
   "cell_type": "code",
   "execution_count": 12,
   "id": "3695856d",
   "metadata": {},
   "outputs": [
    {
     "data": {
      "text/plain": [
       "-      2461\n",
       "1      1081\n",
       "2       985\n",
       "3       931\n",
       "4       748\n",
       "5       600\n",
       "6       539\n",
       "7       497\n",
       "8       490\n",
       "9       369\n",
       "10      357\n",
       "11      303\n",
       "12      257\n",
       "13      200\n",
       "14      170\n",
       "15      147\n",
       "16      109\n",
       "17       96\n",
       "18       75\n",
       "19       53\n",
       "20       44\n",
       "21       42\n",
       "25       25\n",
       "23       25\n",
       "22       24\n",
       "26       20\n",
       "24       19\n",
       "27        8\n",
       "28        6\n",
       "29        5\n",
       "32        2\n",
       "35        1\n",
       "46        1\n",
       "301       1\n",
       "51        1\n",
       "Name: floor, dtype: int64"
      ]
     },
     "execution_count": 12,
     "metadata": {},
     "output_type": "execute_result"
    }
   ],
   "source": [
    "data['floor'].value_counts()"
   ]
  },
  {
   "cell_type": "markdown",
   "id": "cf3560b3",
   "metadata": {},
   "source": [
    "Так и есть, значений, заполненных \"заглушкой\" в виде **-** почти 25% датасета. Видимо при сборе данных некоторые пользователи не указали этаж и на этом месте появилась заглушка, или же опрос проводили несколько раз, и поле с номером этажа было не всегда."
   ]
  },
  {
   "cell_type": "code",
   "execution_count": 13,
   "id": "3dc39f40",
   "metadata": {},
   "outputs": [
    {
     "data": {
      "text/plain": [
       "<AxesSubplot:>"
      ]
     },
     "execution_count": 13,
     "metadata": {},
     "output_type": "execute_result"
    },
    {
     "data": {
      "image/png": "[encoded data removed]",
      "text/plain": [
       "<Figure size 432x288 with 1 Axes>"
      ]
     },
     "metadata": {
      "needs_background": "light"
     },
     "output_type": "display_data"
    }
   ],
   "source": [
    "data['floor'].value_counts().plot(kind='bar')"
   ]
  },
  {
   "cell_type": "code",
   "execution_count": 14,
   "id": "a0b16bbd",
   "metadata": {},
   "outputs": [
    {
     "data": {
      "text/plain": [
       "<AxesSubplot:>"
      ]
     },
     "execution_count": 14,
     "metadata": {},
     "output_type": "execute_result"
    },
    {
     "data": {
      "image/png": "[encoded data removed]",
      "text/plain": [
       "<Figure size 432x288 with 1 Axes>"
      ]
     },
     "metadata": {
      "needs_background": "light"
     },
     "output_type": "display_data"
    }
   ],
   "source": [
    "data.query('floor != \"-\"')['floor'].value_counts().plot(kind='bar')"
   ]
  },
  {
   "cell_type": "code",
   "execution_count": 15,
   "id": "0469d6e9",
   "metadata": {},
   "outputs": [
    {
     "data": {
      "text/plain": [
       "5.0"
      ]
     },
     "execution_count": 15,
     "metadata": {},
     "output_type": "execute_result"
    }
   ],
   "source": [
    "data.query('floor != \"-\"')['floor'].median()"
   ]
  },
  {
   "cell_type": "markdown",
   "id": "31ea4a02",
   "metadata": {},
   "source": [
    "Заполнять медианным и средним нельзя, это сильно исказит исходное распределение, поэтому уберем эти записи из нашего датасета, чтобы не повредить качество обработанных данных."
   ]
  },
  {
   "cell_type": "code",
   "execution_count": 16,
   "id": "963ba5c1",
   "metadata": {},
   "outputs": [],
   "source": [
    "data = data.query('floor != \"-\"').reset_index(drop=True)\n",
    "data = data.astype({'floor':'int32'})"
   ]
  },
  {
   "cell_type": "code",
   "execution_count": 17,
   "id": "d945c9c1",
   "metadata": {
    "scrolled": true
   },
   "outputs": [
    {
     "name": "stdout",
     "output_type": "stream",
     "text": [
      "<class 'pandas.core.frame.DataFrame'>\n",
      "RangeIndex: 8231 entries, 0 to 8230\n",
      "Data columns (total 13 columns):\n",
      " #   Column          Non-Null Count  Dtype \n",
      "---  ------          --------------  ----- \n",
      " 0   city            8231 non-null   object\n",
      " 1   area            8231 non-null   int64 \n",
      " 2   rooms           8231 non-null   int64 \n",
      " 3   bathroom        8231 non-null   int64 \n",
      " 4   parking_spaces  8231 non-null   int64 \n",
      " 5   floor           8231 non-null   int32 \n",
      " 6   animal          8231 non-null   object\n",
      " 7   furniture       8231 non-null   object\n",
      " 8   hoa             8231 non-null   int64 \n",
      " 9   rent_amount     8231 non-null   int64 \n",
      " 10  property_tax    8231 non-null   int64 \n",
      " 11  fire_insurance  8231 non-null   int64 \n",
      " 12  total           8231 non-null   int64 \n",
      "dtypes: int32(1), int64(9), object(3)\n",
      "memory usage: 803.9+ KB\n"
     ]
    }
   ],
   "source": [
    "data.info()"
   ]
  },
  {
   "cell_type": "markdown",
   "id": "deb3f52c",
   "metadata": {},
   "source": [
    "### Кодирование категориальных признаков"
   ]
  },
  {
   "cell_type": "markdown",
   "id": "cb74cdc5",
   "metadata": {},
   "source": [
    "Закодируем категориальные признаки с помощью техники One-Hot Encoding"
   ]
  },
  {
   "cell_type": "code",
   "execution_count": 18,
   "id": "f0c4203a",
   "metadata": {},
   "outputs": [],
   "source": [
    "data_ohe = pd.get_dummies(data, columns=['city', 'animal', 'furniture'], drop_first=1)"
   ]
  },
  {
   "cell_type": "code",
   "execution_count": 19,
   "id": "2d07ad46",
   "metadata": {},
   "outputs": [
    {
     "data": {
      "text/html": [
       "<div>\n",
       "<style scoped>\n",
       "    .dataframe tbody tr th:only-of-type {\n",
       "        vertical-align: middle;\n",
       "    }\n",
       "\n",
       "    .dataframe tbody tr th {\n",
       "        vertical-align: top;\n",
       "    }\n",
       "\n",
       "    .dataframe thead th {\n",
       "        text-align: right;\n",
       "    }\n",
       "</style>\n",
       "<table border=\"1\" class=\"dataframe\">\n",
       "  <thead>\n",
       "    <tr style=\"text-align: right;\">\n",
       "      <th></th>\n",
       "      <th>area</th>\n",
       "      <th>rooms</th>\n",
       "      <th>bathroom</th>\n",
       "      <th>parking_spaces</th>\n",
       "      <th>floor</th>\n",
       "      <th>hoa</th>\n",
       "      <th>rent_amount</th>\n",
       "      <th>property_tax</th>\n",
       "      <th>fire_insurance</th>\n",
       "      <th>total</th>\n",
       "      <th>city_Campinas</th>\n",
       "      <th>city_Porto Alegre</th>\n",
       "      <th>city_Rio de Janeiro</th>\n",
       "      <th>city_São Paulo</th>\n",
       "      <th>animal_not acept</th>\n",
       "      <th>furniture_not furnished</th>\n",
       "    </tr>\n",
       "  </thead>\n",
       "  <tbody>\n",
       "    <tr>\n",
       "      <th>0</th>\n",
       "      <td>70</td>\n",
       "      <td>2</td>\n",
       "      <td>1</td>\n",
       "      <td>1</td>\n",
       "      <td>7</td>\n",
       "      <td>2065</td>\n",
       "      <td>3300</td>\n",
       "      <td>211</td>\n",
       "      <td>42</td>\n",
       "      <td>5618</td>\n",
       "      <td>0</td>\n",
       "      <td>0</td>\n",
       "      <td>0</td>\n",
       "      <td>1</td>\n",
       "      <td>0</td>\n",
       "      <td>0</td>\n",
       "    </tr>\n",
       "    <tr>\n",
       "      <th>1</th>\n",
       "      <td>320</td>\n",
       "      <td>4</td>\n",
       "      <td>4</td>\n",
       "      <td>0</td>\n",
       "      <td>20</td>\n",
       "      <td>1200</td>\n",
       "      <td>4960</td>\n",
       "      <td>1750</td>\n",
       "      <td>63</td>\n",
       "      <td>7973</td>\n",
       "      <td>0</td>\n",
       "      <td>0</td>\n",
       "      <td>0</td>\n",
       "      <td>1</td>\n",
       "      <td>0</td>\n",
       "      <td>1</td>\n",
       "    </tr>\n",
       "    <tr>\n",
       "      <th>2</th>\n",
       "      <td>80</td>\n",
       "      <td>1</td>\n",
       "      <td>1</td>\n",
       "      <td>1</td>\n",
       "      <td>6</td>\n",
       "      <td>1000</td>\n",
       "      <td>2800</td>\n",
       "      <td>0</td>\n",
       "      <td>41</td>\n",
       "      <td>3841</td>\n",
       "      <td>0</td>\n",
       "      <td>1</td>\n",
       "      <td>0</td>\n",
       "      <td>0</td>\n",
       "      <td>0</td>\n",
       "      <td>1</td>\n",
       "    </tr>\n",
       "    <tr>\n",
       "      <th>3</th>\n",
       "      <td>51</td>\n",
       "      <td>2</td>\n",
       "      <td>1</td>\n",
       "      <td>0</td>\n",
       "      <td>2</td>\n",
       "      <td>270</td>\n",
       "      <td>1112</td>\n",
       "      <td>22</td>\n",
       "      <td>17</td>\n",
       "      <td>1421</td>\n",
       "      <td>0</td>\n",
       "      <td>1</td>\n",
       "      <td>0</td>\n",
       "      <td>0</td>\n",
       "      <td>0</td>\n",
       "      <td>1</td>\n",
       "    </tr>\n",
       "    <tr>\n",
       "      <th>4</th>\n",
       "      <td>25</td>\n",
       "      <td>1</td>\n",
       "      <td>1</td>\n",
       "      <td>0</td>\n",
       "      <td>1</td>\n",
       "      <td>0</td>\n",
       "      <td>800</td>\n",
       "      <td>25</td>\n",
       "      <td>11</td>\n",
       "      <td>836</td>\n",
       "      <td>0</td>\n",
       "      <td>0</td>\n",
       "      <td>0</td>\n",
       "      <td>1</td>\n",
       "      <td>1</td>\n",
       "      <td>1</td>\n",
       "    </tr>\n",
       "    <tr>\n",
       "      <th>...</th>\n",
       "      <td>...</td>\n",
       "      <td>...</td>\n",
       "      <td>...</td>\n",
       "      <td>...</td>\n",
       "      <td>...</td>\n",
       "      <td>...</td>\n",
       "      <td>...</td>\n",
       "      <td>...</td>\n",
       "      <td>...</td>\n",
       "      <td>...</td>\n",
       "      <td>...</td>\n",
       "      <td>...</td>\n",
       "      <td>...</td>\n",
       "      <td>...</td>\n",
       "      <td>...</td>\n",
       "      <td>...</td>\n",
       "    </tr>\n",
       "    <tr>\n",
       "      <th>8226</th>\n",
       "      <td>150</td>\n",
       "      <td>3</td>\n",
       "      <td>3</td>\n",
       "      <td>2</td>\n",
       "      <td>8</td>\n",
       "      <td>0</td>\n",
       "      <td>13500</td>\n",
       "      <td>0</td>\n",
       "      <td>172</td>\n",
       "      <td>13670</td>\n",
       "      <td>0</td>\n",
       "      <td>0</td>\n",
       "      <td>0</td>\n",
       "      <td>1</td>\n",
       "      <td>1</td>\n",
       "      <td>0</td>\n",
       "    </tr>\n",
       "    <tr>\n",
       "      <th>8227</th>\n",
       "      <td>63</td>\n",
       "      <td>2</td>\n",
       "      <td>1</td>\n",
       "      <td>1</td>\n",
       "      <td>5</td>\n",
       "      <td>402</td>\n",
       "      <td>1478</td>\n",
       "      <td>24</td>\n",
       "      <td>22</td>\n",
       "      <td>1926</td>\n",
       "      <td>0</td>\n",
       "      <td>1</td>\n",
       "      <td>0</td>\n",
       "      <td>0</td>\n",
       "      <td>1</td>\n",
       "      <td>0</td>\n",
       "    </tr>\n",
       "    <tr>\n",
       "      <th>8228</th>\n",
       "      <td>285</td>\n",
       "      <td>4</td>\n",
       "      <td>4</td>\n",
       "      <td>4</td>\n",
       "      <td>17</td>\n",
       "      <td>3100</td>\n",
       "      <td>15000</td>\n",
       "      <td>973</td>\n",
       "      <td>191</td>\n",
       "      <td>19260</td>\n",
       "      <td>0</td>\n",
       "      <td>0</td>\n",
       "      <td>0</td>\n",
       "      <td>1</td>\n",
       "      <td>0</td>\n",
       "      <td>1</td>\n",
       "    </tr>\n",
       "    <tr>\n",
       "      <th>8229</th>\n",
       "      <td>70</td>\n",
       "      <td>3</td>\n",
       "      <td>3</td>\n",
       "      <td>0</td>\n",
       "      <td>8</td>\n",
       "      <td>980</td>\n",
       "      <td>6000</td>\n",
       "      <td>332</td>\n",
       "      <td>78</td>\n",
       "      <td>7390</td>\n",
       "      <td>0</td>\n",
       "      <td>0</td>\n",
       "      <td>1</td>\n",
       "      <td>0</td>\n",
       "      <td>1</td>\n",
       "      <td>0</td>\n",
       "    </tr>\n",
       "    <tr>\n",
       "      <th>8230</th>\n",
       "      <td>120</td>\n",
       "      <td>2</td>\n",
       "      <td>2</td>\n",
       "      <td>2</td>\n",
       "      <td>8</td>\n",
       "      <td>1585</td>\n",
       "      <td>12000</td>\n",
       "      <td>279</td>\n",
       "      <td>155</td>\n",
       "      <td>14020</td>\n",
       "      <td>0</td>\n",
       "      <td>0</td>\n",
       "      <td>1</td>\n",
       "      <td>0</td>\n",
       "      <td>0</td>\n",
       "      <td>0</td>\n",
       "    </tr>\n",
       "  </tbody>\n",
       "</table>\n",
       "<p>8231 rows × 16 columns</p>\n",
       "</div>"
      ],
      "text/plain": [
       "      area  rooms  bathroom  parking_spaces  floor   hoa  rent_amount  \\\n",
       "0       70      2         1               1      7  2065         3300   \n",
       "1      320      4         4               0     20  1200         4960   \n",
       "2       80      1         1               1      6  1000         2800   \n",
       "3       51      2         1               0      2   270         1112   \n",
       "4       25      1         1               0      1     0          800   \n",
       "...    ...    ...       ...             ...    ...   ...          ...   \n",
       "8226   150      3         3               2      8     0        13500   \n",
       "8227    63      2         1               1      5   402         1478   \n",
       "8228   285      4         4               4     17  3100        15000   \n",
       "8229    70      3         3               0      8   980         6000   \n",
       "8230   120      2         2               2      8  1585        12000   \n",
       "\n",
       "      property_tax  fire_insurance  total  city_Campinas  city_Porto Alegre  \\\n",
       "0              211              42   5618              0                  0   \n",
       "1             1750              63   7973              0                  0   \n",
       "2                0              41   3841              0                  1   \n",
       "3               22              17   1421              0                  1   \n",
       "4               25              11    836              0                  0   \n",
       "...            ...             ...    ...            ...                ...   \n",
       "8226             0             172  13670              0                  0   \n",
       "8227            24              22   1926              0                  1   \n",
       "8228           973             191  19260              0                  0   \n",
       "8229           332              78   7390              0                  0   \n",
       "8230           279             155  14020              0                  0   \n",
       "\n",
       "      city_Rio de Janeiro  city_São Paulo  animal_not acept  \\\n",
       "0                       0               1                 0   \n",
       "1                       0               1                 0   \n",
       "2                       0               0                 0   \n",
       "3                       0               0                 0   \n",
       "4                       0               1                 1   \n",
       "...                   ...             ...               ...   \n",
       "8226                    0               1                 1   \n",
       "8227                    0               0                 1   \n",
       "8228                    0               1                 0   \n",
       "8229                    1               0                 1   \n",
       "8230                    1               0                 0   \n",
       "\n",
       "      furniture_not furnished  \n",
       "0                           0  \n",
       "1                           1  \n",
       "2                           1  \n",
       "3                           1  \n",
       "4                           1  \n",
       "...                       ...  \n",
       "8226                        0  \n",
       "8227                        0  \n",
       "8228                        1  \n",
       "8229                        0  \n",
       "8230                        0  \n",
       "\n",
       "[8231 rows x 16 columns]"
      ]
     },
     "execution_count": 19,
     "metadata": {},
     "output_type": "execute_result"
    }
   ],
   "source": [
    "data_ohe"
   ]
  },
  {
   "cell_type": "markdown",
   "id": "2f1783d9",
   "metadata": {},
   "source": [
    "## Разделение данных на обучающую и тестовую выборки"
   ]
  },
  {
   "cell_type": "markdown",
   "id": "20db3d3b",
   "metadata": {},
   "source": [
    "Выделим из датасета целевой признак и параметры, также исключим из датасета те столбцы, которые сильно коррелируют между собой"
   ]
  },
  {
   "cell_type": "code",
   "execution_count": 20,
   "id": "137bb423",
   "metadata": {},
   "outputs": [],
   "source": [
    "features = data_ohe.drop(['total', 'rent_amount', 'bathroom'], axis=1)\n",
    "target = data_ohe['total']"
   ]
  },
  {
   "cell_type": "code",
   "execution_count": 21,
   "id": "4e7a4432",
   "metadata": {},
   "outputs": [],
   "source": [
    "features_train, features_test, target_train, target_test = train_test_split(features,\n",
    "                                                                             target,\n",
    "                                                                             test_size=0.25,\n",
    "                                                                             random_state=1)"
   ]
  },
  {
   "cell_type": "code",
   "execution_count": 22,
   "id": "48928f94",
   "metadata": {},
   "outputs": [
    {
     "name": "stdout",
     "output_type": "stream",
     "text": [
      "(6173, 13) (2058, 13)\n"
     ]
    }
   ],
   "source": [
    "print(features_train.shape, features_test.shape)"
   ]
  },
  {
   "cell_type": "code",
   "execution_count": 23,
   "id": "7ac53d06",
   "metadata": {},
   "outputs": [
    {
     "name": "stdout",
     "output_type": "stream",
     "text": [
      "(6173,) (2058,)\n"
     ]
    }
   ],
   "source": [
    "print(target_train.shape, target_test.shape)"
   ]
  },
  {
   "cell_type": "markdown",
   "id": "894a40bd",
   "metadata": {},
   "source": [
    "## Обучение моделей"
   ]
  },
  {
   "cell_type": "markdown",
   "id": "94a78429",
   "metadata": {},
   "source": [
    "### Обучение модели решающего дерева"
   ]
  },
  {
   "cell_type": "code",
   "execution_count": 24,
   "id": "84e36540",
   "metadata": {},
   "outputs": [],
   "source": [
    "model_DT = DecisionTreeRegressor(random_state=1, max_depth=10)"
   ]
  },
  {
   "cell_type": "code",
   "execution_count": 25,
   "id": "f55c131c",
   "metadata": {},
   "outputs": [
    {
     "name": "stdout",
     "output_type": "stream",
     "text": [
      "CPU times: user 21.1 ms, sys: 92 µs, total: 21.2 ms\n",
      "Wall time: 21 ms\n"
     ]
    },
    {
     "data": {
      "text/plain": [
       "DecisionTreeRegressor(max_depth=10, random_state=1)"
      ]
     },
     "execution_count": 25,
     "metadata": {},
     "output_type": "execute_result"
    }
   ],
   "source": [
    "%%time\n",
    "model_DT.fit(features_train, target_train)"
   ]
  },
  {
   "cell_type": "code",
   "execution_count": 26,
   "id": "9e1801a5",
   "metadata": {},
   "outputs": [],
   "source": [
    "predictions_DT = model_DT.predict(features_test)"
   ]
  },
  {
   "cell_type": "code",
   "execution_count": 27,
   "id": "990dbd26",
   "metadata": {},
   "outputs": [
    {
     "name": "stdout",
     "output_type": "stream",
     "text": [
      "Decision Tree: 332.5153566973952\n"
     ]
    }
   ],
   "source": [
    "print('Decision Tree:', mean_absolute_error(target_test, predictions_DT))"
   ]
  },
  {
   "cell_type": "markdown",
   "id": "71b0d9bd",
   "metadata": {},
   "source": [
    "### Обучение модели градиентного бустинга"
   ]
  },
  {
   "cell_type": "code",
   "execution_count": 28,
   "id": "d426e2e1",
   "metadata": {},
   "outputs": [],
   "source": [
    "model = XGBRegressor(objective='reg:squarederror')"
   ]
  },
  {
   "cell_type": "code",
   "execution_count": 29,
   "id": "f01450c9",
   "metadata": {},
   "outputs": [],
   "source": [
    "cv = RepeatedKFold(n_splits=10, n_repeats=3, random_state=1)\n",
    "n_scores = cross_val_score(model, features, target, scoring='neg_mean_absolute_error', cv=cv, n_jobs=-1, error_score='raise')"
   ]
  },
  {
   "cell_type": "code",
   "execution_count": 30,
   "id": "1f23b6f3",
   "metadata": {},
   "outputs": [
    {
     "name": "stdout",
     "output_type": "stream",
     "text": [
      "MAE (Средняя Абсолютная Ошибка): -181.386 (126.665)\n"
     ]
    }
   ],
   "source": [
    "print('MAE (Средняя Абсолютная Ошибка): %.3f (%.3f)' % (np.mean(n_scores), np.std(n_scores)))"
   ]
  },
  {
   "cell_type": "code",
   "execution_count": 31,
   "id": "c9a8273d",
   "metadata": {},
   "outputs": [],
   "source": [
    "model = XGBRegressor(objective='reg:squarederror')"
   ]
  },
  {
   "cell_type": "code",
   "execution_count": 32,
   "id": "fe6c9c48",
   "metadata": {},
   "outputs": [
    {
     "name": "stdout",
     "output_type": "stream",
     "text": [
      "CPU times: user 2.82 s, sys: 216 ms, total: 3.03 s\n",
      "Wall time: 915 ms\n"
     ]
    },
    {
     "data": {
      "text/plain": [
       "XGBRegressor(base_score=0.5, booster='gbtree', callbacks=None,\n",
       "             colsample_bylevel=1, colsample_bynode=1, colsample_bytree=1,\n",
       "             early_stopping_rounds=None, enable_categorical=False,\n",
       "             eval_metric=None, gamma=0, gpu_id=-1, grow_policy='depthwise',\n",
       "             importance_type=None, interaction_constraints='',\n",
       "             learning_rate=0.300000012, max_bin=256, max_cat_to_onehot=4,\n",
       "             max_delta_step=0, max_depth=6, max_leaves=0, min_child_weight=1,\n",
       "             missing=nan, monotone_constraints='()', n_estimators=100, n_jobs=0,\n",
       "             num_parallel_tree=1, predictor='auto', random_state=0, reg_alpha=0,\n",
       "             reg_lambda=1, ...)"
      ]
     },
     "execution_count": 32,
     "metadata": {},
     "output_type": "execute_result"
    }
   ],
   "source": [
    "%%time\n",
    "model.fit(features_train, target_train)"
   ]
  },
  {
   "cell_type": "code",
   "execution_count": 33,
   "id": "0ae0ec23",
   "metadata": {},
   "outputs": [],
   "source": [
    "predictions_GB = model.predict(features_test)"
   ]
  },
  {
   "cell_type": "code",
   "execution_count": 34,
   "id": "db6a6c7f",
   "metadata": {},
   "outputs": [
    {
     "name": "stdout",
     "output_type": "stream",
     "text": [
      "Gradient boosting: 137.5728101368896\n"
     ]
    }
   ],
   "source": [
    "print('Gradient boosting:', mean_absolute_error(target_test, predictions_GB))"
   ]
  },
  {
   "cell_type": "markdown",
   "id": "0ec0d2dd",
   "metadata": {},
   "source": [
    "## Подбор гиперпараметров"
   ]
  },
  {
   "cell_type": "markdown",
   "id": "1c0770a7",
   "metadata": {},
   "source": [
    "### Гиперпараметры модели дерева решений"
   ]
  },
  {
   "cell_type": "code",
   "execution_count": 35,
   "id": "59ba4a6e",
   "metadata": {},
   "outputs": [
    {
     "data": {
      "text/plain": [
       "[{'max_depth': array([ 1,  3,  5,  7,  9, 11, 13, 15, 17, 19, 21, 23, 25, 27, 29, 31, 33,\n",
       "         35, 37, 39])}]"
      ]
     },
     "execution_count": 35,
     "metadata": {},
     "output_type": "execute_result"
    }
   ],
   "source": [
    "n_range = np.array(range(1, 41, 2))\n",
    "tuned_parametrs = [{'max_depth' : n_range}]\n",
    "tuned_parametrs"
   ]
  },
  {
   "cell_type": "code",
   "execution_count": 36,
   "id": "87cd4985",
   "metadata": {},
   "outputs": [
    {
     "name": "stdout",
     "output_type": "stream",
     "text": [
      "CPU times: user 3.71 s, sys: 0 ns, total: 3.71 s\n",
      "Wall time: 3.71 s\n"
     ]
    },
    {
     "data": {
      "text/plain": [
       "GridSearchCV(cv=5, estimator=DecisionTreeRegressor(random_state=1),\n",
       "             param_grid=[{'max_depth': array([ 1,  3,  5,  7,  9, 11, 13, 15, 17, 19, 21, 23, 25, 27, 29, 31, 33,\n",
       "       35, 37, 39])}],\n",
       "             scoring='neg_mean_absolute_error')"
      ]
     },
     "execution_count": 36,
     "metadata": {},
     "output_type": "execute_result"
    }
   ],
   "source": [
    "%%time\n",
    "\n",
    "tuned_DT = GridSearchCV(DecisionTreeRegressor(random_state=1), tuned_parametrs, cv=5, scoring='neg_mean_absolute_error')\n",
    "tuned_DT.fit(features, target)"
   ]
  },
  {
   "cell_type": "code",
   "execution_count": 37,
   "id": "a9f76cf3",
   "metadata": {
    "scrolled": true
   },
   "outputs": [
    {
     "data": {
      "text/plain": [
       "{'max_depth': 27}"
      ]
     },
     "execution_count": 37,
     "metadata": {},
     "output_type": "execute_result"
    }
   ],
   "source": [
    "tuned_DT.best_params_"
   ]
  },
  {
   "cell_type": "markdown",
   "id": "6e6fd1c7",
   "metadata": {},
   "source": [
    "### Гиперпараметры модели градиентного бустинга"
   ]
  },
  {
   "cell_type": "code",
   "execution_count": 38,
   "id": "e23c48a9",
   "metadata": {},
   "outputs": [],
   "source": [
    "param_test = {\n",
    "'gamma':[0, 0.3, 0.4, 0.5],\n",
    "'subsample':[0, 0.3, 0.5, 0.7, 0.9],\n",
    "'reg_lambda':[1,5,10],\n",
    "'max_depth':[1, 3, 5],\n",
    "'colsample_bytree' : [0.2, 0.4, 0.8, 1]}"
   ]
  },
  {
   "cell_type": "code",
   "execution_count": null,
   "id": "ac53bc7e",
   "metadata": {},
   "outputs": [],
   "source": [
    "%%time\n",
    "\n",
    "tuned_GB = GridSearchCV(XGBRegressor(objective='reg:squarederror'), param_grid = param_test, scoring='neg_mean_squared_error', cv=5 )\n",
    "tuned_GB.fit(features, target)"
   ]
  },
  {
   "cell_type": "code",
   "execution_count": null,
   "id": "5ffbfa1d",
   "metadata": {},
   "outputs": [],
   "source": [
    "tuned_GB.best_params_"
   ]
  },
  {
   "cell_type": "markdown",
   "id": "0a68d461",
   "metadata": {},
   "source": [
    "### Обучение оптимальных моделей"
   ]
  },
  {
   "cell_type": "markdown",
   "id": "d5577da8",
   "metadata": {},
   "source": [
    "#### Дерево решений"
   ]
  },
  {
   "cell_type": "code",
   "execution_count": null,
   "id": "c4507e2f",
   "metadata": {},
   "outputs": [],
   "source": [
    "tuned_DT.best_estimator_.fit(features_train, target_train)"
   ]
  },
  {
   "cell_type": "code",
   "execution_count": null,
   "id": "19de3eed",
   "metadata": {},
   "outputs": [],
   "source": [
    "predictions_DT_tuned_train = tuned_DT.best_estimator_.predict(features_train)\n",
    "predictions_DT_tuned_test = tuned_DT.best_estimator_.predict(features_test)"
   ]
  },
  {
   "cell_type": "markdown",
   "id": "37abff1c",
   "metadata": {},
   "source": [
    "#### Градиентный бустинг"
   ]
  },
  {
   "cell_type": "code",
   "execution_count": null,
   "id": "c3107ec8",
   "metadata": {},
   "outputs": [],
   "source": [
    "tuned_GB.best_estimator_.fit(features_train, target_train)"
   ]
  },
  {
   "cell_type": "code",
   "execution_count": null,
   "id": "c97e5388",
   "metadata": {},
   "outputs": [],
   "source": [
    "predictions_GB_tuned_train = tuned_GB.best_estimator_.predict(features_train)\n",
    "predictions_GB_tuned_test = tuned_GB.best_estimator_.predict(features_test)"
   ]
  },
  {
   "cell_type": "markdown",
   "id": "cffa0953",
   "metadata": {},
   "source": [
    "## Оценка качества полученных моделей"
   ]
  },
  {
   "cell_type": "markdown",
   "id": "0097849f",
   "metadata": {},
   "source": [
    "Для оценки качестве полученных моделей использовались стандартные метрики качества для задачи регрессии: MAE, MSE, RMSE, R2."
   ]
  },
  {
   "cell_type": "code",
   "execution_count": null,
   "id": "50b92eb5",
   "metadata": {},
   "outputs": [],
   "source": [
    "mae_dict = {}\n",
    "mse_dict = {}\n",
    "rmse_dict = {}\n",
    "r2_dict = {}"
   ]
  },
  {
   "cell_type": "code",
   "execution_count": null,
   "id": "798d4370",
   "metadata": {},
   "outputs": [],
   "source": [
    "mae_dict = {'Gradient boosting' : mean_absolute_error(target_test, predictions_GB_tuned_test),\n",
    "            'Decision Tree' : mean_absolute_error(target_test, predictions_DT_tuned_test)}\n",
    "mae_dict"
   ]
  },
  {
   "cell_type": "code",
   "execution_count": null,
   "id": "89b84742",
   "metadata": {},
   "outputs": [],
   "source": [
    "mse_dict = {'Gradient boosting' :  mean_squared_error(target_test, predictions_GB_tuned_test),\n",
    "            'Decision Tree' : mean_squared_error(target_test, predictions_DT_tuned_test)}\n",
    "mse_dict"
   ]
  },
  {
   "cell_type": "code",
   "execution_count": null,
   "id": "c7547649",
   "metadata": {},
   "outputs": [],
   "source": [
    "rmse_dict = {'Gradient boosting' : mean_squared_error(target_test, predictions_GB_tuned_test, squared=False),\n",
    "             'Decision Tree' : mean_squared_error(target_test, predictions_DT_tuned_test, squared=False)}\n",
    "rmse_dict"
   ]
  },
  {
   "cell_type": "code",
   "execution_count": null,
   "id": "1c3766b6",
   "metadata": {},
   "outputs": [],
   "source": [
    "r2_dict = {'Gradient boosting' : r2_score(target_test, predictions_GB_tuned_test),\n",
    "           'Decision Tree' : r2_score(target_test, predictions_DT_tuned_test)}\n",
    "r2_dict"
   ]
  },
  {
   "cell_type": "code",
   "execution_count": null,
   "id": "c819f555",
   "metadata": {},
   "outputs": [],
   "source": [
    "plt.bar(mae_dict.keys(), mae_dict.values(), color='g')"
   ]
  },
  {
   "cell_type": "code",
   "execution_count": null,
   "id": "0da94ef3",
   "metadata": {},
   "outputs": [],
   "source": [
    "plt.bar(mse_dict.keys(), mse_dict.values(), color='g')"
   ]
  },
  {
   "cell_type": "code",
   "execution_count": null,
   "id": "d3403df8",
   "metadata": {},
   "outputs": [],
   "source": [
    "plt.bar(rmse_dict.keys(), rmse_dict.values(), color='g')"
   ]
  },
  {
   "cell_type": "code",
   "execution_count": null,
   "id": "333c43be",
   "metadata": {},
   "outputs": [],
   "source": [
    "plt.bar(r2_dict.keys(), r2_dict.values(), color='g')"
   ]
  },
  {
   "cell_type": "markdown",
   "id": "ffb373bc",
   "metadata": {},
   "source": [
    "## Выводы"
   ]
  },
  {
   "cell_type": "markdown",
   "id": "aaff9bcb",
   "metadata": {},
   "source": [
    "Обе полученные модели обладают достаточно неплохим качеством, что хорошо видно на значениях метрик, в плане точности предсказаний лучше себя проявила модель Градиентного бустинга, однако в скорости обучения гораздо сильнее, что логично, выиграла модель Решающего дерева, при это частично проиграв в качестве предсказаний."
   ]
  },
  {
   "cell_type": "code",
   "execution_count": null,
   "id": "b9298099",
   "metadata": {},
   "outputs": [],
   "source": []
  },
  {
   "cell_type": "code",
   "execution_count": null,
   "id": "44c9f1eb",
   "metadata": {},
   "outputs": [],
   "source": []
  }
 ],
 "metadata": {
  "kernelspec": {
   "display_name": "Python 3 (ipykernel)",
   "language": "python",
   "name": "python3"
  },
  "language_info": {
   "codemirror_mode": {
    "name": "ipython",
    "version": 3
   },
   "file_extension": ".py",
   "mimetype": "text/x-python",
   "name": "python",
   "nbconvert_exporter": "python",
   "pygments_lexer": "ipython3",
   "version": "3.8.10"
  },
  "toc": {
   "base_numbering": 1,
   "nav_menu": {},
   "number_sections": true,
   "sideBar": true,
   "skip_h1_title": false,
   "title_cell": "Table of Contents",
   "title_sidebar": "Contents",
   "toc_cell": false,
   "toc_position": {},
   "toc_section_display": true,
   "toc_window_display": true
  }
 },
 "nbformat": 4,
 "nbformat_minor": 5
}
